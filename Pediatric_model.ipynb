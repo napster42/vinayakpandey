{
  "cells": [
    {
      "cell_type": "markdown",
      "metadata": {
        "id": "view-in-github",
        "colab_type": "text"
      },
      "source": [
        "<a href=\"https://colab.research.google.com/github/napster42/vinayakpandey/blob/main/Pediatric_model.ipynb\" target=\"_parent\"><img src=\"https://colab.research.google.com/assets/colab-badge.svg\" alt=\"Open In Colab\"/></a>"
      ]
    },
    {
      "cell_type": "markdown",
      "metadata": {
        "id": "TZCTyQRdlZgV"
      },
      "source": [
        "#Data Exploration"
      ]
    },
    {
      "cell_type": "code",
      "execution_count": null,
      "metadata": {
        "id": "0jThWTJFDcnk"
      },
      "outputs": [],
      "source": [
        "import pandas as pd\n",
        "import numpy as np\n",
        "import matplotlib.pyplot as plt\n",
        "import seaborn as sns"
      ]
    },
    {
      "cell_type": "code",
      "execution_count": null,
      "metadata": {
        "id": "-yIGLMwGcPza"
      },
      "outputs": [],
      "source": [
        "df = pd.read_csv(\"/content/drive/MyDrive/Dataset/Pediatric_dataset/ped_df.csv\")"
      ]
    },
    {
      "cell_type": "code",
      "execution_count": null,
      "metadata": {
        "colab": {
          "base_uri": "https://localhost:8080/",
          "height": 206
        },
        "id": "eYZJnT1NuKDx",
        "outputId": "a7499511-b4f0-4517-f778-03cda22d04b5"
      },
      "outputs": [
        {
          "output_type": "execute_result",
          "data": {
            "text/plain": [
              "   Unnamed: 0            Images                    Labels  PatientID  Age  \\\n",
              "0        2031  00000522_000.png  Atelectasis|Infiltration        522   17   \n",
              "1        2032  00000522_001.png                No Finding        522   18   \n",
              "2        2033  00000522_002.png                No Finding        522   18   \n",
              "3        2034  00000522_003.png                No Finding        522   18   \n",
              "4        2146  00000564_000.png                No Finding        564   16   \n",
              "\n",
              "  Gender ViewPosition  \n",
              "0      M           AP  \n",
              "1      M           AP  \n",
              "2      M           AP  \n",
              "3      M           AP  \n",
              "4      M           PA  "
            ],
            "text/html": [
              "\n",
              "  <div id=\"df-3224bdc9-4661-46e2-a1f5-d7f04692ad7a\">\n",
              "    <div class=\"colab-df-container\">\n",
              "      <div>\n",
              "<style scoped>\n",
              "    .dataframe tbody tr th:only-of-type {\n",
              "        vertical-align: middle;\n",
              "    }\n",
              "\n",
              "    .dataframe tbody tr th {\n",
              "        vertical-align: top;\n",
              "    }\n",
              "\n",
              "    .dataframe thead th {\n",
              "        text-align: right;\n",
              "    }\n",
              "</style>\n",
              "<table border=\"1\" class=\"dataframe\">\n",
              "  <thead>\n",
              "    <tr style=\"text-align: right;\">\n",
              "      <th></th>\n",
              "      <th>Unnamed: 0</th>\n",
              "      <th>Images</th>\n",
              "      <th>Labels</th>\n",
              "      <th>PatientID</th>\n",
              "      <th>Age</th>\n",
              "      <th>Gender</th>\n",
              "      <th>ViewPosition</th>\n",
              "    </tr>\n",
              "  </thead>\n",
              "  <tbody>\n",
              "    <tr>\n",
              "      <th>0</th>\n",
              "      <td>2031</td>\n",
              "      <td>00000522_000.png</td>\n",
              "      <td>Atelectasis|Infiltration</td>\n",
              "      <td>522</td>\n",
              "      <td>17</td>\n",
              "      <td>M</td>\n",
              "      <td>AP</td>\n",
              "    </tr>\n",
              "    <tr>\n",
              "      <th>1</th>\n",
              "      <td>2032</td>\n",
              "      <td>00000522_001.png</td>\n",
              "      <td>No Finding</td>\n",
              "      <td>522</td>\n",
              "      <td>18</td>\n",
              "      <td>M</td>\n",
              "      <td>AP</td>\n",
              "    </tr>\n",
              "    <tr>\n",
              "      <th>2</th>\n",
              "      <td>2033</td>\n",
              "      <td>00000522_002.png</td>\n",
              "      <td>No Finding</td>\n",
              "      <td>522</td>\n",
              "      <td>18</td>\n",
              "      <td>M</td>\n",
              "      <td>AP</td>\n",
              "    </tr>\n",
              "    <tr>\n",
              "      <th>3</th>\n",
              "      <td>2034</td>\n",
              "      <td>00000522_003.png</td>\n",
              "      <td>No Finding</td>\n",
              "      <td>522</td>\n",
              "      <td>18</td>\n",
              "      <td>M</td>\n",
              "      <td>AP</td>\n",
              "    </tr>\n",
              "    <tr>\n",
              "      <th>4</th>\n",
              "      <td>2146</td>\n",
              "      <td>00000564_000.png</td>\n",
              "      <td>No Finding</td>\n",
              "      <td>564</td>\n",
              "      <td>16</td>\n",
              "      <td>M</td>\n",
              "      <td>PA</td>\n",
              "    </tr>\n",
              "  </tbody>\n",
              "</table>\n",
              "</div>\n",
              "      <button class=\"colab-df-convert\" onclick=\"convertToInteractive('df-3224bdc9-4661-46e2-a1f5-d7f04692ad7a')\"\n",
              "              title=\"Convert this dataframe to an interactive table.\"\n",
              "              style=\"display:none;\">\n",
              "        \n",
              "  <svg xmlns=\"http://www.w3.org/2000/svg\" height=\"24px\"viewBox=\"0 0 24 24\"\n",
              "       width=\"24px\">\n",
              "    <path d=\"M0 0h24v24H0V0z\" fill=\"none\"/>\n",
              "    <path d=\"M18.56 5.44l.94 2.06.94-2.06 2.06-.94-2.06-.94-.94-2.06-.94 2.06-2.06.94zm-11 1L8.5 8.5l.94-2.06 2.06-.94-2.06-.94L8.5 2.5l-.94 2.06-2.06.94zm10 10l.94 2.06.94-2.06 2.06-.94-2.06-.94-.94-2.06-.94 2.06-2.06.94z\"/><path d=\"M17.41 7.96l-1.37-1.37c-.4-.4-.92-.59-1.43-.59-.52 0-1.04.2-1.43.59L10.3 9.45l-7.72 7.72c-.78.78-.78 2.05 0 2.83L4 21.41c.39.39.9.59 1.41.59.51 0 1.02-.2 1.41-.59l7.78-7.78 2.81-2.81c.8-.78.8-2.07 0-2.86zM5.41 20L4 18.59l7.72-7.72 1.47 1.35L5.41 20z\"/>\n",
              "  </svg>\n",
              "      </button>\n",
              "      \n",
              "  <style>\n",
              "    .colab-df-container {\n",
              "      display:flex;\n",
              "      flex-wrap:wrap;\n",
              "      gap: 12px;\n",
              "    }\n",
              "\n",
              "    .colab-df-convert {\n",
              "      background-color: #E8F0FE;\n",
              "      border: none;\n",
              "      border-radius: 50%;\n",
              "      cursor: pointer;\n",
              "      display: none;\n",
              "      fill: #1967D2;\n",
              "      height: 32px;\n",
              "      padding: 0 0 0 0;\n",
              "      width: 32px;\n",
              "    }\n",
              "\n",
              "    .colab-df-convert:hover {\n",
              "      background-color: #E2EBFA;\n",
              "      box-shadow: 0px 1px 2px rgba(60, 64, 67, 0.3), 0px 1px 3px 1px rgba(60, 64, 67, 0.15);\n",
              "      fill: #174EA6;\n",
              "    }\n",
              "\n",
              "    [theme=dark] .colab-df-convert {\n",
              "      background-color: #3B4455;\n",
              "      fill: #D2E3FC;\n",
              "    }\n",
              "\n",
              "    [theme=dark] .colab-df-convert:hover {\n",
              "      background-color: #434B5C;\n",
              "      box-shadow: 0px 1px 3px 1px rgba(0, 0, 0, 0.15);\n",
              "      filter: drop-shadow(0px 1px 2px rgba(0, 0, 0, 0.3));\n",
              "      fill: #FFFFFF;\n",
              "    }\n",
              "  </style>\n",
              "\n",
              "      <script>\n",
              "        const buttonEl =\n",
              "          document.querySelector('#df-3224bdc9-4661-46e2-a1f5-d7f04692ad7a button.colab-df-convert');\n",
              "        buttonEl.style.display =\n",
              "          google.colab.kernel.accessAllowed ? 'block' : 'none';\n",
              "\n",
              "        async function convertToInteractive(key) {\n",
              "          const element = document.querySelector('#df-3224bdc9-4661-46e2-a1f5-d7f04692ad7a');\n",
              "          const dataTable =\n",
              "            await google.colab.kernel.invokeFunction('convertToInteractive',\n",
              "                                                     [key], {});\n",
              "          if (!dataTable) return;\n",
              "\n",
              "          const docLinkHtml = 'Like what you see? Visit the ' +\n",
              "            '<a target=\"_blank\" href=https://colab.research.google.com/notebooks/data_table.ipynb>data table notebook</a>'\n",
              "            + ' to learn more about interactive tables.';\n",
              "          element.innerHTML = '';\n",
              "          dataTable['output_type'] = 'display_data';\n",
              "          await google.colab.output.renderOutput(dataTable, element);\n",
              "          const docLink = document.createElement('div');\n",
              "          docLink.innerHTML = docLinkHtml;\n",
              "          element.appendChild(docLink);\n",
              "        }\n",
              "      </script>\n",
              "    </div>\n",
              "  </div>\n",
              "  "
            ]
          },
          "metadata": {},
          "execution_count": 4
        }
      ],
      "source": [
        "df.head()"
      ]
    },
    {
      "cell_type": "code",
      "source": [
        "df['Labels'][1]"
      ],
      "metadata": {
        "colab": {
          "base_uri": "https://localhost:8080/",
          "height": 35
        },
        "id": "3cx8x7B2LMeo",
        "outputId": "d4b19e44-92cb-4358-b0b2-65025f2f0fa5"
      },
      "execution_count": null,
      "outputs": [
        {
          "output_type": "execute_result",
          "data": {
            "text/plain": [
              "'No Finding'"
            ],
            "application/vnd.google.colaboratory.intrinsic+json": {
              "type": "string"
            }
          },
          "metadata": {},
          "execution_count": 7
        }
      ]
    },
    {
      "cell_type": "code",
      "source": [
        " for i in df['Labels']:\n",
        "   if i.find('|')!=-1:\n",
        "     x = i[0:i.index('|')].strip()\n",
        "     df['Labels'][i]=x"
      ],
      "metadata": {
        "id": "lJch9YKLDvsH",
        "colab": {
          "base_uri": "https://localhost:8080/"
        },
        "outputId": "834ede6c-1b57-40fb-9ca5-ae18eb62b29f"
      },
      "execution_count": null,
      "outputs": [
        {
          "output_type": "stream",
          "name": "stderr",
          "text": [
            "/usr/local/lib/python3.7/dist-packages/ipykernel_launcher.py:4: SettingWithCopyWarning: \n",
            "A value is trying to be set on a copy of a slice from a DataFrame\n",
            "\n",
            "See the caveats in the documentation: https://pandas.pydata.org/pandas-docs/stable/user_guide/indexing.html#returning-a-view-versus-a-copy\n",
            "  after removing the cwd from sys.path.\n"
          ]
        },
        {
          "output_type": "stream",
          "name": "stdout",
          "text": [
            "0       Atelectasis|Infiltration\n",
            "1                     No Finding\n",
            "2                     No Finding\n",
            "3                     No Finding\n",
            "4                     No Finding\n",
            "                  ...           \n",
            "6095                  No Finding\n",
            "6096                  No Finding\n",
            "6097                  No Finding\n",
            "6098                  No Finding\n",
            "6099                  No Finding\n",
            "Name: Labels, Length: 6100, dtype: object\n"
          ]
        }
      ]
    },
    {
      "cell_type": "code",
      "source": [
        ""
      ],
      "metadata": {
        "colab": {
          "base_uri": "https://localhost:8080/"
        },
        "id": "Gd2QEbcsPT8c",
        "outputId": "08ac0bf5-b511-4d4f-87f3-bdca3badd9ca"
      },
      "execution_count": null,
      "outputs": [
        {
          "output_type": "stream",
          "name": "stdout",
          "text": [
            "Atelectasis\n"
          ]
        }
      ]
    },
    {
      "cell_type": "code",
      "source": [
        "df['Labels']"
      ],
      "metadata": {
        "colab": {
          "base_uri": "https://localhost:8080/"
        },
        "id": "-SA2TgNaDZDi",
        "outputId": "87f6b1ce-3f9e-4098-b6f6-6888c2fb88b2"
      },
      "execution_count": null,
      "outputs": [
        {
          "output_type": "execute_result",
          "data": {
            "text/plain": [
              "0       Atelectasis|Infiltration\n",
              "1                     No Finding\n",
              "2                     No Finding\n",
              "3                     No Finding\n",
              "4                     No Finding\n",
              "                  ...           \n",
              "6095                  No Finding\n",
              "6096                  No Finding\n",
              "6097                  No Finding\n",
              "6098                  No Finding\n",
              "6099                  No Finding\n",
              "Name: Labels, Length: 6100, dtype: object"
            ]
          },
          "metadata": {},
          "execution_count": 12
        }
      ]
    },
    {
      "cell_type": "code",
      "execution_count": null,
      "metadata": {
        "id": "b7Wv1ZQXuLqN"
      },
      "outputs": [],
      "source": [
        "df['Labels'].mask(df['Labels'] == 'Atelectasis|Infiltration', 'Atelectasis', inplace=True)\n",
        "df['Labels'].mask(df['Labels'] == 'Effusion|Infiltration', 'Effusion', inplace=True)\n",
        "df['Labels'].mask(df['Labels'] == 'Consolidation|Infiltration', 'Consolidation', inplace=True)\n",
        "df['Labels'].mask(df['Labels'] == 'Infiltration|Nodule', 'Infiltration', inplace=True)\n",
        "df['Labels'].mask(df['Labels'] == 'Emphysema|Pneumothorax', 'Emphysema', inplace=True)\n",
        "df['Labels'].mask(df['Labels'] == 'Edema|Infiltration', 'Edema', inplace=True)\n",
        "df['Labels'].mask(df['Labels'] == 'Atelectasis|Consolidation', 'Atelectasis', inplace=True)\n",
        "df['Labels'].mask(df['Labels'] == 'Atelectasis|Effusion', 'Atelectasis', inplace=True)\n",
        "df['Labels'].mask(df['Labels'] == 'Effusion|Pneumothorax', 'Effusion', inplace=True)\n",
        "df['Labels'].mask(df['Labels'] == 'Cardiomegaly|Effusion', 'Cardiomegaly', inplace=True)\n",
        "df['Labels'].mask(df['Labels'] == 'Atelectasis|Effusion|Infiltration', 'Atelectasis', inplace=True)\n",
        "df['Labels'].mask(df['Labels'] == 'Infiltration|Pneumonia', 'Infiltration', inplace=True)\n",
        "df['Labels'].mask(df['Labels'] == 'Mass|Pneumothorax', 'Mass', inplace=True)\n",
        "df['Labels'].mask(df['Labels'] == 'Infiltration|Pleural_Thickening', 'Infiltration', inplace=True)\n",
        "df['Labels'].mask(df['Labels'] == 'Infiltration|Mass', 'Mass', inplace=True)\n",
        "df['Labels'].mask(df['Labels'] == 'Infiltration|Pneumothorax', 'Pneumothorax', inplace=True)\n",
        "df['Labels'].mask(df['Labels'] == 'Consolidation|Effusion', 'Consolidation', inplace=True)\n",
        "df['Labels'].mask(df['Labels'] == 'Effusion|Mass', 'Effusion', inplace=True)\n",
        "df['Labels'].mask(df['Labels'] == 'Cardiomegaly|Infiltration', 'Cardiomegaly', inplace=True)\n",
        "df['Labels'].mask(df['Labels'] == 'Edema|Infiltration|Pneumonia', 'Edema', inplace=True)\n",
        "df['Labels'].mask(df['Labels'] == 'Atelectasis|Consolidation|Effusion', 'Atelectasis', inplace=True)\n",
        "df['Labels'].mask(df['Labels'] == 'Atelectasis|Pneumothorax', 'Atelectasis', inplace=True)\n",
        "df['Labels'].mask(df['Labels'] == 'Consolidation|Effusion|Infiltration', 'Consolidation', inplace=True)\n",
        "df['Labels'].mask(df['Labels'] == 'Effusion|Nodule', 'Effusion', inplace=True)\n",
        "df['Labels'].mask(df['Labels'] == 'Nodule|Pneumothorax', 'Nodule', inplace=True)\n",
        "df['Labels'].mask(df['Labels'] == 'Pleural_Thickening|Pneumothorax', 'Pleural_Thickening', inplace=True)\n",
        "df['Labels'].mask(df['Labels'] == 'Cardiomegaly|Effusion|Infiltration', 'Cardiomegaly', inplace=True)\n",
        "df['Labels'].mask(df['Labels'] == 'Edema|Effusion', 'Edema', inplace=True)\n",
        "df['Labels'].mask(df['Labels'] == 'Cardiomegaly|Edema', 'Cardiomegaly', inplace=True)\n",
        "df['Labels'].mask(df['Labels'] == 'Atelectasis|Consolidation|Infiltration', 'Atelectasis', inplace=True)\n",
        "df['Labels'].mask(df['Labels'] == 'Atelectasis|Infiltration|Pneumothorax', 'Pneumothorax', inplace=True)\n",
        "df['Labels'].mask(df['Labels'] == 'Fibrosis|Infiltration', 'Fibrosis', inplace=True)\n",
        "df['Labels'].mask(df['Labels'] == 'Effusion|Infiltration|Pleural_Thickening', 'Effusion', inplace=True)\n",
        "df['Labels'].mask(df['Labels'] == 'Atelectasis|Pneumonia', 'Atelectasis', inplace=True)\n",
        "df['Labels'].mask(df['Labels'] == 'Edema|Effusion|Infiltration', 'Edema', inplace=True)\n",
        "df['Labels'].mask(df['Labels'] == 'Effusion|Infiltration|Nodule', 'Effusion', inplace=True)\n",
        "df['Labels'].mask(df['Labels'] == 'Atelectasis|Mass', 'Atelectasis', inplace=True)\n",
        "df['Labels'].mask(df['Labels'] == 'Consolidation|Mass', 'Mass', inplace=True)\n",
        "df['Labels'].mask(df['Labels'] == 'Emphysema|Infiltration|Pneumothorax', 'Emphysema', inplace=True)\n",
        "df['Labels'].mask(df['Labels'] == 'Mass|Nodule', 'Nodule', inplace=True)\n",
        "df['Labels'].mask(df['Labels'] == 'Effusion|Infiltration|Mass', 'Mass', inplace=True)\n",
        "df['Labels'].mask(df['Labels'] == 'Infiltration|Pleural_Thickening|Pneumothorax', 'Pleural_Thickening', inplace=True)\n",
        "df['Labels'].mask(df['Labels'] == 'Edema|Pneumonia', 'Pneumonia', inplace=True)\n",
        "df['Labels'].mask(df['Labels'] == 'Consolidation|Infiltration|Pneumonia', 'Pneumonia', inplace=True)\n",
        "df['Labels'].mask(df['Labels'] == 'Atelectasis|Emphysema', 'Emphysema', inplace=True)\n",
        "df['Labels'].mask(df['Labels'] == 'Effusion|Mass|Nodule|Pneumothorax', 'Nodule', inplace=True)\n",
        "df['Labels'].mask(df['Labels'] == 'Effusion|Pleural_Thickening', 'Pleural_Thickening', inplace=True)\n",
        "df['Labels'].mask(df['Labels'] == 'Infiltration|Nodule|Pneumonia', 'Nodule', inplace=True)\n",
        "df['Labels'].mask(df['Labels'] == 'Effusion|Infiltration|Pneumothorax', 'Pneumothorax', inplace=True)\n",
        "df['Labels'].mask(df['Labels'] == 'Atelectasis|Cardiomegaly|Infiltration', 'Cardiomegaly', inplace=True)\n",
        "df['Labels'].mask(df['Labels'] == 'Effusion|Emphysema|Pneumothorax', 'Emphysema', inplace=True)\n",
        "df['Labels'].mask(df['Labels'] == 'Atelectasis|Effusion|Infiltration|Pneumothorax', 'Pneumothorax', inplace=True)\n",
        "df['Labels'].mask(df['Labels'] == 'Atelectasis|Effusion|Pneumothorax', 'Pneumothorax', inplace=True)\n",
        "df['Labels'].mask(df['Labels'] == 'Atelectasis|Infiltration|Mass', 'Mass', inplace=True)\n",
        "df['Labels'].mask(df['Labels'] == 'Infiltration|Mass|Nodule', 'Nodule', inplace=True)\n",
        "df['Labels'].mask(df['Labels'] == 'Infiltration|Nodule|Pneumothorax', 'Nodule', inplace=True)\n",
        "df['Labels'].mask(df['Labels'] == 'Atelectasis|Effusion|Infiltration|Mass', 'Mass', inplace=True)\n",
        "df['Labels'].mask(df['Labels'] == 'Atelectasis|Edema', 'Edema', inplace=True)\n",
        "df['Labels'].mask(df['Labels'] == 'Atelectasis|Consolidation|Pneumonia', 'Consolidation', inplace=True)\n",
        "df['Labels'].mask(df['Labels'] == 'Effusion|Infiltration|Nodule|Pneumothorax', 'Nodule', inplace=True)\n",
        "df['Labels'].mask(df['Labels'] == 'Consolidation|Pneumonia', 'Consolidation', inplace=True)\n",
        "df['Labels'].mask(df['Labels'] == 'Consolidation|Infiltration|Pleural_Thickening', 'Pleural_Thickening', inplace=True)\n",
        "df['Labels'].mask(df['Labels'] == 'Effusion|Mass|Nodule', 'Nodule', inplace=True)\n",
        "df['Labels'].mask(df['Labels'] == 'Mass|Pleural_Thickening', 'Pleural_Thickening', inplace=True)\n",
        "df['Labels'].mask(df['Labels'] == 'Cardiomegaly|Infiltration|Nodule', 'Nodule', inplace=True)\n",
        "df['Labels'].mask(df['Labels'] == 'Mass|Pleural_Thickening|Pneumothorax', 'Pleural_Thickening', inplace=True)\n",
        "df['Labels'].mask(df['Labels'] == 'Consolidation|Pleural_Thickening', 'Pleural_Thickening', inplace=True)\n",
        "df['Labels'].mask(df['Labels'] == 'Effusion|Pneumonia', 'Pneumonia', inplace=True)\n",
        "df['Labels'].mask(df['Labels'] == 'Consolidation|Nodule', 'Nodule', inplace=True)\n",
        "df['Labels'].mask(df['Labels'] == 'Atelectasis|Effusion|Infiltration|Nodule|Pneumothorax', 'Nodule', inplace=True)\n",
        "df['Labels'].mask(df['Labels'] == 'Cardiomegaly|Edema|Infiltration', 'Edema', inplace=True)\n",
        "df['Labels'].mask(df['Labels'] == 'Fibrosis|Pneumothorax', 'Fibrosis', inplace=True)\n",
        "df['Labels'].mask(df['Labels'] == 'Effusion|Pleural_Thickening|Pneumothorax', 'Pleural_Thickening', inplace=True)\n",
        "df['Labels'].mask(df['Labels'] == 'Consolidation|Effusion|Mass', 'Mass', inplace=True)\n",
        "df['Labels'].mask(df['Labels'] == 'Atelectasis|Effusion|Mass', 'Mass', inplace=True)\n",
        "df['Labels'].mask(df['Labels'] == 'Atelectasis|Consolidation|Pneumothorax', 'Pneumothorax', inplace=True)\n",
        "df['Labels'].mask(df['Labels'] == 'Cardiomegaly|Edema|Infiltration|Pneumonia', 'Pneumonia', inplace=True)\n",
        "df['Labels'].mask(df['Labels'] == 'Effusion|Emphysema', 'Emphysema', inplace=True)\n",
        "df['Labels'].mask(df['Labels'] == 'Cardiomegaly|Consolidation|Infiltration', 'Cardiomegaly', inplace=True)\n",
        "df['Labels'].mask(df['Labels'] == 'Atelectasis|Consolidation|Effusion|Infiltration|Pleural_Thickening', 'Pleural_Thickening', inplace=True)\n",
        "df['Labels'].mask(df['Labels'] == 'Atelectasis|Cardiomegaly|Effusion|Infiltration', 'Effusion', inplace=True)\n",
        "df['Labels'].mask(df['Labels'] == 'Cardiomegaly|Edema|Effusion|Infiltration', 'Edema', inplace=True)\n",
        "df['Labels'].mask(df['Labels'] == 'Consolidation|Edema', 'Edema', inplace=True)\n",
        "df['Labels'].mask(df['Labels'] == 'Atelectasis|Consolidation|Pleural_Thickening', 'Pleural_Thickening', inplace=True)\n",
        "df['Labels'].mask(df['Labels'] == 'Effusion|Mass|Pneumothorax', 'Mass', inplace=True)\n",
        "df['Labels'].mask(df['Labels'] == 'Effusion|Infiltration|Mass|Pleural_Thickening', 'Pleural_Thickening', inplace=True)\n",
        "df['Labels'].mask(df['Labels'] == 'Infiltration|Mass|Nodule|Pleural_Thickening', 'Pleural_Thickening', inplace=True)\n",
        "df['Labels'].mask(df['Labels'] == 'Consolidation|Nodule|Pneumothorax', 'Nodule', inplace=True)\n",
        "df['Labels'].mask(df['Labels'] == 'Edema|Infiltration|Nodule', 'Edema', inplace=True)\n",
        "df['Labels'].mask(df['Labels'] == 'Consolidation|Fibrosis', 'Fibrosis', inplace=True)\n",
        "df['Labels'].mask(df['Labels'] == 'Atelectasis|Pleural_Thickening|Pneumothorax', 'Pleural_Thickening', inplace=True)\n",
        "df['Labels'].mask(df['Labels'] == 'Atelectasis|Cardiomegaly', 'Cardiomegaly', inplace=True)\n",
        "df['Labels'].mask(df['Labels'] == 'Atelectasis|Infiltration|Mass|Pneumothorax', 'Mass', inplace=True)\n",
        "df['Labels'].mask(df['Labels'] == 'Edema|Mass', 'Mass', inplace=True)\n",
        "df['Labels'].mask(df['Labels'] == 'Cardiomegaly|Effusion|Nodule', 'Nodule', inplace=True)\n",
        "df['Labels'].mask(df['Labels'] == 'Atelectasis|Cardiomegaly|Effusion', 'Cardiomegaly', inplace=True)\n",
        "df['Labels'].mask(df['Labels'] == 'Consolidation|Pneumothorax', 'Pneumothorax', inplace=True)\n",
        "df['Labels'].mask(df['Labels'] == 'Cardiomegaly|Edema|Effusion|Infiltration|Pneumonia', 'Pneumonia', inplace=True)\n",
        "df['Labels'].mask(df['Labels'] == 'Edema|Pleural_Thickening', 'Edema', inplace=True)\n",
        "df['Labels'].mask(df['Labels'] == 'Atelectasis|Infiltration|Pleural_Thickening', 'Pleural_Thickening', inplace=True)\n",
        "df['Labels'].mask(df['Labels'] == 'Consolidation|Mass|Pneumothorax', 'Mass', inplace=True)\n",
        "df['Labels'].mask(df['Labels'] == 'Consolidation|Infiltration|Mass', 'Mass', inplace=True)\n",
        "df['Labels'].mask(df['Labels'] == 'Cardiomegaly|Consolidation|Effusion|Mass|Nodule|Pleural_Thickening', 'Pleural_Thickening', inplace=True)\n",
        "df['Labels'].mask(df['Labels'] == 'Atelectasis|Pleural_Thickening', 'Pleural_Thickening', inplace=True)\n",
        "df['Labels'].mask(df['Labels'] == 'Consolidation|Edema|Effusion|Infiltration', 'Edema', inplace=True)\n",
        "df['Labels'].mask(df['Labels'] == 'Cardiomegaly|Consolidation|Edema|Effusion|Mass|Nodule|Pleural_Thickening', 'Pleural_Thickening', inplace=True)\n",
        "df['Labels'].mask(df['Labels'] == 'Mass|Pneumonia', 'Pneumonia', inplace=True)\n",
        "df['Labels'].mask(df['Labels'] == 'Nodule|Pleural_Thickening|Pneumothorax', 'Pleural_Thickening', inplace=True)\n",
        "df['Labels'].mask(df['Labels'] == 'Infiltration|Pleural_Thickening|Pneumonia', 'Pneumonia', inplace=True)\n",
        "df['Labels'].mask(df['Labels'] == 'Cardiomegaly|Consolidation|Edema|Effusion', 'Edema', inplace=True)\n",
        "df['Labels'].mask(df['Labels'] == 'Atelectasis|Consolidation|Edema|Effusion', 'Edema', inplace=True)\n",
        "df['Labels'].mask(df['Labels'] == 'Atelectasis|Mass|Pneumonia', 'Pneumonia', inplace=True)\n",
        "df['Labels'].mask(df['Labels'] == 'Atelectasis|Emphysema|Infiltration', 'Emphysema', inplace=True)\n",
        "df['Labels'].mask(df['Labels'] == 'Consolidation|Emphysema', 'Emphysema', inplace=True)\n",
        "df['Labels'].mask(df['Labels'] == 'Cardiomegaly|Effusion|Infiltration|Pneumothorax', 'Cardiomegaly', inplace=True)\n",
        "df['Labels'].mask(df['Labels'] == 'Mass|Nodule|Pneumothorax', 'Nodule', inplace=True)\n",
        "df['Labels'].mask(df['Labels'] == 'Atelectasis|Consolidation|Fibrosis', 'Fibrosis', inplace=True)\n",
        "df['Labels'].mask(df['Labels'] == 'Edema|Infiltration|Mass', 'Edema', inplace=True)\n",
        "df['Labels'].mask(df['Labels'] == 'Cardiomegaly|Edema|Mass', 'Edema', inplace=True)\n",
        "df['Labels'].mask(df['Labels'] == 'Nodule|Pleural_Thickening', 'Pleural_Thickening', inplace=True)\n",
        "df['Labels'].mask(df['Labels'] == 'Emphysema|Mass|Nodule', 'Emphysema', inplace=True)\n",
        "df['Labels'].mask(df['Labels'] == 'Cardiomegaly|Consolidation|Effusion|Infiltration|Pleural_Thickening', 'Pleural_Thickening', inplace=True)\n",
        "df['Labels'].mask(df['Labels'] == 'Edema|Emphysema|Infiltration|Pneumonia', 'Pneumonia', inplace=True)\n",
        "df['Labels'].mask(df['Labels'] == 'Edema|Emphysema', 'Edema', inplace=True)\n",
        "df['Labels'].mask(df['Labels'] == 'Atelectasis|Cardiomegaly|Consolidation|Effusion|Infiltration', 'Cardiomegaly', inplace=True)\n",
        "df['Labels'].mask(df['Labels'] == 'Edema|Effusion|Mass|Nodule', 'Nodule', inplace=True)\n",
        "df['Labels'].mask(df['Labels'] == 'Atelectasis|Effusion|Infiltration|Mass|Pleural_Thickening', 'Pleural_Thickening', inplace=True)\n",
        "df['Labels'].mask(df['Labels'] == 'Cardiomegaly|Effusion|Pleural_Thickening', 'Pleural_Thickening', inplace=True)\n",
        "df['Labels'].mask(df['Labels'] == 'Cardiomegaly|Consolidation|Effusion', 'Cardiomegaly', inplace=True)\n",
        "df['Labels'].mask(df['Labels'] == 'Cardiomegaly|Consolidation|Effusion|Infiltration', 'Cardiomegaly', inplace=True)\n",
        "df['Labels'].mask(df['Labels'] == 'Consolidation|Effusion|Pleural_Thickening', 'Pleural_Thickening', inplace=True)\n",
        "df['Labels'].mask(df['Labels'] == 'Infiltration|Nodule|Pleural_Thickening', 'Pleural_Thickening', inplace=True)\n",
        "df['Labels'].mask(df['Labels'] == 'Cardiomegaly|Effusion|Pneumonia', 'Pneumonia', inplace=True)\n",
        "df['Labels'].mask(df['Labels'] == 'Effusion|Nodule|Pleural_Thickening', 'Nodule', inplace=True)\n",
        "df['Labels'].mask(df['Labels'] == 'Mass|Nodule|Pleural_Thickening', 'Nodule', inplace=True)\n",
        "df['Labels'].mask(df['Labels'] == 'Edema|Nodule', 'Edema', inplace=True)\n",
        "df['Labels'].mask(df['Labels'] == 'Atelectasis|Consolidation|Effusion|Mass', 'Mass', inplace=True)\n",
        "df['Labels'].mask(df['Labels'] == 'Consolidation|Effusion|Mass|Nodule', 'Nodule', inplace=True)\n",
        "df['Labels'].mask(df['Labels'] == 'Fibrosis|Nodule', 'Fibrosis', inplace=True)\n",
        "df['Labels'].mask(df['Labels'] == 'Cardiomegaly|Consolidation', 'Cardiomegaly', inplace=True)\n",
        "df['Labels'].mask(df['Labels'] == 'Atelectasis|Cardiomegaly|Consolidation', 'Cardiomegaly', inplace=True)\n",
        "df['Labels'].mask(df['Labels'] == 'Atelectasis|Mass|Nodule', 'Nodule', inplace=True)\n",
        "df['Labels'].mask(df['Labels'] == 'Consolidation|Infiltration|Nodule|Pleural_Thickening', 'Pleural_Thickening', inplace=True)\n",
        "df['Labels'].mask(df['Labels'] == 'Effusion|Mass|Pleural_Thickening', 'Pleural_Thickening', inplace=True)\n",
        "df['Labels'].mask(df['Labels'] == 'Atelectasis|Effusion|Nodule|Pneumothorax', 'Nodule', inplace=True)\n",
        "df['Labels'].mask(df['Labels'] == 'Consolidation|Infiltration|Pneumothorax', 'Pneumothorax', inplace=True)\n",
        "df['Labels'].mask(df['Labels'] == 'Cardiomegaly|Effusion|Mass', 'Cardiomegaly', inplace=True)\n",
        "df['Labels'].mask(df['Labels'] == 'Atelectasis|Emphysema|Mass|Pneumothorax', 'Emphysema', inplace=True)\n",
        "df['Labels'].mask(df['Labels'] == 'Atelectasis|Cardiomegaly|Edema|Effusion|Infiltration|Nodule|Pneumonia', 'Pneumonia', inplace=True)\n",
        "df['Labels'].mask(df['Labels'] == 'Atelectasis|Effusion|Pneumonia', 'Pneumonia', inplace=True)\n",
        "df['Labels'].mask(df['Labels'] == 'Atelectasis|Emphysema|Infiltration|Pneumothorax', 'Emphysema', inplace=True)\n",
        "df['Labels'].mask(df['Labels'] == 'Cardiomegaly|Effusion|Infiltration|Mass', 'Cardiomegaly', inplace=True)\n",
        "df['Labels'].mask(df['Labels'] == 'Consolidation|Effusion|Pneumothorax', 'Pneumothorax', inplace=True)\n",
        "df['Labels'].mask(df['Labels'] == 'Atelectasis|Consolidation|Effusion|Infiltration|Pneumothorax', 'Pneumothorax', inplace=True)\n",
        "df['Labels'].mask(df['Labels'] == 'Atelectasis|Consolidation|Effusion|Infiltration', 'Effusion', inplace=True)\n",
        "df['Labels'].mask(df['Labels'] == 'Atelectasis|Consolidation|Edema|Infiltration|Pneumonia', 'Pneumonia', inplace=True)\n",
        "df['Labels'].mask(df['Labels'] == 'Atelectasis|Edema|Infiltration', 'Edema', inplace=True)\n",
        "df['Labels'].mask(df['Labels'] == 'Cardiomegaly|Edema|Infiltration|Nodule', 'Nodule', inplace=True)\n",
        "df['Labels'].mask(df['Labels'] == 'Consolidation|Emphysema|Infiltration|Pneumothorax', 'Emphysema', inplace=True)\n",
        "df['Labels'].mask(df['Labels'] == 'Pneumonia|Pneumothorax', 'Pneumonia', inplace=True)\n",
        "df['Labels'].mask(df['Labels'] == 'Atelectasis|Cardiomegaly|Effusion|Infiltration|Mass', 'Cardiomegaly', inplace=True)\n",
        "df['Labels'].mask(df['Labels'] == 'Fibrosis|Infiltration|Pneumothorax', 'Fibrosis', inplace=True)\n",
        "df['Labels'].mask(df['Labels'] == 'Emphysema|Infiltration', 'Emphysema', inplace=True)\n",
        "df['Labels'].mask(df['Labels'] == 'Atelectasis|Edema|Effusion|Infiltration', 'Edema', inplace=True)\n",
        "df['Labels'].mask(df['Labels'] == 'Emphysema|Infiltration|Nodule|Pneumothorax', 'Emphysema', inplace=True)\n",
        "df['Labels'].mask(df['Labels'] == 'Atelectasis|Emphysema|Infiltration|Pneumonia', 'Pneumonia', inplace=True)\n",
        "df['Labels'].mask(df['Labels'] == 'Pleural_Thickening|Pneumonia', 'Pneumonia', inplace=True)\n",
        "df['Labels'].mask(df['Labels'] == 'Infiltration|Mass|Pneumonia', 'Pneumonia', inplace=True)\n",
        "df['Labels'].mask(df['Labels'] == 'Edema|Effusion|Infiltration|Pneumonia', 'Pneumonia', inplace=True)\n",
        "df['Labels'].mask(df['Labels'] == 'Atelectasis|Consolidation|Infiltration|Pneumonia', 'Pneumonia', inplace=True)\n",
        "df['Labels'].mask(df['Labels'] == 'Atelectasis|Edema|Effusion|Infiltration|Pneumonia', 'Pneumonia', inplace=True)\n",
        "df['Labels'].mask(df['Labels'] == 'Atelectasis|Effusion|Pleural_Thickening', 'Pleural_Thickening', inplace=True)\n",
        "df['Labels'].mask(df['Labels'] == 'Atelectasis|Effusion|Mass|Pleural_Thickening', 'Pleural_Thickening', inplace=True)\n",
        "df['Labels'].mask(df['Labels'] == 'Atelectasis|Effusion|Infiltration|Pleural_Thickening', 'Pleural_Thickening', inplace=True)\n",
        "df['Labels'].mask(df['Labels'] == 'Atelectasis|Edema|Effusion|Infiltration|Pleural_Thickening', 'Pleural_Thickening', inplace=True)\n",
        "df['Labels'].mask(df['Labels'] == 'Effusion|Infiltration|Nodule|Pleural_Thickening', 'Pleural_Thickening', inplace=True)\n",
        "df['Labels'].mask(df['Labels'] == 'Edema|Effusion|Pneumothorax', 'Edema', inplace=True)\n",
        "df['Labels'].mask(df['Labels'] == 'Atelectasis|Fibrosis', 'Fibrosis', inplace=True)\n",
        "df['Labels'].mask(df['Labels'] == 'Fibrosis|Infiltration|Mass', 'Fibrosis', inplace=True)\n",
        "df['Labels'].mask(df['Labels'] == 'Emphysema|Nodule|Pneumothorax', 'Emphysema', inplace=True)\n",
        "df['Labels'].mask(df['Labels'] == 'Emphysema|Infiltration|Nodule', 'Emphysema', inplace=True)\n",
        "df['Labels'].mask(df['Labels'] == 'Atelectasis|Emphysema|Pneumothorax', 'Emphysema', inplace=True)\n",
        "df['Labels'].mask(df['Labels'] == 'Emphysema|Pleural_Thickening', 'Emphysema', inplace=True)\n",
        "df['Labels'].mask(df['Labels'] == 'Atelectasis|Emphysema|Infiltration|Mass', 'Emphysema', inplace=True)\n",
        "df['Labels'].mask(df['Labels'] == 'Effusion|Emphysema|Infiltration|Pneumothorax', 'Emphysema', inplace=True)\n",
        "df['Labels'].mask(df['Labels'] == 'Atelectasis|Consolidation|Effusion|Fibrosis|Mass', 'Fibrosis', inplace=True)\n",
        "df['Labels'].mask(df['Labels'] == 'Consolidation|Infiltration|Nodule', 'Nodule', inplace=True)\n",
        "df['Labels'].mask(df['Labels'] == 'Effusion|Infiltration|Mass|Nodule', 'Nodule', inplace=True)\n",
        "df['Labels'].mask(df['Labels'] == 'Atelectasis|Infiltration|Nodule', 'Nodule', inplace=True)\n",
        "df['Labels'].mask(df['Labels'] == 'Atelectasis|Infiltration|Nodule|Pneumothorax', 'Nodule', inplace=True)\n",
        "df['Labels'].mask(df['Labels'] == 'Consolidation|Mass|Nodule', 'Nodule', inplace=True)\n",
        "df['Labels'].mask(df['Labels'] == 'Infiltration|Mass|Nodule|Pneumothorax', 'Nodule', inplace=True)\n",
        "df['Labels'].mask(df['Labels'] == 'Atelectasis|Effusion|Mass|Nodule', 'Nodule', inplace=True)\n",
        "df['Labels'].mask(df['Labels'] == 'Effusion|Nodule|Pneumothorax', 'Nodule', inplace=True)\n",
        "df['Labels'].mask(df['Labels'] == 'Atelectasis|Consolidation|Mass', 'Mass', inplace=True)\n",
        "df['Labels'].mask(df['Labels'] == 'Atelectasis|Nodule', 'Nodule', inplace=True)\n",
        "df['Labels'].mask(df['Labels'] == 'Fibrosis|Pleural_Thickening', 'Fibrosis', inplace=True)\n",
        "df['Labels'].mask(df['Labels'] == 'Emphysema|Mass', 'Emphysema', inplace=True)\n",
        "df['Labels'].mask(df['Labels'] == 'Effusion|Fibrosis', 'Fibrosis', inplace=True)\n",
        "df['Labels'].mask(df['Labels'] == 'Atelectasis|Effusion|Nodule', 'Nodule', inplace=True)\n",
        "df['Labels'].mask(df['Labels'] == 'Effusion|Infiltration|Pneumonia', 'Pneumonia', inplace=True)\n",
        "df['Labels'].mask(df['Labels'] == 'Fibrosis|Mass', 'Fibrosis', inplace=True)\n",
        "df['Labels'].mask(df['Labels'] == 'Atelectasis|Infiltration|Pneumonia', 'Pneumonia', inplace=True)\n",
        "df['Labels'].mask(df['Labels'] == 'Emphysema|Nodule', 'Emphysema', inplace=True)\n",
        "df['Labels'].mask(df['Labels'] == 'Emphysema|Mass|Pneumothorax', 'Emphysema', inplace=True)\n",
        "df['Labels'].mask(df['Labels'] == 'Consolidation|Effusion|Nodule', 'Consolidation', inplace=True)\n",
        "df['Labels'].mask(df['Labels'] == 'Atelectasis|Effusion|Emphysema', 'Emphysema', inplace=True)\n",
        "df['Labels'].mask(df['Labels'] == 'Infiltration|Mass|Pleural_Thickening', 'Pleural_Thickening', inplace=True)\n",
        "df['Labels'].mask(df['Labels'] == 'Consolidation|Edema|Infiltration', 'Edema', inplace=True)\n",
        "df['Labels'].mask(df['Labels'] == 'Effusion|Emphysema|Infiltration', 'Emphysema', inplace=True)\n",
        "df['Labels'].mask(df['Labels'] == 'Cardiomegaly|Nodule', 'Cardiomegaly', inplace=True)\n",
        "df['Labels'].mask(df['Labels'] == 'Atelectasis|Edema|Effusion', 'Edema', inplace=True)\n",
        "df['Labels'].mask(df['Labels'] == 'Atelectasis|Fibrosis|Infiltration', 'Fibrosis', inplace=True)\n",
        "df['Labels'].mask(df['Labels'] == 'Atelectasis|Effusion|Infiltration|Nodule', 'Nodule', inplace=True)\n",
        "df['Labels'].mask(df['Labels'] == 'Atelectasis|Hernia', 'Hernia', inplace=True)\n",
        "df['Labels'].mask(df['Labels'] == 'Nodule|Pneumonia', 'Pneumonia', inplace=True)\n",
        "df['Labels'].mask(df['Labels'] == 'Cardiomegaly|Emphysema', 'Cardiomegaly', inplace=True)\n",
        "df['Labels'].mask(df['Labels'] == 'Edema|Effusion|Pneumonia', 'Pneumonia', inplace=True)\n",
        "df['Labels'].mask(df['Labels'] == 'Cardiomegaly|Mass', 'Cardiomegaly', inplace=True)\n",
        "df['Labels'].mask(df['Labels'] == 'Atelectasis|Effusion|Emphysema|Infiltration', 'Emphysema', inplace=True)\n",
        "df['Labels'].mask(df['Labels'] == 'Atelectasis|Effusion|Infiltration|Pneumonia', 'Pneumonia', inplace=True)\n",
        "df['Labels'].mask(df['Labels'] == 'Cardiomegaly|Edema|Effusion', 'Edema', inplace=True)\n",
        "df['Labels'].mask(df['Labels'] == 'Fibrosis|Infiltration|Nodule', 'Fibrosis', inplace=True)\n",
        "df['Labels'].mask(df['Labels'] == 'Emphysema|Infiltration|Mass', 'Emphysema', inplace=True)\n",
        "df['Labels'].mask(df['Labels'] == 'Atelectasis|Consolidation|Effusion|Mass|Nodule', 'Consolidation', inplace=True)\n",
        "df['Labels'].mask(df['Labels'] == 'Fibrosis|Infiltration|Pleural_Thickening', 'Fibrosis', inplace=True)\n",
        "df['Labels'].mask(df['Labels'] == 'Atelectasis|Mass|Pneumothorax', 'Pneumothorax', inplace=True)\n",
        "df['Labels'].mask(df['Labels'] == 'Effusion|Fibrosis|Infiltration', 'Fibrosis', inplace=True)\n",
        "df['Labels'].mask(df['Labels'] == 'Fibrosis|Nodule|Pleural_Thickening', 'Fibrosis', inplace=True)\n",
        "df['Labels'].mask(df['Labels'] == 'Atelectasis|Consolidation|Nodule', 'Consolidation', inplace=True)\n",
        "df['Labels'].mask(df['Labels'] == 'Hernia|Mass', 'Hernia', inplace=True)\n",
        "df['Labels'].mask(df['Labels'] == 'Atelectasis|Emphysema|Mass', 'Emphysema', inplace=True)\n",
        "df['Labels'].mask(df['Labels'] == 'Infiltration|Mass|Pneumothorax', 'Pneumothorax', inplace=True)\n",
        "df['Labels'].mask(df['Labels'] == 'Atelectasis|Effusion|Emphysema|Pneumothorax', 'Emphysema', inplace=True)\n",
        "df['Labels'].mask(df['Labels'] == 'Consolidation|Effusion|Infiltration|Mass', 'Consolidation', inplace=True)\n",
        "df['Labels'].mask(df['Labels'] == 'Consolidation|Effusion|Infiltration|Nodule', 'Consolidation', inplace=True)\n",
        "df['Labels'].mask(df['Labels'] == 'Atelectasis|Effusion|Fibrosis', 'Fibrosis', inplace=True)\n",
        "df['Labels'].mask(df['Labels'] == 'Cardiomegaly|Pleural_Thickening', 'Cardiomegaly', inplace=True)\n",
        "df['Labels'].mask(df['Labels'] == 'Atelectasis|Consolidation|Effusion|Infiltration|Mass|Nodule', 'Consolidation', inplace=True)\n",
        "df['Labels'].mask(df['Labels'] == 'Emphysema|Fibrosis', 'Fibrosis', inplace=True)\n",
        "df['Labels'].mask(df['Labels'] == 'Effusion|Emphysema|Pleural_Thickening', 'Emphysema', inplace=True)\n",
        "df['Labels'].mask(df['Labels'] == 'Emphysema|Pleural_Thickening|Pneumothorax', 'Emphysema', inplace=True)\n",
        "df['Labels'].mask(df['Labels'] == 'Consolidation|Infiltration|Mass|Nodule', 'Consolidation', inplace=True)\n",
        "df['Labels'].mask(df['Labels'] == 'Atelectasis|Nodule|Pleural_Thickening', 'Pleural_Thickening', inplace=True)\n",
        "df['Labels'].mask(df['Labels'] == 'Fibrosis|Mass|Nodule', 'Fibrosis', inplace=True)\n",
        "df['Labels'].mask(df['Labels'] == 'Atelectasis|Consolidation|Effusion|Mass|Pleural_Thickening', 'Consolidation', inplace=True)\n",
        "df['Labels'].mask(df['Labels'] == 'Consolidation|Edema|Effusion', 'Edema', inplace=True)\n",
        "df['Labels'].mask(df['Labels'] == 'Consolidation|Effusion|Infiltration|Pleural_Thickening', 'Consolidation', inplace=True)\n",
        "df['Labels'].mask(df['Labels'] == 'Consolidation|Mass|Pleural_Thickening', 'Consolidation', inplace=True)\n",
        "df['Labels'].mask(df['Labels'] == 'Hernia|Infiltration', 'Hernia', inplace=True)\n",
        "df['Labels'].mask(df['Labels'] == 'Edema|Effusion|Mass', 'Edema', inplace=True)\n",
        "df['Labels'].mask(df['Labels'] == 'Cardiomegaly|Effusion|Fibrosis', 'Fibrosis', inplace=True)\n",
        "df['Labels'].mask(df['Labels'] == 'Edema|Effusion|Nodule', 'Edema', inplace=True)\n",
        "df['Labels'].mask(df['Labels'] == 'Effusion|Emphysema|Mass', 'Emphysema', inplace=True)\n",
        "df['Labels'].mask(df['Labels'] == 'Atelectasis|Consolidation|Emphysema', 'Emphysema', inplace=True)\n",
        "df['Labels'].mask(df['Labels'] == 'Consolidation|Emphysema|Pneumothorax', 'Emphysema', inplace=True)\n",
        "df['Labels'].mask(df['Labels'] == 'Effusion|Fibrosis|Pneumothorax', 'Fibrosis', inplace=True)\n",
        "df['Labels'].mask(df['Labels'] == 'Edema|Effusion|Infiltration|Pleural_Thickening', 'Edema', inplace=True)\n",
        "df['Labels'].mask(df['Labels'] == 'Cardiomegaly|Effusion|Infiltration|Nodule', 'Cardiomegaly', inplace=True)\n",
        "df['Labels'].mask(df['Labels'] == 'Atelectasis|Infiltration|Mass|Pleural_Thickening', 'Pleural_Thickening', inplace=True)\n",
        "df['Labels'].mask(df['Labels'] == 'Atelectasis|Consolidation|Infiltration|Mass', 'Consolidation', inplace=True)\n",
        "df['Labels'].mask(df['Labels'] == 'Edema|Effusion|Nodule', 'Edema', inplace=True)\n",
        "df['Labels'].mask(df['Labels'] == 'Edema|Effusion|Nodule', 'Edema', inplace=True)\n",
        "df['Labels'].mask(df['Labels'] == 'Edema|Effusion|Nodule', 'Edema', inplace=True)\n",
        "df['Labels'].mask(df['Labels'] == 'Edema|Effusion|Nodule', 'Edema', inplace=True)\n",
        "df['Labels'].mask(df['Labels'] == 'Edema|Effusion|Nodule', 'Edema', inplace=True)\n",
        "df['Labels'].mask(df['Labels'] == 'Edema|Effusion|Nodule', 'Edema', inplace=True)\n",
        "df['Labels'].mask(df['Labels'] == 'Edema|Effusion|Nodule', 'Edema', inplace=True)\n",
        "df['Labels'].mask(df['Labels'] == 'Edema|Effusion|Nodule', 'Edema', inplace=True)\n",
        "df['Labels'].mask(df['Labels'] == 'Edema|Effusion|Nodule', 'Edema', inplace=True)\n",
        "df['Labels'].mask(df['Labels'] == 'Edema|Effusion|Nodule', 'Edema', inplace=True)\n",
        "df['Labels'].mask(df['Labels'] == 'Edema|Effusion|Nodule', 'Edema', inplace=True)\n",
        "df['Labels'].mask(df['Labels'] == 'Edema|Effusion|Nodule', 'Edema', inplace=True)\n",
        "df['Labels'].mask(df['Labels'] == 'Edema|Effusion|Nodule', 'Edema', inplace=True)\n",
        "df['Labels'].mask(df['Labels'] == 'Edema|Effusion|Nodule', 'Edema', inplace=True)\n",
        "df['Labels'].mask(df['Labels'] == 'Edema|Effusion|Nodule', 'Edema', inplace=True)\n",
        "df['Labels'].mask(df['Labels'] == 'Edema|Effusion|Nodule', 'Edema', inplace=True)\n",
        "df['Labels'].mask(df['Labels'] == 'Edema|Effusion|Nodule', 'Edema', inplace=True)\n",
        "df['Labels'].mask(df['Labels'] == 'Edema|Effusion|Nodule', 'Edema', inplace=True)\n",
        "df['Labels'].mask(df['Labels'] == 'Edema|Effusion|Nodule', 'Edema', inplace=True)\n",
        "df['Labels'].mask(df['Labels'] == 'Edema|Effusion|Nodule', 'Edema', inplace=True)\n",
        "df['Labels'].mask(df['Labels'] == 'Edema|Effusion|Nodule', 'Edema', inplace=True)\n",
        "df['Labels'].mask(df['Labels'] == 'Edema|Effusion|Nodule', 'Edema', inplace=True)\n",
        "df['Labels'].mask(df['Labels'] == 'Edema|Effusion|Nodule', 'Edema', inplace=True)\n",
        "df['Labels'].mask(df['Labels'] == 'Edema|Effusion|Nodule', 'Edema', inplace=True)\n",
        "df['Labels'].mask(df['Labels'] == 'Edema|Effusion|Nodule', 'Edema', inplace=True)\n",
        "df['Labels'].mask(df['Labels'] == 'Edema|Effusion|Nodule', 'Edema', inplace=True)\n",
        "df['Labels'].mask(df['Labels'] == 'Edema|Effusion|Nodule', 'Edema', inplace=True)\n",
        "df['Labels'].mask(df['Labels'] == 'Edema|Effusion|Nodule', 'Edema', inplace=True)\n",
        "df['Labels'].mask(df['Labels'] == 'Edema|Effusion|Nodule', 'Edema', inplace=True)\n",
        "df['Labels'].mask(df['Labels'] == 'Edema|Effusion|Nodule', 'Edema', inplace=True)\n",
        "df['Labels'].mask(df['Labels'] == 'Edema|Effusion|Nodule', 'Edema', inplace=True)\n",
        "df['Labels'].mask(df['Labels'] == 'Edema|Effusion|Nodule', 'Edema', inplace=True)\n",
        "df['Labels'].mask(df['Labels'] == 'Edema|Effusion|Nodule', 'Edema', inplace=True)\n",
        "df['Labels'].mask(df['Labels'] == 'Edema|Effusion|Nodule', 'Edema', inplace=True)\n",
        "df['Labels'].mask(df['Labels'] == 'Edema|Effusion|Nodule', 'Edema', inplace=True)\n",
        "df['Labels'].mask(df['Labels'] == 'Edema|Effusion|Nodule', 'Edema', inplace=True)\n",
        "df['Labels'].mask(df['Labels'] == 'Edema|Effusion|Nodule', 'Edema', inplace=True)\n",
        "df['Labels'].mask(df['Labels'] == 'Edema|Effusion|Nodule', 'Edema', inplace=True)\n",
        "df['Labels'].mask(df['Labels'] == 'Edema|Effusion|Nodule', 'Edema', inplace=True)\n",
        "df['Labels'].mask(df['Labels'] == 'Edema|Effusion|Nodule', 'Edema', inplace=True)\n",
        "df['Labels'].mask(df['Labels'] == 'Edema|Effusion|Nodule', 'Edema', inplace=True)\n",
        "df['Labels'].mask(df['Labels'] == 'Edema|Effusion|Nodule', 'Edema', inplace=True)\n",
        "df['Labels'].mask(df['Labels'] == 'Edema|Effusion|Nodule', 'Edema', inplace=True)\n",
        "df['Labels'].mask(df['Labels'] == 'Edema|Effusion|Nodule', 'Edema', inplace=True)\n",
        "df['Labels'].mask(df['Labels'] == 'Edema|Effusion|Nodule', 'Edema', inplace=True)\n",
        "df['Labels'].mask(df['Labels'] == 'Edema|Effusion|Nodule', 'Edema', inplace=True)\n",
        "df['Labels'].mask(df['Labels'] == 'Edema|Effusion|Nodule', 'Edema', inplace=True)\n",
        "df['Labels'].mask(df['Labels'] == 'Edema|Effusion|Nodule', 'Edema', inplace=True)\n",
        "df['Labels'].mask(df['Labels'] == 'Edema|Effusion|Nodule', 'Edema', inplace=True)\n",
        "df['Labels'].mask(df['Labels'] == 'Edema|Effusion|Nodule', 'Edema', inplace=True)\n",
        "df['Labels'].mask(df['Labels'] == 'Edema|Effusion|Nodule', 'Edema', inplace=True)\n",
        "df['Labels'].mask(df['Labels'] == 'Edema|Effusion|Nodule', 'Edema', inplace=True)\n",
        "df['Labels'].mask(df['Labels'] == 'Edema|Effusion|Nodule', 'Edema', inplace=True)\n",
        "df['Labels'].mask(df['Labels'] == 'Edema|Effusion|Nodule', 'Edema', inplace=True)\n",
        "df['Labels'].mask(df['Labels'] == 'Edema|Effusion|Nodule', 'Edema', inplace=True)\n",
        "df['Labels'].mask(df['Labels'] == 'Edema|Effusion|Nodule', 'Edema', inplace=True)\n",
        "df['Labels'].mask(df['Labels'] == 'Edema|Effusion|Nodule', 'Edema', inplace=True)\n",
        "df['Labels'].mask(df['Labels'] == 'Edema|Effusion|Nodule', 'Edema', inplace=True)\n",
        "df['Labels'].mask(df['Labels'] == 'Edema|Effusion|Nodule', 'Edema', inplace=True)\n",
        "df['Labels'].mask(df['Labels'] == 'Edema|Effusion|Nodule', 'Edema', inplace=True)\n",
        "df['Labels'].mask(df['Labels'] == 'Edema|Effusion|Nodule', 'Edema', inplace=True)\n",
        "df['Labels'].mask(df['Labels'] == 'Edema|Effusion|Nodule', 'Edema', inplace=True)\n",
        "df['Labels'].mask(df['Labels'] == 'Edema|Effusion|Nodule', 'Edema', inplace=True)\n",
        "df['Labels'].mask(df['Labels'] == 'Edema|Effusion|Nodule', 'Edema', inplace=True)\n",
        "df['Labels'].mask(df['Labels'] == 'Edema|Effusion|Nodule', 'Edema', inplace=True)\n",
        "df['Labels'].mask(df['Labels'] == 'Edema|Effusion|Nodule', 'Edema', inplace=True)\n",
        "df['Labels'].mask(df['Labels'] == 'Edema|Effusion|Nodule', 'Edema', inplace=True)\n",
        "df['Labels'].mask(df['Labels'] == 'Edema|Effusion|Nodule', 'Edema', inplace=True)\n",
        "df['Labels'].mask(df['Labels'] == 'Edema|Effusion|Nodule', 'Edema', inplace=True)\n",
        "df['Labels'].mask(df['Labels'] == 'Edema|Effusion|Nodule', 'Edema', inplace=True)\n",
        "df['Labels'].mask(df['Labels'] == 'Edema|Effusion|Nodule', 'Edema', inplace=True)\n",
        "df['Labels'].mask(df['Labels'] == 'Edema|Effusion|Nodule', 'Edema', inplace=True)\n",
        "df['Labels'].mask(df['Labels'] == 'Edema|Effusion|Nodule', 'Edema', inplace=True)\n",
        "df['Labels'].mask(df['Labels'] == 'Edema|Effusion|Nodule', 'Edema', inplace=True)\n",
        "df['Labels'].mask(df['Labels'] == 'Edema|Effusion|Nodule', 'Edema', inplace=True)\n",
        "df['Labels'].mask(df['Labels'] == 'Edema|Effusion|Nodule', 'Edema', inplace=True)\n",
        "df['Labels'].mask(df['Labels'] == 'Edema|Effusion|Nodule', 'Edema', inplace=True)\n",
        "df['Labels'].mask(df['Labels'] == 'Edema|Effusion|Nodule', 'Edema', inplace=True)\n"
      ]
    },
    {
      "cell_type": "code",
      "execution_count": null,
      "metadata": {
        "colab": {
          "base_uri": "https://localhost:8080/"
        },
        "id": "aDkToNCQdcV1",
        "outputId": "bfb584c8-c5ea-4919-9c60-e68dc5924ae7"
      },
      "outputs": [
        {
          "output_type": "stream",
          "name": "stdout",
          "text": [
            "Name : No Finding\n",
            "Counts : 3589\n",
            "Name : Infiltration\n",
            "Counts : 692\n",
            "Name : Atelectasis\n",
            "Counts : 309\n",
            "Name : Effusion\n",
            "Counts : 271\n",
            "Name : Pneumothorax\n",
            "Counts : 204\n",
            "Name : Consolidation\n",
            "Counts : 190\n",
            "Name : Mass\n",
            "Counts : 166\n",
            "Name : Cardiomegaly\n",
            "Counts : 140\n",
            "Name : Nodule\n",
            "Counts : 124\n",
            "Name : Emphysema\n",
            "Counts : 113\n",
            "Name : Pleural_Thickening\n",
            "Counts : 106\n",
            "Name : Edema\n",
            "Counts : 99\n",
            "Name : Pneumonia\n",
            "Counts : 70\n",
            "Name : Fibrosis\n",
            "Counts : 26\n",
            "Name : Hernia\n",
            "Counts : 1\n"
          ]
        }
      ],
      "source": [
        "for idx, name in enumerate(df['Labels'].value_counts().index.tolist()):\n",
        "    print('Name :', name)\n",
        "    print('Counts :', df['Labels'].value_counts()[idx])"
      ]
    },
    {
      "cell_type": "code",
      "execution_count": null,
      "metadata": {
        "id": "4vi37XaMFHHL"
      },
      "outputs": [],
      "source": [
        "#value_counts = df['Labels'].value_counts()\n",
        "#to_remove = value_counts[value_counts <= 500].index\n",
        "#df_trim = df[~df[\"Labels\"].isin(to_remove)]\n",
        "#df_left = df[df['Labels'].isin(to_remove)]"
      ]
    },
    {
      "cell_type": "code",
      "execution_count": null,
      "metadata": {
        "id": "hf5sVCsuckdz"
      },
      "outputs": [],
      "source": [
        "#plt.figure(figsize=(30,10))\n",
        "#plt.xticks(rotation=90, fontsize = 20);\n",
        "#sns.countplot(x ='Labels', data = df_trim);\n",
        "#plt.ylim(0, 10000)\n",
        "#plt.xlabel( \"Disease\" , size = 30 );\n",
        "#plt.ylabel( \"Count\" , size = 30 );"
      ]
    },
    {
      "cell_type": "code",
      "execution_count": null,
      "metadata": {
        "colab": {
          "base_uri": "https://localhost:8080/",
          "height": 505
        },
        "id": "zcEw1Of0kPZ5",
        "outputId": "6f8c6d98-bf5c-4329-dee1-4e1bd2ee0945"
      },
      "outputs": [
        {
          "output_type": "execute_result",
          "data": {
            "text/plain": [
              "                Images  PatientID  Atelectasis  Cardiomegaly  Consolidation  \\\n",
              "0     00000522_000.png        522            1             0              0   \n",
              "1     00000522_001.png        522            0             0              0   \n",
              "2     00000522_002.png        522            0             0              0   \n",
              "3     00000522_003.png        522            0             0              0   \n",
              "4     00000564_000.png        564            0             0              0   \n",
              "...                ...        ...          ...           ...            ...   \n",
              "6095  00030773_000.png      30773            0             0              0   \n",
              "6096  00030773_001.png      30773            0             0              0   \n",
              "6097  00030779_000.png      30779            0             0              0   \n",
              "6098  00030792_000.png      30792            0             0              0   \n",
              "6099  00030792_001.png      30792            0             0              0   \n",
              "\n",
              "      Edema  Effusion  Emphysema  Fibrosis  Hernia  Infiltration  Mass  \\\n",
              "0         0         0          0         0       0             0     0   \n",
              "1         0         0          0         0       0             0     0   \n",
              "2         0         0          0         0       0             0     0   \n",
              "3         0         0          0         0       0             0     0   \n",
              "4         0         0          0         0       0             0     0   \n",
              "...     ...       ...        ...       ...     ...           ...   ...   \n",
              "6095      0         0          0         0       0             0     0   \n",
              "6096      0         0          0         0       0             0     0   \n",
              "6097      0         0          0         0       0             0     0   \n",
              "6098      0         0          0         0       0             0     0   \n",
              "6099      0         0          0         0       0             0     0   \n",
              "\n",
              "      No Finding  Nodule  Pleural_Thickening  Pneumonia  Pneumothorax  \n",
              "0              0       0                   0          0             0  \n",
              "1              1       0                   0          0             0  \n",
              "2              1       0                   0          0             0  \n",
              "3              1       0                   0          0             0  \n",
              "4              1       0                   0          0             0  \n",
              "...          ...     ...                 ...        ...           ...  \n",
              "6095           1       0                   0          0             0  \n",
              "6096           1       0                   0          0             0  \n",
              "6097           1       0                   0          0             0  \n",
              "6098           1       0                   0          0             0  \n",
              "6099           1       0                   0          0             0  \n",
              "\n",
              "[6100 rows x 17 columns]"
            ],
            "text/html": [
              "\n",
              "  <div id=\"df-03db13ff-1d96-4b47-9f4d-5c870ab23bd8\">\n",
              "    <div class=\"colab-df-container\">\n",
              "      <div>\n",
              "<style scoped>\n",
              "    .dataframe tbody tr th:only-of-type {\n",
              "        vertical-align: middle;\n",
              "    }\n",
              "\n",
              "    .dataframe tbody tr th {\n",
              "        vertical-align: top;\n",
              "    }\n",
              "\n",
              "    .dataframe thead th {\n",
              "        text-align: right;\n",
              "    }\n",
              "</style>\n",
              "<table border=\"1\" class=\"dataframe\">\n",
              "  <thead>\n",
              "    <tr style=\"text-align: right;\">\n",
              "      <th></th>\n",
              "      <th>Images</th>\n",
              "      <th>PatientID</th>\n",
              "      <th>Atelectasis</th>\n",
              "      <th>Cardiomegaly</th>\n",
              "      <th>Consolidation</th>\n",
              "      <th>Edema</th>\n",
              "      <th>Effusion</th>\n",
              "      <th>Emphysema</th>\n",
              "      <th>Fibrosis</th>\n",
              "      <th>Hernia</th>\n",
              "      <th>Infiltration</th>\n",
              "      <th>Mass</th>\n",
              "      <th>No Finding</th>\n",
              "      <th>Nodule</th>\n",
              "      <th>Pleural_Thickening</th>\n",
              "      <th>Pneumonia</th>\n",
              "      <th>Pneumothorax</th>\n",
              "    </tr>\n",
              "  </thead>\n",
              "  <tbody>\n",
              "    <tr>\n",
              "      <th>0</th>\n",
              "      <td>00000522_000.png</td>\n",
              "      <td>522</td>\n",
              "      <td>1</td>\n",
              "      <td>0</td>\n",
              "      <td>0</td>\n",
              "      <td>0</td>\n",
              "      <td>0</td>\n",
              "      <td>0</td>\n",
              "      <td>0</td>\n",
              "      <td>0</td>\n",
              "      <td>0</td>\n",
              "      <td>0</td>\n",
              "      <td>0</td>\n",
              "      <td>0</td>\n",
              "      <td>0</td>\n",
              "      <td>0</td>\n",
              "      <td>0</td>\n",
              "    </tr>\n",
              "    <tr>\n",
              "      <th>1</th>\n",
              "      <td>00000522_001.png</td>\n",
              "      <td>522</td>\n",
              "      <td>0</td>\n",
              "      <td>0</td>\n",
              "      <td>0</td>\n",
              "      <td>0</td>\n",
              "      <td>0</td>\n",
              "      <td>0</td>\n",
              "      <td>0</td>\n",
              "      <td>0</td>\n",
              "      <td>0</td>\n",
              "      <td>0</td>\n",
              "      <td>1</td>\n",
              "      <td>0</td>\n",
              "      <td>0</td>\n",
              "      <td>0</td>\n",
              "      <td>0</td>\n",
              "    </tr>\n",
              "    <tr>\n",
              "      <th>2</th>\n",
              "      <td>00000522_002.png</td>\n",
              "      <td>522</td>\n",
              "      <td>0</td>\n",
              "      <td>0</td>\n",
              "      <td>0</td>\n",
              "      <td>0</td>\n",
              "      <td>0</td>\n",
              "      <td>0</td>\n",
              "      <td>0</td>\n",
              "      <td>0</td>\n",
              "      <td>0</td>\n",
              "      <td>0</td>\n",
              "      <td>1</td>\n",
              "      <td>0</td>\n",
              "      <td>0</td>\n",
              "      <td>0</td>\n",
              "      <td>0</td>\n",
              "    </tr>\n",
              "    <tr>\n",
              "      <th>3</th>\n",
              "      <td>00000522_003.png</td>\n",
              "      <td>522</td>\n",
              "      <td>0</td>\n",
              "      <td>0</td>\n",
              "      <td>0</td>\n",
              "      <td>0</td>\n",
              "      <td>0</td>\n",
              "      <td>0</td>\n",
              "      <td>0</td>\n",
              "      <td>0</td>\n",
              "      <td>0</td>\n",
              "      <td>0</td>\n",
              "      <td>1</td>\n",
              "      <td>0</td>\n",
              "      <td>0</td>\n",
              "      <td>0</td>\n",
              "      <td>0</td>\n",
              "    </tr>\n",
              "    <tr>\n",
              "      <th>4</th>\n",
              "      <td>00000564_000.png</td>\n",
              "      <td>564</td>\n",
              "      <td>0</td>\n",
              "      <td>0</td>\n",
              "      <td>0</td>\n",
              "      <td>0</td>\n",
              "      <td>0</td>\n",
              "      <td>0</td>\n",
              "      <td>0</td>\n",
              "      <td>0</td>\n",
              "      <td>0</td>\n",
              "      <td>0</td>\n",
              "      <td>1</td>\n",
              "      <td>0</td>\n",
              "      <td>0</td>\n",
              "      <td>0</td>\n",
              "      <td>0</td>\n",
              "    </tr>\n",
              "    <tr>\n",
              "      <th>...</th>\n",
              "      <td>...</td>\n",
              "      <td>...</td>\n",
              "      <td>...</td>\n",
              "      <td>...</td>\n",
              "      <td>...</td>\n",
              "      <td>...</td>\n",
              "      <td>...</td>\n",
              "      <td>...</td>\n",
              "      <td>...</td>\n",
              "      <td>...</td>\n",
              "      <td>...</td>\n",
              "      <td>...</td>\n",
              "      <td>...</td>\n",
              "      <td>...</td>\n",
              "      <td>...</td>\n",
              "      <td>...</td>\n",
              "      <td>...</td>\n",
              "    </tr>\n",
              "    <tr>\n",
              "      <th>6095</th>\n",
              "      <td>00030773_000.png</td>\n",
              "      <td>30773</td>\n",
              "      <td>0</td>\n",
              "      <td>0</td>\n",
              "      <td>0</td>\n",
              "      <td>0</td>\n",
              "      <td>0</td>\n",
              "      <td>0</td>\n",
              "      <td>0</td>\n",
              "      <td>0</td>\n",
              "      <td>0</td>\n",
              "      <td>0</td>\n",
              "      <td>1</td>\n",
              "      <td>0</td>\n",
              "      <td>0</td>\n",
              "      <td>0</td>\n",
              "      <td>0</td>\n",
              "    </tr>\n",
              "    <tr>\n",
              "      <th>6096</th>\n",
              "      <td>00030773_001.png</td>\n",
              "      <td>30773</td>\n",
              "      <td>0</td>\n",
              "      <td>0</td>\n",
              "      <td>0</td>\n",
              "      <td>0</td>\n",
              "      <td>0</td>\n",
              "      <td>0</td>\n",
              "      <td>0</td>\n",
              "      <td>0</td>\n",
              "      <td>0</td>\n",
              "      <td>0</td>\n",
              "      <td>1</td>\n",
              "      <td>0</td>\n",
              "      <td>0</td>\n",
              "      <td>0</td>\n",
              "      <td>0</td>\n",
              "    </tr>\n",
              "    <tr>\n",
              "      <th>6097</th>\n",
              "      <td>00030779_000.png</td>\n",
              "      <td>30779</td>\n",
              "      <td>0</td>\n",
              "      <td>0</td>\n",
              "      <td>0</td>\n",
              "      <td>0</td>\n",
              "      <td>0</td>\n",
              "      <td>0</td>\n",
              "      <td>0</td>\n",
              "      <td>0</td>\n",
              "      <td>0</td>\n",
              "      <td>0</td>\n",
              "      <td>1</td>\n",
              "      <td>0</td>\n",
              "      <td>0</td>\n",
              "      <td>0</td>\n",
              "      <td>0</td>\n",
              "    </tr>\n",
              "    <tr>\n",
              "      <th>6098</th>\n",
              "      <td>00030792_000.png</td>\n",
              "      <td>30792</td>\n",
              "      <td>0</td>\n",
              "      <td>0</td>\n",
              "      <td>0</td>\n",
              "      <td>0</td>\n",
              "      <td>0</td>\n",
              "      <td>0</td>\n",
              "      <td>0</td>\n",
              "      <td>0</td>\n",
              "      <td>0</td>\n",
              "      <td>0</td>\n",
              "      <td>1</td>\n",
              "      <td>0</td>\n",
              "      <td>0</td>\n",
              "      <td>0</td>\n",
              "      <td>0</td>\n",
              "    </tr>\n",
              "    <tr>\n",
              "      <th>6099</th>\n",
              "      <td>00030792_001.png</td>\n",
              "      <td>30792</td>\n",
              "      <td>0</td>\n",
              "      <td>0</td>\n",
              "      <td>0</td>\n",
              "      <td>0</td>\n",
              "      <td>0</td>\n",
              "      <td>0</td>\n",
              "      <td>0</td>\n",
              "      <td>0</td>\n",
              "      <td>0</td>\n",
              "      <td>0</td>\n",
              "      <td>1</td>\n",
              "      <td>0</td>\n",
              "      <td>0</td>\n",
              "      <td>0</td>\n",
              "      <td>0</td>\n",
              "    </tr>\n",
              "  </tbody>\n",
              "</table>\n",
              "<p>6100 rows × 17 columns</p>\n",
              "</div>\n",
              "      <button class=\"colab-df-convert\" onclick=\"convertToInteractive('df-03db13ff-1d96-4b47-9f4d-5c870ab23bd8')\"\n",
              "              title=\"Convert this dataframe to an interactive table.\"\n",
              "              style=\"display:none;\">\n",
              "        \n",
              "  <svg xmlns=\"http://www.w3.org/2000/svg\" height=\"24px\"viewBox=\"0 0 24 24\"\n",
              "       width=\"24px\">\n",
              "    <path d=\"M0 0h24v24H0V0z\" fill=\"none\"/>\n",
              "    <path d=\"M18.56 5.44l.94 2.06.94-2.06 2.06-.94-2.06-.94-.94-2.06-.94 2.06-2.06.94zm-11 1L8.5 8.5l.94-2.06 2.06-.94-2.06-.94L8.5 2.5l-.94 2.06-2.06.94zm10 10l.94 2.06.94-2.06 2.06-.94-2.06-.94-.94-2.06-.94 2.06-2.06.94z\"/><path d=\"M17.41 7.96l-1.37-1.37c-.4-.4-.92-.59-1.43-.59-.52 0-1.04.2-1.43.59L10.3 9.45l-7.72 7.72c-.78.78-.78 2.05 0 2.83L4 21.41c.39.39.9.59 1.41.59.51 0 1.02-.2 1.41-.59l7.78-7.78 2.81-2.81c.8-.78.8-2.07 0-2.86zM5.41 20L4 18.59l7.72-7.72 1.47 1.35L5.41 20z\"/>\n",
              "  </svg>\n",
              "      </button>\n",
              "      \n",
              "  <style>\n",
              "    .colab-df-container {\n",
              "      display:flex;\n",
              "      flex-wrap:wrap;\n",
              "      gap: 12px;\n",
              "    }\n",
              "\n",
              "    .colab-df-convert {\n",
              "      background-color: #E8F0FE;\n",
              "      border: none;\n",
              "      border-radius: 50%;\n",
              "      cursor: pointer;\n",
              "      display: none;\n",
              "      fill: #1967D2;\n",
              "      height: 32px;\n",
              "      padding: 0 0 0 0;\n",
              "      width: 32px;\n",
              "    }\n",
              "\n",
              "    .colab-df-convert:hover {\n",
              "      background-color: #E2EBFA;\n",
              "      box-shadow: 0px 1px 2px rgba(60, 64, 67, 0.3), 0px 1px 3px 1px rgba(60, 64, 67, 0.15);\n",
              "      fill: #174EA6;\n",
              "    }\n",
              "\n",
              "    [theme=dark] .colab-df-convert {\n",
              "      background-color: #3B4455;\n",
              "      fill: #D2E3FC;\n",
              "    }\n",
              "\n",
              "    [theme=dark] .colab-df-convert:hover {\n",
              "      background-color: #434B5C;\n",
              "      box-shadow: 0px 1px 3px 1px rgba(0, 0, 0, 0.15);\n",
              "      filter: drop-shadow(0px 1px 2px rgba(0, 0, 0, 0.3));\n",
              "      fill: #FFFFFF;\n",
              "    }\n",
              "  </style>\n",
              "\n",
              "      <script>\n",
              "        const buttonEl =\n",
              "          document.querySelector('#df-03db13ff-1d96-4b47-9f4d-5c870ab23bd8 button.colab-df-convert');\n",
              "        buttonEl.style.display =\n",
              "          google.colab.kernel.accessAllowed ? 'block' : 'none';\n",
              "\n",
              "        async function convertToInteractive(key) {\n",
              "          const element = document.querySelector('#df-03db13ff-1d96-4b47-9f4d-5c870ab23bd8');\n",
              "          const dataTable =\n",
              "            await google.colab.kernel.invokeFunction('convertToInteractive',\n",
              "                                                     [key], {});\n",
              "          if (!dataTable) return;\n",
              "\n",
              "          const docLinkHtml = 'Like what you see? Visit the ' +\n",
              "            '<a target=\"_blank\" href=https://colab.research.google.com/notebooks/data_table.ipynb>data table notebook</a>'\n",
              "            + ' to learn more about interactive tables.';\n",
              "          element.innerHTML = '';\n",
              "          dataTable['output_type'] = 'display_data';\n",
              "          await google.colab.output.renderOutput(dataTable, element);\n",
              "          const docLink = document.createElement('div');\n",
              "          docLink.innerHTML = docLinkHtml;\n",
              "          element.appendChild(docLink);\n",
              "        }\n",
              "      </script>\n",
              "    </div>\n",
              "  </div>\n",
              "  "
            ]
          },
          "metadata": {},
          "execution_count": 15
        }
      ],
      "source": [
        "dummies = pd.get_dummies(df.Labels)\n",
        "df1 = pd.concat([df,dummies], axis = 1)\n",
        "df1 = df1.drop(['Labels','Unnamed: 0','Age','Gender','ViewPosition'], axis = 1)\n",
        "df1"
      ]
    },
    {
      "cell_type": "code",
      "execution_count": null,
      "metadata": {
        "colab": {
          "base_uri": "https://localhost:8080/",
          "height": 305
        },
        "id": "QYDIvUdsj-AO",
        "outputId": "34e5647d-0993-480a-d6b6-ed506c9e0b6c"
      },
      "outputs": [
        {
          "output_type": "stream",
          "name": "stdout",
          "text": [
            "There are 6100 rows and 17 columns in this data frame\n"
          ]
        },
        {
          "output_type": "execute_result",
          "data": {
            "text/plain": [
              "             Images  PatientID  Atelectasis  Cardiomegaly  Consolidation  \\\n",
              "0  00000522_000.png        522            1             0              0   \n",
              "1  00000522_001.png        522            0             0              0   \n",
              "2  00000522_002.png        522            0             0              0   \n",
              "3  00000522_003.png        522            0             0              0   \n",
              "4  00000564_000.png        564            0             0              0   \n",
              "\n",
              "   Edema  Effusion  Emphysema  Fibrosis  Hernia  Infiltration  Mass  \\\n",
              "0      0         0          0         0       0             0     0   \n",
              "1      0         0          0         0       0             0     0   \n",
              "2      0         0          0         0       0             0     0   \n",
              "3      0         0          0         0       0             0     0   \n",
              "4      0         0          0         0       0             0     0   \n",
              "\n",
              "   No Finding  Nodule  Pleural_Thickening  Pneumonia  Pneumothorax  \n",
              "0           0       0                   0          0             0  \n",
              "1           1       0                   0          0             0  \n",
              "2           1       0                   0          0             0  \n",
              "3           1       0                   0          0             0  \n",
              "4           1       0                   0          0             0  "
            ],
            "text/html": [
              "\n",
              "  <div id=\"df-e8fe7c92-6751-481f-aed5-1b40d1d0da8c\">\n",
              "    <div class=\"colab-df-container\">\n",
              "      <div>\n",
              "<style scoped>\n",
              "    .dataframe tbody tr th:only-of-type {\n",
              "        vertical-align: middle;\n",
              "    }\n",
              "\n",
              "    .dataframe tbody tr th {\n",
              "        vertical-align: top;\n",
              "    }\n",
              "\n",
              "    .dataframe thead th {\n",
              "        text-align: right;\n",
              "    }\n",
              "</style>\n",
              "<table border=\"1\" class=\"dataframe\">\n",
              "  <thead>\n",
              "    <tr style=\"text-align: right;\">\n",
              "      <th></th>\n",
              "      <th>Images</th>\n",
              "      <th>PatientID</th>\n",
              "      <th>Atelectasis</th>\n",
              "      <th>Cardiomegaly</th>\n",
              "      <th>Consolidation</th>\n",
              "      <th>Edema</th>\n",
              "      <th>Effusion</th>\n",
              "      <th>Emphysema</th>\n",
              "      <th>Fibrosis</th>\n",
              "      <th>Hernia</th>\n",
              "      <th>Infiltration</th>\n",
              "      <th>Mass</th>\n",
              "      <th>No Finding</th>\n",
              "      <th>Nodule</th>\n",
              "      <th>Pleural_Thickening</th>\n",
              "      <th>Pneumonia</th>\n",
              "      <th>Pneumothorax</th>\n",
              "    </tr>\n",
              "  </thead>\n",
              "  <tbody>\n",
              "    <tr>\n",
              "      <th>0</th>\n",
              "      <td>00000522_000.png</td>\n",
              "      <td>522</td>\n",
              "      <td>1</td>\n",
              "      <td>0</td>\n",
              "      <td>0</td>\n",
              "      <td>0</td>\n",
              "      <td>0</td>\n",
              "      <td>0</td>\n",
              "      <td>0</td>\n",
              "      <td>0</td>\n",
              "      <td>0</td>\n",
              "      <td>0</td>\n",
              "      <td>0</td>\n",
              "      <td>0</td>\n",
              "      <td>0</td>\n",
              "      <td>0</td>\n",
              "      <td>0</td>\n",
              "    </tr>\n",
              "    <tr>\n",
              "      <th>1</th>\n",
              "      <td>00000522_001.png</td>\n",
              "      <td>522</td>\n",
              "      <td>0</td>\n",
              "      <td>0</td>\n",
              "      <td>0</td>\n",
              "      <td>0</td>\n",
              "      <td>0</td>\n",
              "      <td>0</td>\n",
              "      <td>0</td>\n",
              "      <td>0</td>\n",
              "      <td>0</td>\n",
              "      <td>0</td>\n",
              "      <td>1</td>\n",
              "      <td>0</td>\n",
              "      <td>0</td>\n",
              "      <td>0</td>\n",
              "      <td>0</td>\n",
              "    </tr>\n",
              "    <tr>\n",
              "      <th>2</th>\n",
              "      <td>00000522_002.png</td>\n",
              "      <td>522</td>\n",
              "      <td>0</td>\n",
              "      <td>0</td>\n",
              "      <td>0</td>\n",
              "      <td>0</td>\n",
              "      <td>0</td>\n",
              "      <td>0</td>\n",
              "      <td>0</td>\n",
              "      <td>0</td>\n",
              "      <td>0</td>\n",
              "      <td>0</td>\n",
              "      <td>1</td>\n",
              "      <td>0</td>\n",
              "      <td>0</td>\n",
              "      <td>0</td>\n",
              "      <td>0</td>\n",
              "    </tr>\n",
              "    <tr>\n",
              "      <th>3</th>\n",
              "      <td>00000522_003.png</td>\n",
              "      <td>522</td>\n",
              "      <td>0</td>\n",
              "      <td>0</td>\n",
              "      <td>0</td>\n",
              "      <td>0</td>\n",
              "      <td>0</td>\n",
              "      <td>0</td>\n",
              "      <td>0</td>\n",
              "      <td>0</td>\n",
              "      <td>0</td>\n",
              "      <td>0</td>\n",
              "      <td>1</td>\n",
              "      <td>0</td>\n",
              "      <td>0</td>\n",
              "      <td>0</td>\n",
              "      <td>0</td>\n",
              "    </tr>\n",
              "    <tr>\n",
              "      <th>4</th>\n",
              "      <td>00000564_000.png</td>\n",
              "      <td>564</td>\n",
              "      <td>0</td>\n",
              "      <td>0</td>\n",
              "      <td>0</td>\n",
              "      <td>0</td>\n",
              "      <td>0</td>\n",
              "      <td>0</td>\n",
              "      <td>0</td>\n",
              "      <td>0</td>\n",
              "      <td>0</td>\n",
              "      <td>0</td>\n",
              "      <td>1</td>\n",
              "      <td>0</td>\n",
              "      <td>0</td>\n",
              "      <td>0</td>\n",
              "      <td>0</td>\n",
              "    </tr>\n",
              "  </tbody>\n",
              "</table>\n",
              "</div>\n",
              "      <button class=\"colab-df-convert\" onclick=\"convertToInteractive('df-e8fe7c92-6751-481f-aed5-1b40d1d0da8c')\"\n",
              "              title=\"Convert this dataframe to an interactive table.\"\n",
              "              style=\"display:none;\">\n",
              "        \n",
              "  <svg xmlns=\"http://www.w3.org/2000/svg\" height=\"24px\"viewBox=\"0 0 24 24\"\n",
              "       width=\"24px\">\n",
              "    <path d=\"M0 0h24v24H0V0z\" fill=\"none\"/>\n",
              "    <path d=\"M18.56 5.44l.94 2.06.94-2.06 2.06-.94-2.06-.94-.94-2.06-.94 2.06-2.06.94zm-11 1L8.5 8.5l.94-2.06 2.06-.94-2.06-.94L8.5 2.5l-.94 2.06-2.06.94zm10 10l.94 2.06.94-2.06 2.06-.94-2.06-.94-.94-2.06-.94 2.06-2.06.94z\"/><path d=\"M17.41 7.96l-1.37-1.37c-.4-.4-.92-.59-1.43-.59-.52 0-1.04.2-1.43.59L10.3 9.45l-7.72 7.72c-.78.78-.78 2.05 0 2.83L4 21.41c.39.39.9.59 1.41.59.51 0 1.02-.2 1.41-.59l7.78-7.78 2.81-2.81c.8-.78.8-2.07 0-2.86zM5.41 20L4 18.59l7.72-7.72 1.47 1.35L5.41 20z\"/>\n",
              "  </svg>\n",
              "      </button>\n",
              "      \n",
              "  <style>\n",
              "    .colab-df-container {\n",
              "      display:flex;\n",
              "      flex-wrap:wrap;\n",
              "      gap: 12px;\n",
              "    }\n",
              "\n",
              "    .colab-df-convert {\n",
              "      background-color: #E8F0FE;\n",
              "      border: none;\n",
              "      border-radius: 50%;\n",
              "      cursor: pointer;\n",
              "      display: none;\n",
              "      fill: #1967D2;\n",
              "      height: 32px;\n",
              "      padding: 0 0 0 0;\n",
              "      width: 32px;\n",
              "    }\n",
              "\n",
              "    .colab-df-convert:hover {\n",
              "      background-color: #E2EBFA;\n",
              "      box-shadow: 0px 1px 2px rgba(60, 64, 67, 0.3), 0px 1px 3px 1px rgba(60, 64, 67, 0.15);\n",
              "      fill: #174EA6;\n",
              "    }\n",
              "\n",
              "    [theme=dark] .colab-df-convert {\n",
              "      background-color: #3B4455;\n",
              "      fill: #D2E3FC;\n",
              "    }\n",
              "\n",
              "    [theme=dark] .colab-df-convert:hover {\n",
              "      background-color: #434B5C;\n",
              "      box-shadow: 0px 1px 3px 1px rgba(0, 0, 0, 0.15);\n",
              "      filter: drop-shadow(0px 1px 2px rgba(0, 0, 0, 0.3));\n",
              "      fill: #FFFFFF;\n",
              "    }\n",
              "  </style>\n",
              "\n",
              "      <script>\n",
              "        const buttonEl =\n",
              "          document.querySelector('#df-e8fe7c92-6751-481f-aed5-1b40d1d0da8c button.colab-df-convert');\n",
              "        buttonEl.style.display =\n",
              "          google.colab.kernel.accessAllowed ? 'block' : 'none';\n",
              "\n",
              "        async function convertToInteractive(key) {\n",
              "          const element = document.querySelector('#df-e8fe7c92-6751-481f-aed5-1b40d1d0da8c');\n",
              "          const dataTable =\n",
              "            await google.colab.kernel.invokeFunction('convertToInteractive',\n",
              "                                                     [key], {});\n",
              "          if (!dataTable) return;\n",
              "\n",
              "          const docLinkHtml = 'Like what you see? Visit the ' +\n",
              "            '<a target=\"_blank\" href=https://colab.research.google.com/notebooks/data_table.ipynb>data table notebook</a>'\n",
              "            + ' to learn more about interactive tables.';\n",
              "          element.innerHTML = '';\n",
              "          dataTable['output_type'] = 'display_data';\n",
              "          await google.colab.output.renderOutput(dataTable, element);\n",
              "          const docLink = document.createElement('div');\n",
              "          docLink.innerHTML = docLinkHtml;\n",
              "          element.appendChild(docLink);\n",
              "        }\n",
              "      </script>\n",
              "    </div>\n",
              "  </div>\n",
              "  "
            ]
          },
          "metadata": {},
          "execution_count": 16
        }
      ],
      "source": [
        "print(f'There are {df1.shape[0]} rows and {df1.shape[1]} columns in this data frame')\n",
        "df1.head()"
      ]
    },
    {
      "cell_type": "markdown",
      "metadata": {
        "id": "cxL_-QC8liRH"
      },
      "source": [
        "## Data Types and null values check"
      ]
    },
    {
      "cell_type": "code",
      "execution_count": null,
      "metadata": {
        "colab": {
          "base_uri": "https://localhost:8080/"
        },
        "id": "4Vy9cGPElKqK",
        "outputId": "54283273-9077-4a26-d934-9161a9a87eb5"
      },
      "outputs": [
        {
          "output_type": "stream",
          "name": "stdout",
          "text": [
            "<class 'pandas.core.frame.DataFrame'>\n",
            "RangeIndex: 6100 entries, 0 to 6099\n",
            "Data columns (total 17 columns):\n",
            " #   Column              Non-Null Count  Dtype \n",
            "---  ------              --------------  ----- \n",
            " 0   Images              6100 non-null   object\n",
            " 1   PatientID           6100 non-null   int64 \n",
            " 2   Atelectasis         6100 non-null   uint8 \n",
            " 3   Cardiomegaly        6100 non-null   uint8 \n",
            " 4   Consolidation       6100 non-null   uint8 \n",
            " 5   Edema               6100 non-null   uint8 \n",
            " 6   Effusion            6100 non-null   uint8 \n",
            " 7   Emphysema           6100 non-null   uint8 \n",
            " 8   Fibrosis            6100 non-null   uint8 \n",
            " 9   Hernia              6100 non-null   uint8 \n",
            " 10  Infiltration        6100 non-null   uint8 \n",
            " 11  Mass                6100 non-null   uint8 \n",
            " 12  No Finding          6100 non-null   uint8 \n",
            " 13  Nodule              6100 non-null   uint8 \n",
            " 14  Pleural_Thickening  6100 non-null   uint8 \n",
            " 15  Pneumonia           6100 non-null   uint8 \n",
            " 16  Pneumothorax        6100 non-null   uint8 \n",
            "dtypes: int64(1), object(1), uint8(15)\n",
            "memory usage: 184.8+ KB\n"
          ]
        }
      ],
      "source": [
        "df1.info()"
      ]
    },
    {
      "cell_type": "code",
      "execution_count": null,
      "metadata": {
        "colab": {
          "base_uri": "https://localhost:8080/"
        },
        "id": "iSdWKm3Vl8pE",
        "outputId": "f4013bec-1a33-4444-88a2-ddf57e73c06c"
      },
      "outputs": [
        {
          "output_type": "stream",
          "name": "stdout",
          "text": [
            "The total patient ids are 6100, from those the unique ids are 1851 \n"
          ]
        }
      ],
      "source": [
        "print(f\"The total patient ids are {df['PatientID'].count()}, from those the unique ids are {df['PatientID'].value_counts().shape[0]} \")"
      ]
    },
    {
      "cell_type": "markdown",
      "metadata": {
        "id": "D4sZtAzQnBO7"
      },
      "source": [
        "##Explore data labels"
      ]
    },
    {
      "cell_type": "code",
      "execution_count": null,
      "metadata": {
        "colab": {
          "base_uri": "https://localhost:8080/"
        },
        "id": "BHEVf7ZZmkgL",
        "outputId": "1f2c8342-b454-4b2d-85e1-b23e6b5743a7"
      },
      "outputs": [
        {
          "output_type": "stream",
          "name": "stdout",
          "text": [
            "['Images', 'PatientID', 'Atelectasis', 'Cardiomegaly', 'Consolidation', 'Edema', 'Effusion', 'Emphysema', 'Fibrosis', 'Hernia', 'Infiltration', 'Mass', 'No Finding', 'Nodule', 'Pleural_Thickening', 'Pneumonia', 'Pneumothorax']\n"
          ]
        }
      ],
      "source": [
        "columns = df1.keys()\n",
        "columns = list(columns)\n",
        "print(columns)"
      ]
    },
    {
      "cell_type": "code",
      "execution_count": null,
      "metadata": {
        "id": "kcQ122vPnGGo"
      },
      "outputs": [],
      "source": [
        "# Remove unnecesary elements\n",
        "columns.remove('Images')\n",
        "columns.remove('PatientID')\n"
      ]
    },
    {
      "cell_type": "code",
      "execution_count": null,
      "metadata": {
        "colab": {
          "base_uri": "https://localhost:8080/"
        },
        "id": "dl9kp2f-nWaz",
        "outputId": "46061db6-7737-4b7e-88f6-bcebbcdce397"
      },
      "outputs": [
        {
          "output_type": "stream",
          "name": "stdout",
          "text": [
            "There are 15 columns of labels for these conditions: ['Atelectasis', 'Cardiomegaly', 'Consolidation', 'Edema', 'Effusion', 'Emphysema', 'Fibrosis', 'Hernia', 'Infiltration', 'Mass', 'No Finding', 'Nodule', 'Pleural_Thickening', 'Pneumonia', 'Pneumothorax']\n"
          ]
        }
      ],
      "source": [
        "# Get the total classes\n",
        "print(f\"There are {len(columns)} columns of labels for these conditions: {columns}\")"
      ]
    },
    {
      "cell_type": "code",
      "execution_count": null,
      "metadata": {
        "colab": {
          "base_uri": "https://localhost:8080/"
        },
        "id": "2JP8Pg2FoKI0",
        "outputId": "bee2e096-2643-43f7-b76f-fefc35d6a91d"
      },
      "outputs": [
        {
          "output_type": "stream",
          "name": "stdout",
          "text": [
            "The class Atelectasis has 309 samples\n",
            "The class Cardiomegaly has 140 samples\n",
            "The class Consolidation has 190 samples\n",
            "The class Edema has 99 samples\n",
            "The class Effusion has 271 samples\n",
            "The class Emphysema has 113 samples\n",
            "The class Fibrosis has 26 samples\n",
            "The class Hernia has 1 samples\n",
            "The class Infiltration has 692 samples\n",
            "The class Mass has 166 samples\n",
            "The class No Finding has 3589 samples\n",
            "The class Nodule has 124 samples\n",
            "The class Pleural_Thickening has 106 samples\n",
            "The class Pneumonia has 70 samples\n",
            "The class Pneumothorax has 204 samples\n"
          ]
        }
      ],
      "source": [
        "for column in columns:\n",
        "  print(f\"The class {column} has {df1[column].sum()} samples\")"
      ]
    },
    {
      "cell_type": "markdown",
      "metadata": {
        "id": "C841dGc6qQ6i"
      },
      "source": [
        "## Data Visualization"
      ]
    },
    {
      "cell_type": "code",
      "execution_count": null,
      "metadata": {
        "colab": {
          "base_uri": "https://localhost:8080/",
          "height": 746
        },
        "id": "qxB_v-HeorKz",
        "outputId": "824f4ca9-f95b-4bcc-940e-9446d1afc671"
      },
      "outputs": [
        {
          "output_type": "stream",
          "name": "stdout",
          "text": [
            "Display Random Images\n"
          ]
        },
        {
          "output_type": "display_data",
          "data": {
            "text/plain": [
              "<Figure size 1440x720 with 9 Axes>"
            ],
            "image/png": "[encoded data removed]"
          },
          "metadata": {
            "needs_background": "light"
          }
        }
      ],
      "source": [
        "import os\n",
        "# Extract numpy values from Image column in data frame\n",
        "images = df1['Images'].values\n",
        "\n",
        "# Extract 9 random images from it\n",
        "random_images = [np.random.choice(images) for i in range(9)]\n",
        "\n",
        "# Location of the image dir\n",
        "img_dir = '/content/drive/MyDrive/Dataset/Pediatric_dataset/ped_images'\n",
        "\n",
        "print('Display Random Images')\n",
        "\n",
        "# Adjust the size of your images\n",
        "plt.figure(figsize=(20,10))\n",
        "\n",
        "# Iterate and plot random images\n",
        "for i in range(9):\n",
        "    plt.subplot(3, 3, i + 1)\n",
        "    img = plt.imread(os.path.join(img_dir, random_images[i]))\n",
        "    plt.imshow(img, cmap='gray')\n",
        "    plt.axis('off')\n",
        "    \n",
        "# Adjust subplot parameters to give specified padding\n",
        "plt.tight_layout()"
      ]
    },
    {
      "cell_type": "code",
      "execution_count": null,
      "metadata": {
        "colab": {
          "base_uri": "https://localhost:8080/",
          "height": 333
        },
        "id": "k-lPef8Gqj4C",
        "outputId": "d36c7116-f45b-4956-d9aa-e0547afca632"
      },
      "outputs": [
        {
          "output_type": "stream",
          "name": "stdout",
          "text": [
            "The dimensions of the image are 1024 pixels width and 1024 pixels height, one single color channel\n",
            "The maximum pixel value is 0.9647 and the minimum is 0.0275\n",
            "The mean value of the pixels is 0.6216 and the standard deviation is 0.2853\n"
          ]
        },
        {
          "output_type": "display_data",
          "data": {
            "text/plain": [
              "<Figure size 432x288 with 2 Axes>"
            ],
            "image/png": "[encoded data removed]"
          },
          "metadata": {
            "needs_background": "light"
          }
        }
      ],
      "source": [
        "# Get the first image that was listed in the train_df dataframe\n",
        "sample_img = df1.Images[0]\n",
        "raw_image = plt.imread(os.path.join(img_dir, sample_img))\n",
        "plt.imshow(raw_image, cmap='gray')\n",
        "plt.colorbar()\n",
        "plt.title('Raw Chest X Ray Image')\n",
        "print(f\"The dimensions of the image are {raw_image.shape[0]} pixels width and {raw_image.shape[1]} pixels height, one single color channel\")\n",
        "print(f\"The maximum pixel value is {raw_image.max():.4f} and the minimum is {raw_image.min():.4f}\")\n",
        "print(f\"The mean value of the pixels is {raw_image.mean():.4f} and the standard deviation is {raw_image.std():.4f}\")"
      ]
    },
    {
      "cell_type": "markdown",
      "metadata": {
        "id": "IZZedBLxrNT4"
      },
      "source": [
        "##Investigate pixel value distribution"
      ]
    },
    {
      "cell_type": "code",
      "execution_count": null,
      "metadata": {
        "colab": {
          "base_uri": "https://localhost:8080/",
          "height": 367
        },
        "id": "GXTUPw6qq9lf",
        "outputId": "89b206bc-590a-48dd-9869-ef818deac561"
      },
      "outputs": [
        {
          "name": "stderr",
          "output_type": "stream",
          "text": [
            "/usr/local/lib/python3.7/dist-packages/seaborn/distributions.py:2619: FutureWarning: `distplot` is a deprecated function and will be removed in a future version. Please adapt your code to use either `displot` (a figure-level function with similar flexibility) or `histplot` (an axes-level function for histograms).\n",
            "  warnings.warn(msg, FutureWarning)\n"
          ]
        },
        {
          "data": {
            "text/plain": [
              "Text(0, 0.5, '# Pixels in Image')"
            ]
          },
          "execution_count": 18,
          "metadata": {},
          "output_type": "execute_result"
        },
        {
          "data": {
            "image/png": "[encoded data removed]",
            "text/plain": [
              "<Figure size 432x288 with 1 Axes>"
            ]
          },
          "metadata": {},
          "output_type": "display_data"
        }
      ],
      "source": [
        "# Plot a histogram of the distribution of the pixels\n",
        "sns.distplot(raw_image.ravel(), \n",
        "             label=f'Pixel Mean {np.mean(raw_image):.4f} & Standard Deviation {np.std(raw_image):.4f}', kde=False)\n",
        "plt.legend(loc='upper center')\n",
        "plt.title('Distribution of Pixel Intensities in the Image')\n",
        "plt.xlabel('Pixel Intensity')\n",
        "plt.ylabel('# Pixels in Image')"
      ]
    },
    {
      "cell_type": "markdown",
      "metadata": {
        "id": "9hjaZJPSrZDD"
      },
      "source": [
        "##Image Preprocessing in Keras"
      ]
    },
    {
      "cell_type": "code",
      "execution_count": null,
      "metadata": {
        "id": "Ik0Zk5KarUSE"
      },
      "outputs": [],
      "source": [
        "#import data generator from keras \n",
        "from keras.preprocessing.image import ImageDataGenerator"
      ]
    },
    {
      "cell_type": "code",
      "execution_count": null,
      "metadata": {
        "id": "_kdfVX6srmB6"
      },
      "outputs": [],
      "source": [
        "\n",
        "# Normalize images\n",
        "image_generator = ImageDataGenerator(\n",
        "    samplewise_center=True, #Set each sample mean to 0.\n",
        "    samplewise_std_normalization= True # Divide each input by its standard deviation\n",
        ")"
      ]
    },
    {
      "cell_type": "markdown",
      "metadata": {
        "id": "Rc7wURM0rpxa"
      },
      "source": [
        "###Standardization"
      ]
    },
    {
      "cell_type": "code",
      "execution_count": null,
      "metadata": {
        "colab": {
          "base_uri": "https://localhost:8080/"
        },
        "id": "2ZU_gIgyrojX",
        "outputId": "eaeb62f0-f846-4545-fec9-9d343d8453f3"
      },
      "outputs": [
        {
          "output_type": "stream",
          "name": "stdout",
          "text": [
            "Found 6100 validated image filenames.\n"
          ]
        }
      ],
      "source": [
        "# Flow from directory with specified batch size and target image size\n",
        "generator = image_generator.flow_from_dataframe(\n",
        "        dataframe=df1,\n",
        "        directory=\"/content/drive/MyDrive/Dataset/Pediatric_dataset/ped_images\",\n",
        "        x_col=\"Images\", # features\n",
        "        # Let's say we build a model for mass detection\n",
        "        y_col= ['Mass'], # labels\n",
        "        class_mode=\"raw\", # 'Mass' column should be in train_df\n",
        "        batch_size= 1, # images per batch\n",
        "        shuffle=False, # shuffle the rows or not\n",
        "        target_size=(320,320) # width and height of output image\n",
        ")\n"
      ]
    },
    {
      "cell_type": "code",
      "execution_count": null,
      "metadata": {
        "colab": {
          "base_uri": "https://localhost:8080/",
          "height": 350
        },
        "id": "B0chqXsSrzHz",
        "outputId": "91b7ef10-26ae-459a-a7c3-9cfedcdd4993"
      },
      "outputs": [
        {
          "output_type": "stream",
          "name": "stderr",
          "text": [
            "Clipping input data to the valid range for imshow with RGB data ([0..1] for floats or [0..255] for integers).\n"
          ]
        },
        {
          "output_type": "stream",
          "name": "stdout",
          "text": [
            "The dimensions of the image are 320 pixels width and 320 pixels height\n",
            "The maximum pixel value is 1.2025 and the minimum is -2.0815\n",
            "The mean value of the pixels is -0.0000 and the standard deviation is 1.0000\n"
          ]
        },
        {
          "output_type": "display_data",
          "data": {
            "text/plain": [
              "<Figure size 432x288 with 2 Axes>"
            ],
            "image/png": "[encoded data removed]"
          },
          "metadata": {}
        }
      ],
      "source": [
        "# Plot a processed image\n",
        "sns.set_style(\"white\")\n",
        "generated_image, label = generator.__getitem__(0)\n",
        "plt.imshow(generated_image[0], cmap='gray')\n",
        "plt.colorbar()\n",
        "plt.title('Raw Chest X Ray Image')\n",
        "print(f\"The dimensions of the image are {generated_image.shape[1]} pixels width and {generated_image.shape[2]} pixels height\")\n",
        "print(f\"The maximum pixel value is {generated_image.max():.4f} and the minimum is {generated_image.min():.4f}\")\n",
        "print(f\"The mean value of the pixels is {generated_image.mean():.4f} and the standard deviation is {generated_image.std():.4f}\")"
      ]
    },
    {
      "cell_type": "code",
      "execution_count": null,
      "metadata": {
        "colab": {
          "base_uri": "https://localhost:8080/",
          "height": 536
        },
        "id": "7mVxQ6G8sC_g",
        "outputId": "fb12f0a8-a55f-44c1-eee2-71b042afcdaf"
      },
      "outputs": [
        {
          "name": "stderr",
          "output_type": "stream",
          "text": [
            "/usr/local/lib/python3.7/dist-packages/seaborn/distributions.py:2619: FutureWarning: `distplot` is a deprecated function and will be removed in a future version. Please adapt your code to use either `displot` (a figure-level function with similar flexibility) or `histplot` (an axes-level function for histograms).\n",
            "  warnings.warn(msg, FutureWarning)\n"
          ]
        },
        {
          "data": {
            "text/plain": [
              "Text(0, 0.5, '# Pixel')"
            ]
          },
          "execution_count": 23,
          "metadata": {},
          "output_type": "execute_result"
        },
        {
          "data": {
            "image/png": "[encoded data removed]",
            "text/plain": [
              "<Figure size 720x504 with 1 Axes>"
            ]
          },
          "metadata": {},
          "output_type": "display_data"
        }
      ],
      "source": [
        "# Include a histogram of the distribution of the pixels\n",
        "sns.set()\n",
        "plt.figure(figsize=(10, 7))\n",
        "\n",
        "# Plot histogram for original iamge\n",
        "sns.distplot(raw_image.ravel(), \n",
        "             label=f'Original Image: mean {np.mean(raw_image):.4f} - Standard Deviation {np.std(raw_image):.4f} \\n '\n",
        "             f'Min pixel value {np.min(raw_image):.4} - Max pixel value {np.max(raw_image):.4}',\n",
        "             color='blue', \n",
        "             kde=False)\n",
        "\n",
        "# Plot histogram for generated image\n",
        "sns.distplot(generated_image[0].ravel(), \n",
        "             label=f'Generated Image: mean {np.mean(generated_image[0]):.4f} - Standard Deviation {np.std(generated_image[0]):.4f} \\n'\n",
        "             f'Min pixel value {np.min(generated_image[0]):.4} - Max pixel value {np.max(generated_image[0]):.4}', \n",
        "             color='red', \n",
        "             kde=False)\n",
        "\n",
        "# Place legends\n",
        "plt.legend()\n",
        "plt.title('Distribution of Pixel Intensities in the Image')\n",
        "plt.xlabel('Pixel Intensity')\n",
        "plt.ylabel('# Pixel')"
      ]
    },
    {
      "cell_type": "markdown",
      "metadata": {
        "id": "RtqeAo96sj5N"
      },
      "source": [
        "# Counting Labels"
      ]
    },
    {
      "cell_type": "code",
      "execution_count": null,
      "metadata": {
        "id": "Su3-ZCRGsJxD"
      },
      "outputs": [],
      "source": [
        "import numpy as np\n",
        "import pandas as pd\n",
        "import seaborn as sns\n",
        "import matplotlib.pyplot as plt\n",
        "%matplotlib inline"
      ]
    },
    {
      "cell_type": "code",
      "execution_count": null,
      "metadata": {
        "colab": {
          "base_uri": "https://localhost:8080/",
          "height": 287
        },
        "id": "84TgyS_EspBS",
        "outputId": "39cde68a-1394-4eec-8f8d-b1974c1c3545"
      },
      "outputs": [
        {
          "output_type": "execute_result",
          "data": {
            "text/plain": [
              "             Images  PatientID  Atelectasis  Cardiomegaly  Consolidation  \\\n",
              "0  00000522_000.png        522            1             0              0   \n",
              "1  00000522_001.png        522            0             0              0   \n",
              "2  00000522_002.png        522            0             0              0   \n",
              "3  00000522_003.png        522            0             0              0   \n",
              "4  00000564_000.png        564            0             0              0   \n",
              "\n",
              "   Edema  Effusion  Emphysema  Fibrosis  Hernia  Infiltration  Mass  \\\n",
              "0      0         0          0         0       0             0     0   \n",
              "1      0         0          0         0       0             0     0   \n",
              "2      0         0          0         0       0             0     0   \n",
              "3      0         0          0         0       0             0     0   \n",
              "4      0         0          0         0       0             0     0   \n",
              "\n",
              "   No Finding  Nodule  Pleural_Thickening  Pneumonia  Pneumothorax  \n",
              "0           0       0                   0          0             0  \n",
              "1           1       0                   0          0             0  \n",
              "2           1       0                   0          0             0  \n",
              "3           1       0                   0          0             0  \n",
              "4           1       0                   0          0             0  "
            ],
            "text/html": [
              "\n",
              "  <div id=\"df-d493fd96-f423-4fb2-9334-0136fdc989dc\">\n",
              "    <div class=\"colab-df-container\">\n",
              "      <div>\n",
              "<style scoped>\n",
              "    .dataframe tbody tr th:only-of-type {\n",
              "        vertical-align: middle;\n",
              "    }\n",
              "\n",
              "    .dataframe tbody tr th {\n",
              "        vertical-align: top;\n",
              "    }\n",
              "\n",
              "    .dataframe thead th {\n",
              "        text-align: right;\n",
              "    }\n",
              "</style>\n",
              "<table border=\"1\" class=\"dataframe\">\n",
              "  <thead>\n",
              "    <tr style=\"text-align: right;\">\n",
              "      <th></th>\n",
              "      <th>Images</th>\n",
              "      <th>PatientID</th>\n",
              "      <th>Atelectasis</th>\n",
              "      <th>Cardiomegaly</th>\n",
              "      <th>Consolidation</th>\n",
              "      <th>Edema</th>\n",
              "      <th>Effusion</th>\n",
              "      <th>Emphysema</th>\n",
              "      <th>Fibrosis</th>\n",
              "      <th>Hernia</th>\n",
              "      <th>Infiltration</th>\n",
              "      <th>Mass</th>\n",
              "      <th>No Finding</th>\n",
              "      <th>Nodule</th>\n",
              "      <th>Pleural_Thickening</th>\n",
              "      <th>Pneumonia</th>\n",
              "      <th>Pneumothorax</th>\n",
              "    </tr>\n",
              "  </thead>\n",
              "  <tbody>\n",
              "    <tr>\n",
              "      <th>0</th>\n",
              "      <td>00000522_000.png</td>\n",
              "      <td>522</td>\n",
              "      <td>1</td>\n",
              "      <td>0</td>\n",
              "      <td>0</td>\n",
              "      <td>0</td>\n",
              "      <td>0</td>\n",
              "      <td>0</td>\n",
              "      <td>0</td>\n",
              "      <td>0</td>\n",
              "      <td>0</td>\n",
              "      <td>0</td>\n",
              "      <td>0</td>\n",
              "      <td>0</td>\n",
              "      <td>0</td>\n",
              "      <td>0</td>\n",
              "      <td>0</td>\n",
              "    </tr>\n",
              "    <tr>\n",
              "      <th>1</th>\n",
              "      <td>00000522_001.png</td>\n",
              "      <td>522</td>\n",
              "      <td>0</td>\n",
              "      <td>0</td>\n",
              "      <td>0</td>\n",
              "      <td>0</td>\n",
              "      <td>0</td>\n",
              "      <td>0</td>\n",
              "      <td>0</td>\n",
              "      <td>0</td>\n",
              "      <td>0</td>\n",
              "      <td>0</td>\n",
              "      <td>1</td>\n",
              "      <td>0</td>\n",
              "      <td>0</td>\n",
              "      <td>0</td>\n",
              "      <td>0</td>\n",
              "    </tr>\n",
              "    <tr>\n",
              "      <th>2</th>\n",
              "      <td>00000522_002.png</td>\n",
              "      <td>522</td>\n",
              "      <td>0</td>\n",
              "      <td>0</td>\n",
              "      <td>0</td>\n",
              "      <td>0</td>\n",
              "      <td>0</td>\n",
              "      <td>0</td>\n",
              "      <td>0</td>\n",
              "      <td>0</td>\n",
              "      <td>0</td>\n",
              "      <td>0</td>\n",
              "      <td>1</td>\n",
              "      <td>0</td>\n",
              "      <td>0</td>\n",
              "      <td>0</td>\n",
              "      <td>0</td>\n",
              "    </tr>\n",
              "    <tr>\n",
              "      <th>3</th>\n",
              "      <td>00000522_003.png</td>\n",
              "      <td>522</td>\n",
              "      <td>0</td>\n",
              "      <td>0</td>\n",
              "      <td>0</td>\n",
              "      <td>0</td>\n",
              "      <td>0</td>\n",
              "      <td>0</td>\n",
              "      <td>0</td>\n",
              "      <td>0</td>\n",
              "      <td>0</td>\n",
              "      <td>0</td>\n",
              "      <td>1</td>\n",
              "      <td>0</td>\n",
              "      <td>0</td>\n",
              "      <td>0</td>\n",
              "      <td>0</td>\n",
              "    </tr>\n",
              "    <tr>\n",
              "      <th>4</th>\n",
              "      <td>00000564_000.png</td>\n",
              "      <td>564</td>\n",
              "      <td>0</td>\n",
              "      <td>0</td>\n",
              "      <td>0</td>\n",
              "      <td>0</td>\n",
              "      <td>0</td>\n",
              "      <td>0</td>\n",
              "      <td>0</td>\n",
              "      <td>0</td>\n",
              "      <td>0</td>\n",
              "      <td>0</td>\n",
              "      <td>1</td>\n",
              "      <td>0</td>\n",
              "      <td>0</td>\n",
              "      <td>0</td>\n",
              "      <td>0</td>\n",
              "    </tr>\n",
              "  </tbody>\n",
              "</table>\n",
              "</div>\n",
              "      <button class=\"colab-df-convert\" onclick=\"convertToInteractive('df-d493fd96-f423-4fb2-9334-0136fdc989dc')\"\n",
              "              title=\"Convert this dataframe to an interactive table.\"\n",
              "              style=\"display:none;\">\n",
              "        \n",
              "  <svg xmlns=\"http://www.w3.org/2000/svg\" height=\"24px\"viewBox=\"0 0 24 24\"\n",
              "       width=\"24px\">\n",
              "    <path d=\"M0 0h24v24H0V0z\" fill=\"none\"/>\n",
              "    <path d=\"M18.56 5.44l.94 2.06.94-2.06 2.06-.94-2.06-.94-.94-2.06-.94 2.06-2.06.94zm-11 1L8.5 8.5l.94-2.06 2.06-.94-2.06-.94L8.5 2.5l-.94 2.06-2.06.94zm10 10l.94 2.06.94-2.06 2.06-.94-2.06-.94-.94-2.06-.94 2.06-2.06.94z\"/><path d=\"M17.41 7.96l-1.37-1.37c-.4-.4-.92-.59-1.43-.59-.52 0-1.04.2-1.43.59L10.3 9.45l-7.72 7.72c-.78.78-.78 2.05 0 2.83L4 21.41c.39.39.9.59 1.41.59.51 0 1.02-.2 1.41-.59l7.78-7.78 2.81-2.81c.8-.78.8-2.07 0-2.86zM5.41 20L4 18.59l7.72-7.72 1.47 1.35L5.41 20z\"/>\n",
              "  </svg>\n",
              "      </button>\n",
              "      \n",
              "  <style>\n",
              "    .colab-df-container {\n",
              "      display:flex;\n",
              "      flex-wrap:wrap;\n",
              "      gap: 12px;\n",
              "    }\n",
              "\n",
              "    .colab-df-convert {\n",
              "      background-color: #E8F0FE;\n",
              "      border: none;\n",
              "      border-radius: 50%;\n",
              "      cursor: pointer;\n",
              "      display: none;\n",
              "      fill: #1967D2;\n",
              "      height: 32px;\n",
              "      padding: 0 0 0 0;\n",
              "      width: 32px;\n",
              "    }\n",
              "\n",
              "    .colab-df-convert:hover {\n",
              "      background-color: #E2EBFA;\n",
              "      box-shadow: 0px 1px 2px rgba(60, 64, 67, 0.3), 0px 1px 3px 1px rgba(60, 64, 67, 0.15);\n",
              "      fill: #174EA6;\n",
              "    }\n",
              "\n",
              "    [theme=dark] .colab-df-convert {\n",
              "      background-color: #3B4455;\n",
              "      fill: #D2E3FC;\n",
              "    }\n",
              "\n",
              "    [theme=dark] .colab-df-convert:hover {\n",
              "      background-color: #434B5C;\n",
              "      box-shadow: 0px 1px 3px 1px rgba(0, 0, 0, 0.15);\n",
              "      filter: drop-shadow(0px 1px 2px rgba(0, 0, 0, 0.3));\n",
              "      fill: #FFFFFF;\n",
              "    }\n",
              "  </style>\n",
              "\n",
              "      <script>\n",
              "        const buttonEl =\n",
              "          document.querySelector('#df-d493fd96-f423-4fb2-9334-0136fdc989dc button.colab-df-convert');\n",
              "        buttonEl.style.display =\n",
              "          google.colab.kernel.accessAllowed ? 'block' : 'none';\n",
              "\n",
              "        async function convertToInteractive(key) {\n",
              "          const element = document.querySelector('#df-d493fd96-f423-4fb2-9334-0136fdc989dc');\n",
              "          const dataTable =\n",
              "            await google.colab.kernel.invokeFunction('convertToInteractive',\n",
              "                                                     [key], {});\n",
              "          if (!dataTable) return;\n",
              "\n",
              "          const docLinkHtml = 'Like what you see? Visit the ' +\n",
              "            '<a target=\"_blank\" href=https://colab.research.google.com/notebooks/data_table.ipynb>data table notebook</a>'\n",
              "            + ' to learn more about interactive tables.';\n",
              "          element.innerHTML = '';\n",
              "          dataTable['output_type'] = 'display_data';\n",
              "          await google.colab.output.renderOutput(dataTable, element);\n",
              "          const docLink = document.createElement('div');\n",
              "          docLink.innerHTML = docLinkHtml;\n",
              "          element.appendChild(docLink);\n",
              "        }\n",
              "      </script>\n",
              "    </div>\n",
              "  </div>\n",
              "  "
            ]
          },
          "metadata": {},
          "execution_count": 44
        }
      ],
      "source": [
        "df1.head()"
      ]
    },
    {
      "cell_type": "code",
      "execution_count": null,
      "metadata": {
        "colab": {
          "base_uri": "https://localhost:8080/"
        },
        "id": "lGKkNgWgsq9Q",
        "outputId": "b265d8d6-811b-4c26-b3bb-69c323e1e8a3"
      },
      "outputs": [
        {
          "name": "stdout",
          "output_type": "stream",
          "text": [
            "Atelectasis            309\n",
            "Cardiomegaly           140\n",
            "Consolidation          190\n",
            "Edema                   99\n",
            "Effusion               271\n",
            "Emphysema              113\n",
            "Fibrosis                26\n",
            "Hernia                   1\n",
            "Infiltration           692\n",
            "Mass                   166\n",
            "No Finding            3589\n",
            "Nodule                 124\n",
            "Pleural_Thickening     106\n",
            "Pneumonia               70\n",
            "Pneumothorax           204\n",
            "dtype: object\n"
          ]
        }
      ],
      "source": [
        "class_counts = df1.sum().drop(['Images','PatientID'])\n",
        "print(class_counts)"
      ]
    },
    {
      "cell_type": "code",
      "execution_count": null,
      "metadata": {
        "colab": {
          "base_uri": "https://localhost:8080/"
        },
        "id": "7FmbCMu4s1WR",
        "outputId": "2bee5e2f-f23f-417b-8c0e-90cc8f83a6e3"
      },
      "outputs": [
        {
          "name": "stdout",
          "output_type": "stream",
          "text": [
            "The class Atelectasis has 309 samples\n",
            "The class Cardiomegaly has 140 samples\n",
            "The class Consolidation has 190 samples\n",
            "The class Edema has 99 samples\n",
            "The class Effusion has 271 samples\n",
            "The class Emphysema has 113 samples\n",
            "The class Fibrosis has 26 samples\n",
            "The class Hernia has 1 samples\n",
            "The class Infiltration has 692 samples\n",
            "The class Mass has 166 samples\n",
            "The class No Finding has 3589 samples\n",
            "The class Nodule has 124 samples\n",
            "The class Pleural_Thickening has 106 samples\n",
            "The class Pneumonia has 70 samples\n",
            "The class Pneumothorax has 204 samples\n"
          ]
        }
      ],
      "source": [
        "for column in class_counts.keys():\n",
        "    print(f\"The class {column} has {df1[column].sum()} samples\")"
      ]
    },
    {
      "cell_type": "code",
      "execution_count": null,
      "metadata": {
        "colab": {
          "base_uri": "https://localhost:8080/",
          "height": 287
        },
        "id": "aU6VYDNat8ee",
        "outputId": "02cf5f0c-0d85-4d6d-cbf3-964c8d3a39fd"
      },
      "outputs": [
        {
          "data": {
            "text/html": [
              "\n",
              "  <div id=\"df-d7b0629a-9f43-45c1-bc5e-af11b0752e51\">\n",
              "    <div class=\"colab-df-container\">\n",
              "      <div>\n",
              "<style scoped>\n",
              "    .dataframe tbody tr th:only-of-type {\n",
              "        vertical-align: middle;\n",
              "    }\n",
              "\n",
              "    .dataframe tbody tr th {\n",
              "        vertical-align: top;\n",
              "    }\n",
              "\n",
              "    .dataframe thead th {\n",
              "        text-align: right;\n",
              "    }\n",
              "</style>\n",
              "<table border=\"1\" class=\"dataframe\">\n",
              "  <thead>\n",
              "    <tr style=\"text-align: right;\">\n",
              "      <th></th>\n",
              "      <th>Images</th>\n",
              "      <th>PatientID</th>\n",
              "      <th>Atelectasis</th>\n",
              "      <th>Cardiomegaly</th>\n",
              "      <th>Consolidation</th>\n",
              "      <th>Edema</th>\n",
              "      <th>Effusion</th>\n",
              "      <th>Emphysema</th>\n",
              "      <th>Fibrosis</th>\n",
              "      <th>Hernia</th>\n",
              "      <th>Infiltration</th>\n",
              "      <th>Mass</th>\n",
              "      <th>No Finding</th>\n",
              "      <th>Nodule</th>\n",
              "      <th>Pleural_Thickening</th>\n",
              "      <th>Pneumonia</th>\n",
              "      <th>Pneumothorax</th>\n",
              "    </tr>\n",
              "  </thead>\n",
              "  <tbody>\n",
              "    <tr>\n",
              "      <th>0</th>\n",
              "      <td>00000522_000.png</td>\n",
              "      <td>522</td>\n",
              "      <td>1</td>\n",
              "      <td>0</td>\n",
              "      <td>0</td>\n",
              "      <td>0</td>\n",
              "      <td>0</td>\n",
              "      <td>0</td>\n",
              "      <td>0</td>\n",
              "      <td>0</td>\n",
              "      <td>0</td>\n",
              "      <td>0</td>\n",
              "      <td>0</td>\n",
              "      <td>0</td>\n",
              "      <td>0</td>\n",
              "      <td>0</td>\n",
              "      <td>0</td>\n",
              "    </tr>\n",
              "    <tr>\n",
              "      <th>1</th>\n",
              "      <td>00000522_001.png</td>\n",
              "      <td>522</td>\n",
              "      <td>0</td>\n",
              "      <td>0</td>\n",
              "      <td>0</td>\n",
              "      <td>0</td>\n",
              "      <td>0</td>\n",
              "      <td>0</td>\n",
              "      <td>0</td>\n",
              "      <td>0</td>\n",
              "      <td>0</td>\n",
              "      <td>0</td>\n",
              "      <td>1</td>\n",
              "      <td>0</td>\n",
              "      <td>0</td>\n",
              "      <td>0</td>\n",
              "      <td>0</td>\n",
              "    </tr>\n",
              "    <tr>\n",
              "      <th>2</th>\n",
              "      <td>00000522_002.png</td>\n",
              "      <td>522</td>\n",
              "      <td>0</td>\n",
              "      <td>0</td>\n",
              "      <td>0</td>\n",
              "      <td>0</td>\n",
              "      <td>0</td>\n",
              "      <td>0</td>\n",
              "      <td>0</td>\n",
              "      <td>0</td>\n",
              "      <td>0</td>\n",
              "      <td>0</td>\n",
              "      <td>1</td>\n",
              "      <td>0</td>\n",
              "      <td>0</td>\n",
              "      <td>0</td>\n",
              "      <td>0</td>\n",
              "    </tr>\n",
              "    <tr>\n",
              "      <th>3</th>\n",
              "      <td>00000522_003.png</td>\n",
              "      <td>522</td>\n",
              "      <td>0</td>\n",
              "      <td>0</td>\n",
              "      <td>0</td>\n",
              "      <td>0</td>\n",
              "      <td>0</td>\n",
              "      <td>0</td>\n",
              "      <td>0</td>\n",
              "      <td>0</td>\n",
              "      <td>0</td>\n",
              "      <td>0</td>\n",
              "      <td>1</td>\n",
              "      <td>0</td>\n",
              "      <td>0</td>\n",
              "      <td>0</td>\n",
              "      <td>0</td>\n",
              "    </tr>\n",
              "    <tr>\n",
              "      <th>4</th>\n",
              "      <td>00000564_000.png</td>\n",
              "      <td>564</td>\n",
              "      <td>0</td>\n",
              "      <td>0</td>\n",
              "      <td>0</td>\n",
              "      <td>0</td>\n",
              "      <td>0</td>\n",
              "      <td>0</td>\n",
              "      <td>0</td>\n",
              "      <td>0</td>\n",
              "      <td>0</td>\n",
              "      <td>0</td>\n",
              "      <td>1</td>\n",
              "      <td>0</td>\n",
              "      <td>0</td>\n",
              "      <td>0</td>\n",
              "      <td>0</td>\n",
              "    </tr>\n",
              "  </tbody>\n",
              "</table>\n",
              "</div>\n",
              "      <button class=\"colab-df-convert\" onclick=\"convertToInteractive('df-d7b0629a-9f43-45c1-bc5e-af11b0752e51')\"\n",
              "              title=\"Convert this dataframe to an interactive table.\"\n",
              "              style=\"display:none;\">\n",
              "        \n",
              "  <svg xmlns=\"http://www.w3.org/2000/svg\" height=\"24px\"viewBox=\"0 0 24 24\"\n",
              "       width=\"24px\">\n",
              "    <path d=\"M0 0h24v24H0V0z\" fill=\"none\"/>\n",
              "    <path d=\"M18.56 5.44l.94 2.06.94-2.06 2.06-.94-2.06-.94-.94-2.06-.94 2.06-2.06.94zm-11 1L8.5 8.5l.94-2.06 2.06-.94-2.06-.94L8.5 2.5l-.94 2.06-2.06.94zm10 10l.94 2.06.94-2.06 2.06-.94-2.06-.94-.94-2.06-.94 2.06-2.06.94z\"/><path d=\"M17.41 7.96l-1.37-1.37c-.4-.4-.92-.59-1.43-.59-.52 0-1.04.2-1.43.59L10.3 9.45l-7.72 7.72c-.78.78-.78 2.05 0 2.83L4 21.41c.39.39.9.59 1.41.59.51 0 1.02-.2 1.41-.59l7.78-7.78 2.81-2.81c.8-.78.8-2.07 0-2.86zM5.41 20L4 18.59l7.72-7.72 1.47 1.35L5.41 20z\"/>\n",
              "  </svg>\n",
              "      </button>\n",
              "      \n",
              "  <style>\n",
              "    .colab-df-container {\n",
              "      display:flex;\n",
              "      flex-wrap:wrap;\n",
              "      gap: 12px;\n",
              "    }\n",
              "\n",
              "    .colab-df-convert {\n",
              "      background-color: #E8F0FE;\n",
              "      border: none;\n",
              "      border-radius: 50%;\n",
              "      cursor: pointer;\n",
              "      display: none;\n",
              "      fill: #1967D2;\n",
              "      height: 32px;\n",
              "      padding: 0 0 0 0;\n",
              "      width: 32px;\n",
              "    }\n",
              "\n",
              "    .colab-df-convert:hover {\n",
              "      background-color: #E2EBFA;\n",
              "      box-shadow: 0px 1px 2px rgba(60, 64, 67, 0.3), 0px 1px 3px 1px rgba(60, 64, 67, 0.15);\n",
              "      fill: #174EA6;\n",
              "    }\n",
              "\n",
              "    [theme=dark] .colab-df-convert {\n",
              "      background-color: #3B4455;\n",
              "      fill: #D2E3FC;\n",
              "    }\n",
              "\n",
              "    [theme=dark] .colab-df-convert:hover {\n",
              "      background-color: #434B5C;\n",
              "      box-shadow: 0px 1px 3px 1px rgba(0, 0, 0, 0.15);\n",
              "      filter: drop-shadow(0px 1px 2px rgba(0, 0, 0, 0.3));\n",
              "      fill: #FFFFFF;\n",
              "    }\n",
              "  </style>\n",
              "\n",
              "      <script>\n",
              "        const buttonEl =\n",
              "          document.querySelector('#df-d7b0629a-9f43-45c1-bc5e-af11b0752e51 button.colab-df-convert');\n",
              "        buttonEl.style.display =\n",
              "          google.colab.kernel.accessAllowed ? 'block' : 'none';\n",
              "\n",
              "        async function convertToInteractive(key) {\n",
              "          const element = document.querySelector('#df-d7b0629a-9f43-45c1-bc5e-af11b0752e51');\n",
              "          const dataTable =\n",
              "            await google.colab.kernel.invokeFunction('convertToInteractive',\n",
              "                                                     [key], {});\n",
              "          if (!dataTable) return;\n",
              "\n",
              "          const docLinkHtml = 'Like what you see? Visit the ' +\n",
              "            '<a target=\"_blank\" href=https://colab.research.google.com/notebooks/data_table.ipynb>data table notebook</a>'\n",
              "            + ' to learn more about interactive tables.';\n",
              "          element.innerHTML = '';\n",
              "          dataTable['output_type'] = 'display_data';\n",
              "          await google.colab.output.renderOutput(dataTable, element);\n",
              "          const docLink = document.createElement('div');\n",
              "          docLink.innerHTML = docLinkHtml;\n",
              "          element.appendChild(docLink);\n",
              "        }\n",
              "      </script>\n",
              "    </div>\n",
              "  </div>\n",
              "  "
            ],
            "text/plain": [
              "             Images  PatientID  Atelectasis  Cardiomegaly  Consolidation  \\\n",
              "0  00000522_000.png        522            1             0              0   \n",
              "1  00000522_001.png        522            0             0              0   \n",
              "2  00000522_002.png        522            0             0              0   \n",
              "3  00000522_003.png        522            0             0              0   \n",
              "4  00000564_000.png        564            0             0              0   \n",
              "\n",
              "   Edema  Effusion  Emphysema  Fibrosis  Hernia  Infiltration  Mass  \\\n",
              "0      0         0          0         0       0             0     0   \n",
              "1      0         0          0         0       0             0     0   \n",
              "2      0         0          0         0       0             0     0   \n",
              "3      0         0          0         0       0             0     0   \n",
              "4      0         0          0         0       0             0     0   \n",
              "\n",
              "   No Finding  Nodule  Pleural_Thickening  Pneumonia  Pneumothorax  \n",
              "0           0       0                   0          0             0  \n",
              "1           1       0                   0          0             0  \n",
              "2           1       0                   0          0             0  \n",
              "3           1       0                   0          0             0  \n",
              "4           1       0                   0          0             0  "
            ]
          },
          "execution_count": 28,
          "metadata": {},
          "output_type": "execute_result"
        }
      ],
      "source": [
        "df1.head()"
      ]
    },
    {
      "cell_type": "code",
      "execution_count": null,
      "metadata": {
        "colab": {
          "base_uri": "https://localhost:8080/",
          "height": 360
        },
        "id": "s_a-sRdms8DC",
        "outputId": "3c742e0b-709b-4062-d1f9-bee299c82a90"
      },
      "outputs": [
        {
          "name": "stderr",
          "output_type": "stream",
          "text": [
            "/usr/local/lib/python3.7/dist-packages/seaborn/_decorators.py:43: FutureWarning: Pass the following variables as keyword args: x, y. From version 0.12, the only valid positional argument will be `data`, and passing other arguments without an explicit keyword will result in an error or misinterpretation.\n",
            "  FutureWarning\n"
          ]
        },
        {
          "data": {
            "image/png": "[encoded data removed]",
            "text/plain": [
              "<Figure size 432x288 with 1 Axes>"
            ]
          },
          "metadata": {},
          "output_type": "display_data"
        }
      ],
      "source": [
        "# Plot up the distribution of counts\n",
        "sns.barplot(class_counts.values, class_counts.index, color='b')\n",
        "plt.title('Distribution of Classes for Training Dataset', fontsize=15)\n",
        "plt.xlabel('Number of Patients', fontsize=15)\n",
        "plt.ylabel('Diseases', fontsize=15)\n",
        "plt.show()"
      ]
    },
    {
      "cell_type": "markdown",
      "metadata": {
        "id": "wjMBlirkt5Si"
      },
      "source": [
        "#Weighted Loss Function"
      ]
    },
    {
      "cell_type": "code",
      "execution_count": null,
      "metadata": {
        "id": "MFAavuoSs_bE"
      },
      "outputs": [],
      "source": [
        ""
      ]
    },
    {
      "cell_type": "markdown",
      "metadata": {
        "id": "MmeS9P_quVb4"
      },
      "source": [
        "#DenseNEt"
      ]
    },
    {
      "cell_type": "code",
      "execution_count": null,
      "metadata": {
        "id": "TSPqA8hEuY5C"
      },
      "outputs": [],
      "source": [
        "#import Densenet from keras \n",
        "from keras.applications.densenet import DenseNet121\n",
        "from keras.layers import Dense, GlobalAveragePooling2D\n",
        "from keras.models import Model\n",
        "from keras import backend as K\n"
      ]
    },
    {
      "cell_type": "markdown",
      "metadata": {
        "id": "kry_IEes7KKi"
      },
      "source": [
        "#Dividing Data into Train , Test and Validation"
      ]
    },
    {
      "cell_type": "code",
      "execution_count": null,
      "metadata": {
        "id": "Dy5z8tMm7Jja"
      },
      "outputs": [],
      "source": [
        "from sklearn.model_selection import train_test_split"
      ]
    },
    {
      "cell_type": "code",
      "execution_count": null,
      "metadata": {
        "id": "l-9zcsYz8I5Y"
      },
      "outputs": [],
      "source": [
        "X = df1"
      ]
    },
    {
      "cell_type": "code",
      "execution_count": null,
      "metadata": {
        "colab": {
          "base_uri": "https://localhost:8080/"
        },
        "id": "2rD0Vj8k7bck",
        "outputId": "c644d656-db28-471c-a937-888776b1fca9"
      },
      "outputs": [
        {
          "name": "stdout",
          "output_type": "stream",
          "text": [
            "(4880, 17)\n",
            "(610, 17)\n",
            "(610, 17)\n"
          ]
        }
      ],
      "source": [
        "#let's say we want to split the data in 80:10:10 for train:valid:test dataset\n",
        "train_size = 0.8\n",
        "#First we will split the data in training and remaining dataset\n",
        "X_train, X_rem = train_test_split(X,train_size = 0.8)\n",
        "#now since we want the valid and test size to be equal(10% each of overall data).\n",
        "#we have to define valid_size =0.5 (that is 50% of remaining data)\n",
        "test_size = 0.5\n",
        "X_valid,X_test = train_test_split(X_rem,test_size = 0.5)\n",
        "print(X_train.shape)\n",
        "print(X_valid.shape)\n",
        "print(X_test.shape)\n"
      ]
    },
    {
      "cell_type": "code",
      "execution_count": null,
      "metadata": {
        "id": "hAIJRoHw-PVI"
      },
      "outputs": [],
      "source": [
        "X_train.to_csv(\"X_train_ped.csv\")\n",
        "X_valid.to_csv(\"X_valid_ped.csv\")\n",
        "X_test.to_csv(\"X_test_ped.csv\")"
      ]
    },
    {
      "cell_type": "code",
      "execution_count": null,
      "metadata": {
        "colab": {
          "base_uri": "https://localhost:8080/",
          "height": 287
        },
        "id": "vp3gggps9sQE",
        "outputId": "9d7c4c8c-7f1f-4625-a490-f1cd48411473"
      },
      "outputs": [
        {
          "data": {
            "text/html": [
              "\n",
              "  <div id=\"df-9ab872a2-442b-404f-812d-a1bf6764bf92\">\n",
              "    <div class=\"colab-df-container\">\n",
              "      <div>\n",
              "<style scoped>\n",
              "    .dataframe tbody tr th:only-of-type {\n",
              "        vertical-align: middle;\n",
              "    }\n",
              "\n",
              "    .dataframe tbody tr th {\n",
              "        vertical-align: top;\n",
              "    }\n",
              "\n",
              "    .dataframe thead th {\n",
              "        text-align: right;\n",
              "    }\n",
              "</style>\n",
              "<table border=\"1\" class=\"dataframe\">\n",
              "  <thead>\n",
              "    <tr style=\"text-align: right;\">\n",
              "      <th></th>\n",
              "      <th>Images</th>\n",
              "      <th>PatientID</th>\n",
              "      <th>Atelectasis</th>\n",
              "      <th>Cardiomegaly</th>\n",
              "      <th>Consolidation</th>\n",
              "      <th>Edema</th>\n",
              "      <th>Effusion</th>\n",
              "      <th>Emphysema</th>\n",
              "      <th>Fibrosis</th>\n",
              "      <th>Hernia</th>\n",
              "      <th>Infiltration</th>\n",
              "      <th>Mass</th>\n",
              "      <th>No Finding</th>\n",
              "      <th>Nodule</th>\n",
              "      <th>Pleural_Thickening</th>\n",
              "      <th>Pneumonia</th>\n",
              "      <th>Pneumothorax</th>\n",
              "    </tr>\n",
              "  </thead>\n",
              "  <tbody>\n",
              "    <tr>\n",
              "      <th>4225</th>\n",
              "      <td>00018251_006.png</td>\n",
              "      <td>18251</td>\n",
              "      <td>0</td>\n",
              "      <td>0</td>\n",
              "      <td>0</td>\n",
              "      <td>1</td>\n",
              "      <td>0</td>\n",
              "      <td>0</td>\n",
              "      <td>0</td>\n",
              "      <td>0</td>\n",
              "      <td>0</td>\n",
              "      <td>0</td>\n",
              "      <td>0</td>\n",
              "      <td>0</td>\n",
              "      <td>0</td>\n",
              "      <td>0</td>\n",
              "      <td>0</td>\n",
              "    </tr>\n",
              "    <tr>\n",
              "      <th>3881</th>\n",
              "      <td>00016943_005.png</td>\n",
              "      <td>16943</td>\n",
              "      <td>0</td>\n",
              "      <td>0</td>\n",
              "      <td>0</td>\n",
              "      <td>0</td>\n",
              "      <td>1</td>\n",
              "      <td>0</td>\n",
              "      <td>0</td>\n",
              "      <td>0</td>\n",
              "      <td>0</td>\n",
              "      <td>0</td>\n",
              "      <td>0</td>\n",
              "      <td>0</td>\n",
              "      <td>0</td>\n",
              "      <td>0</td>\n",
              "      <td>0</td>\n",
              "    </tr>\n",
              "    <tr>\n",
              "      <th>5053</th>\n",
              "      <td>00023162_017.png</td>\n",
              "      <td>23162</td>\n",
              "      <td>0</td>\n",
              "      <td>0</td>\n",
              "      <td>0</td>\n",
              "      <td>0</td>\n",
              "      <td>0</td>\n",
              "      <td>0</td>\n",
              "      <td>0</td>\n",
              "      <td>0</td>\n",
              "      <td>1</td>\n",
              "      <td>0</td>\n",
              "      <td>0</td>\n",
              "      <td>0</td>\n",
              "      <td>0</td>\n",
              "      <td>0</td>\n",
              "      <td>0</td>\n",
              "    </tr>\n",
              "    <tr>\n",
              "      <th>2944</th>\n",
              "      <td>00013036_025.png</td>\n",
              "      <td>13036</td>\n",
              "      <td>0</td>\n",
              "      <td>0</td>\n",
              "      <td>0</td>\n",
              "      <td>0</td>\n",
              "      <td>0</td>\n",
              "      <td>0</td>\n",
              "      <td>0</td>\n",
              "      <td>0</td>\n",
              "      <td>0</td>\n",
              "      <td>0</td>\n",
              "      <td>1</td>\n",
              "      <td>0</td>\n",
              "      <td>0</td>\n",
              "      <td>0</td>\n",
              "      <td>0</td>\n",
              "    </tr>\n",
              "    <tr>\n",
              "      <th>4706</th>\n",
              "      <td>00021361_002.png</td>\n",
              "      <td>21361</td>\n",
              "      <td>0</td>\n",
              "      <td>0</td>\n",
              "      <td>0</td>\n",
              "      <td>0</td>\n",
              "      <td>0</td>\n",
              "      <td>0</td>\n",
              "      <td>0</td>\n",
              "      <td>0</td>\n",
              "      <td>1</td>\n",
              "      <td>0</td>\n",
              "      <td>0</td>\n",
              "      <td>0</td>\n",
              "      <td>0</td>\n",
              "      <td>0</td>\n",
              "      <td>0</td>\n",
              "    </tr>\n",
              "  </tbody>\n",
              "</table>\n",
              "</div>\n",
              "      <button class=\"colab-df-convert\" onclick=\"convertToInteractive('df-9ab872a2-442b-404f-812d-a1bf6764bf92')\"\n",
              "              title=\"Convert this dataframe to an interactive table.\"\n",
              "              style=\"display:none;\">\n",
              "        \n",
              "  <svg xmlns=\"http://www.w3.org/2000/svg\" height=\"24px\"viewBox=\"0 0 24 24\"\n",
              "       width=\"24px\">\n",
              "    <path d=\"M0 0h24v24H0V0z\" fill=\"none\"/>\n",
              "    <path d=\"M18.56 5.44l.94 2.06.94-2.06 2.06-.94-2.06-.94-.94-2.06-.94 2.06-2.06.94zm-11 1L8.5 8.5l.94-2.06 2.06-.94-2.06-.94L8.5 2.5l-.94 2.06-2.06.94zm10 10l.94 2.06.94-2.06 2.06-.94-2.06-.94-.94-2.06-.94 2.06-2.06.94z\"/><path d=\"M17.41 7.96l-1.37-1.37c-.4-.4-.92-.59-1.43-.59-.52 0-1.04.2-1.43.59L10.3 9.45l-7.72 7.72c-.78.78-.78 2.05 0 2.83L4 21.41c.39.39.9.59 1.41.59.51 0 1.02-.2 1.41-.59l7.78-7.78 2.81-2.81c.8-.78.8-2.07 0-2.86zM5.41 20L4 18.59l7.72-7.72 1.47 1.35L5.41 20z\"/>\n",
              "  </svg>\n",
              "      </button>\n",
              "      \n",
              "  <style>\n",
              "    .colab-df-container {\n",
              "      display:flex;\n",
              "      flex-wrap:wrap;\n",
              "      gap: 12px;\n",
              "    }\n",
              "\n",
              "    .colab-df-convert {\n",
              "      background-color: #E8F0FE;\n",
              "      border: none;\n",
              "      border-radius: 50%;\n",
              "      cursor: pointer;\n",
              "      display: none;\n",
              "      fill: #1967D2;\n",
              "      height: 32px;\n",
              "      padding: 0 0 0 0;\n",
              "      width: 32px;\n",
              "    }\n",
              "\n",
              "    .colab-df-convert:hover {\n",
              "      background-color: #E2EBFA;\n",
              "      box-shadow: 0px 1px 2px rgba(60, 64, 67, 0.3), 0px 1px 3px 1px rgba(60, 64, 67, 0.15);\n",
              "      fill: #174EA6;\n",
              "    }\n",
              "\n",
              "    [theme=dark] .colab-df-convert {\n",
              "      background-color: #3B4455;\n",
              "      fill: #D2E3FC;\n",
              "    }\n",
              "\n",
              "    [theme=dark] .colab-df-convert:hover {\n",
              "      background-color: #434B5C;\n",
              "      box-shadow: 0px 1px 3px 1px rgba(0, 0, 0, 0.15);\n",
              "      filter: drop-shadow(0px 1px 2px rgba(0, 0, 0, 0.3));\n",
              "      fill: #FFFFFF;\n",
              "    }\n",
              "  </style>\n",
              "\n",
              "      <script>\n",
              "        const buttonEl =\n",
              "          document.querySelector('#df-9ab872a2-442b-404f-812d-a1bf6764bf92 button.colab-df-convert');\n",
              "        buttonEl.style.display =\n",
              "          google.colab.kernel.accessAllowed ? 'block' : 'none';\n",
              "\n",
              "        async function convertToInteractive(key) {\n",
              "          const element = document.querySelector('#df-9ab872a2-442b-404f-812d-a1bf6764bf92');\n",
              "          const dataTable =\n",
              "            await google.colab.kernel.invokeFunction('convertToInteractive',\n",
              "                                                     [key], {});\n",
              "          if (!dataTable) return;\n",
              "\n",
              "          const docLinkHtml = 'Like what you see? Visit the ' +\n",
              "            '<a target=\"_blank\" href=https://colab.research.google.com/notebooks/data_table.ipynb>data table notebook</a>'\n",
              "            + ' to learn more about interactive tables.';\n",
              "          element.innerHTML = '';\n",
              "          dataTable['output_type'] = 'display_data';\n",
              "          await google.colab.output.renderOutput(dataTable, element);\n",
              "          const docLink = document.createElement('div');\n",
              "          docLink.innerHTML = docLinkHtml;\n",
              "          element.appendChild(docLink);\n",
              "        }\n",
              "      </script>\n",
              "    </div>\n",
              "  </div>\n",
              "  "
            ],
            "text/plain": [
              "                Images  PatientID  Atelectasis  Cardiomegaly  Consolidation  \\\n",
              "4225  00018251_006.png      18251            0             0              0   \n",
              "3881  00016943_005.png      16943            0             0              0   \n",
              "5053  00023162_017.png      23162            0             0              0   \n",
              "2944  00013036_025.png      13036            0             0              0   \n",
              "4706  00021361_002.png      21361            0             0              0   \n",
              "\n",
              "      Edema  Effusion  Emphysema  Fibrosis  Hernia  Infiltration  Mass  \\\n",
              "4225      1         0          0         0       0             0     0   \n",
              "3881      0         1          0         0       0             0     0   \n",
              "5053      0         0          0         0       0             1     0   \n",
              "2944      0         0          0         0       0             0     0   \n",
              "4706      0         0          0         0       0             1     0   \n",
              "\n",
              "      No Finding  Nodule  Pleural_Thickening  Pneumonia  Pneumothorax  \n",
              "4225           0       0                   0          0             0  \n",
              "3881           0       0                   0          0             0  \n",
              "5053           0       0                   0          0             0  \n",
              "2944           1       0                   0          0             0  \n",
              "4706           0       0                   0          0             0  "
            ]
          },
          "execution_count": 44,
          "metadata": {},
          "output_type": "execute_result"
        }
      ],
      "source": [
        "X_train.head()"
      ]
    },
    {
      "cell_type": "markdown",
      "metadata": {
        "id": "Qx6yQfSm2POV"
      },
      "source": [
        "#FINAL WORK"
      ]
    },
    {
      "cell_type": "code",
      "execution_count": null,
      "metadata": {
        "id": "rjczqGmYuyM7"
      },
      "outputs": [],
      "source": [
        "import numpy as np\n",
        "import pandas as pd\n",
        "import seaborn as sns\n",
        "import matplotlib.pyplot as plt\n",
        "\n",
        "from keras.preprocessing.image import ImageDataGenerator\n",
        "from keras.applications.densenet import DenseNet121\n",
        "from keras.layers import Dense, GlobalAveragePooling2D\n",
        "from keras.models import Model\n",
        "from keras import backend as K\n",
        "\n",
        "from keras.models import load_model\n",
        "\n",
        "#import util"
      ]
    },
    {
      "cell_type": "code",
      "execution_count": null,
      "metadata": {
        "colab": {
          "base_uri": "https://localhost:8080/",
          "height": 287
        },
        "id": "CaS5UmPJ2kg4",
        "outputId": "25e7b46f-3174-4940-c7af-7661e637fe05"
      },
      "outputs": [
        {
          "data": {
            "text/html": [
              "\n",
              "  <div id=\"df-6de72181-32a9-4f02-a5f0-6d843a2f9f8d\">\n",
              "    <div class=\"colab-df-container\">\n",
              "      <div>\n",
              "<style scoped>\n",
              "    .dataframe tbody tr th:only-of-type {\n",
              "        vertical-align: middle;\n",
              "    }\n",
              "\n",
              "    .dataframe tbody tr th {\n",
              "        vertical-align: top;\n",
              "    }\n",
              "\n",
              "    .dataframe thead th {\n",
              "        text-align: right;\n",
              "    }\n",
              "</style>\n",
              "<table border=\"1\" class=\"dataframe\">\n",
              "  <thead>\n",
              "    <tr style=\"text-align: right;\">\n",
              "      <th></th>\n",
              "      <th>Unnamed: 0</th>\n",
              "      <th>Images</th>\n",
              "      <th>PatientID</th>\n",
              "      <th>Atelectasis</th>\n",
              "      <th>Cardiomegaly</th>\n",
              "      <th>Consolidation</th>\n",
              "      <th>Edema</th>\n",
              "      <th>Effusion</th>\n",
              "      <th>Emphysema</th>\n",
              "      <th>Fibrosis</th>\n",
              "      <th>Hernia</th>\n",
              "      <th>Infiltration</th>\n",
              "      <th>Mass</th>\n",
              "      <th>No Finding</th>\n",
              "      <th>Nodule</th>\n",
              "      <th>Pleural_Thickening</th>\n",
              "      <th>Pneumonia</th>\n",
              "      <th>Pneumothorax</th>\n",
              "    </tr>\n",
              "  </thead>\n",
              "  <tbody>\n",
              "    <tr>\n",
              "      <th>0</th>\n",
              "      <td>4225</td>\n",
              "      <td>00018251_006.png</td>\n",
              "      <td>18251</td>\n",
              "      <td>0</td>\n",
              "      <td>0</td>\n",
              "      <td>0</td>\n",
              "      <td>1</td>\n",
              "      <td>0</td>\n",
              "      <td>0</td>\n",
              "      <td>0</td>\n",
              "      <td>0</td>\n",
              "      <td>0</td>\n",
              "      <td>0</td>\n",
              "      <td>0</td>\n",
              "      <td>0</td>\n",
              "      <td>0</td>\n",
              "      <td>0</td>\n",
              "      <td>0</td>\n",
              "    </tr>\n",
              "    <tr>\n",
              "      <th>1</th>\n",
              "      <td>3881</td>\n",
              "      <td>00016943_005.png</td>\n",
              "      <td>16943</td>\n",
              "      <td>0</td>\n",
              "      <td>0</td>\n",
              "      <td>0</td>\n",
              "      <td>0</td>\n",
              "      <td>1</td>\n",
              "      <td>0</td>\n",
              "      <td>0</td>\n",
              "      <td>0</td>\n",
              "      <td>0</td>\n",
              "      <td>0</td>\n",
              "      <td>0</td>\n",
              "      <td>0</td>\n",
              "      <td>0</td>\n",
              "      <td>0</td>\n",
              "      <td>0</td>\n",
              "    </tr>\n",
              "    <tr>\n",
              "      <th>2</th>\n",
              "      <td>5053</td>\n",
              "      <td>00023162_017.png</td>\n",
              "      <td>23162</td>\n",
              "      <td>0</td>\n",
              "      <td>0</td>\n",
              "      <td>0</td>\n",
              "      <td>0</td>\n",
              "      <td>0</td>\n",
              "      <td>0</td>\n",
              "      <td>0</td>\n",
              "      <td>0</td>\n",
              "      <td>1</td>\n",
              "      <td>0</td>\n",
              "      <td>0</td>\n",
              "      <td>0</td>\n",
              "      <td>0</td>\n",
              "      <td>0</td>\n",
              "      <td>0</td>\n",
              "    </tr>\n",
              "    <tr>\n",
              "      <th>3</th>\n",
              "      <td>2944</td>\n",
              "      <td>00013036_025.png</td>\n",
              "      <td>13036</td>\n",
              "      <td>0</td>\n",
              "      <td>0</td>\n",
              "      <td>0</td>\n",
              "      <td>0</td>\n",
              "      <td>0</td>\n",
              "      <td>0</td>\n",
              "      <td>0</td>\n",
              "      <td>0</td>\n",
              "      <td>0</td>\n",
              "      <td>0</td>\n",
              "      <td>1</td>\n",
              "      <td>0</td>\n",
              "      <td>0</td>\n",
              "      <td>0</td>\n",
              "      <td>0</td>\n",
              "    </tr>\n",
              "    <tr>\n",
              "      <th>4</th>\n",
              "      <td>4706</td>\n",
              "      <td>00021361_002.png</td>\n",
              "      <td>21361</td>\n",
              "      <td>0</td>\n",
              "      <td>0</td>\n",
              "      <td>0</td>\n",
              "      <td>0</td>\n",
              "      <td>0</td>\n",
              "      <td>0</td>\n",
              "      <td>0</td>\n",
              "      <td>0</td>\n",
              "      <td>1</td>\n",
              "      <td>0</td>\n",
              "      <td>0</td>\n",
              "      <td>0</td>\n",
              "      <td>0</td>\n",
              "      <td>0</td>\n",
              "      <td>0</td>\n",
              "    </tr>\n",
              "  </tbody>\n",
              "</table>\n",
              "</div>\n",
              "      <button class=\"colab-df-convert\" onclick=\"convertToInteractive('df-6de72181-32a9-4f02-a5f0-6d843a2f9f8d')\"\n",
              "              title=\"Convert this dataframe to an interactive table.\"\n",
              "              style=\"display:none;\">\n",
              "        \n",
              "  <svg xmlns=\"http://www.w3.org/2000/svg\" height=\"24px\"viewBox=\"0 0 24 24\"\n",
              "       width=\"24px\">\n",
              "    <path d=\"M0 0h24v24H0V0z\" fill=\"none\"/>\n",
              "    <path d=\"M18.56 5.44l.94 2.06.94-2.06 2.06-.94-2.06-.94-.94-2.06-.94 2.06-2.06.94zm-11 1L8.5 8.5l.94-2.06 2.06-.94-2.06-.94L8.5 2.5l-.94 2.06-2.06.94zm10 10l.94 2.06.94-2.06 2.06-.94-2.06-.94-.94-2.06-.94 2.06-2.06.94z\"/><path d=\"M17.41 7.96l-1.37-1.37c-.4-.4-.92-.59-1.43-.59-.52 0-1.04.2-1.43.59L10.3 9.45l-7.72 7.72c-.78.78-.78 2.05 0 2.83L4 21.41c.39.39.9.59 1.41.59.51 0 1.02-.2 1.41-.59l7.78-7.78 2.81-2.81c.8-.78.8-2.07 0-2.86zM5.41 20L4 18.59l7.72-7.72 1.47 1.35L5.41 20z\"/>\n",
              "  </svg>\n",
              "      </button>\n",
              "      \n",
              "  <style>\n",
              "    .colab-df-container {\n",
              "      display:flex;\n",
              "      flex-wrap:wrap;\n",
              "      gap: 12px;\n",
              "    }\n",
              "\n",
              "    .colab-df-convert {\n",
              "      background-color: #E8F0FE;\n",
              "      border: none;\n",
              "      border-radius: 50%;\n",
              "      cursor: pointer;\n",
              "      display: none;\n",
              "      fill: #1967D2;\n",
              "      height: 32px;\n",
              "      padding: 0 0 0 0;\n",
              "      width: 32px;\n",
              "    }\n",
              "\n",
              "    .colab-df-convert:hover {\n",
              "      background-color: #E2EBFA;\n",
              "      box-shadow: 0px 1px 2px rgba(60, 64, 67, 0.3), 0px 1px 3px 1px rgba(60, 64, 67, 0.15);\n",
              "      fill: #174EA6;\n",
              "    }\n",
              "\n",
              "    [theme=dark] .colab-df-convert {\n",
              "      background-color: #3B4455;\n",
              "      fill: #D2E3FC;\n",
              "    }\n",
              "\n",
              "    [theme=dark] .colab-df-convert:hover {\n",
              "      background-color: #434B5C;\n",
              "      box-shadow: 0px 1px 3px 1px rgba(0, 0, 0, 0.15);\n",
              "      filter: drop-shadow(0px 1px 2px rgba(0, 0, 0, 0.3));\n",
              "      fill: #FFFFFF;\n",
              "    }\n",
              "  </style>\n",
              "\n",
              "      <script>\n",
              "        const buttonEl =\n",
              "          document.querySelector('#df-6de72181-32a9-4f02-a5f0-6d843a2f9f8d button.colab-df-convert');\n",
              "        buttonEl.style.display =\n",
              "          google.colab.kernel.accessAllowed ? 'block' : 'none';\n",
              "\n",
              "        async function convertToInteractive(key) {\n",
              "          const element = document.querySelector('#df-6de72181-32a9-4f02-a5f0-6d843a2f9f8d');\n",
              "          const dataTable =\n",
              "            await google.colab.kernel.invokeFunction('convertToInteractive',\n",
              "                                                     [key], {});\n",
              "          if (!dataTable) return;\n",
              "\n",
              "          const docLinkHtml = 'Like what you see? Visit the ' +\n",
              "            '<a target=\"_blank\" href=https://colab.research.google.com/notebooks/data_table.ipynb>data table notebook</a>'\n",
              "            + ' to learn more about interactive tables.';\n",
              "          element.innerHTML = '';\n",
              "          dataTable['output_type'] = 'display_data';\n",
              "          await google.colab.output.renderOutput(dataTable, element);\n",
              "          const docLink = document.createElement('div');\n",
              "          docLink.innerHTML = docLinkHtml;\n",
              "          element.appendChild(docLink);\n",
              "        }\n",
              "      </script>\n",
              "    </div>\n",
              "  </div>\n",
              "  "
            ],
            "text/plain": [
              "   Unnamed: 0            Images  PatientID  Atelectasis  Cardiomegaly  \\\n",
              "0        4225  00018251_006.png      18251            0             0   \n",
              "1        3881  00016943_005.png      16943            0             0   \n",
              "2        5053  00023162_017.png      23162            0             0   \n",
              "3        2944  00013036_025.png      13036            0             0   \n",
              "4        4706  00021361_002.png      21361            0             0   \n",
              "\n",
              "   Consolidation  Edema  Effusion  Emphysema  Fibrosis  Hernia  Infiltration  \\\n",
              "0              0      1         0          0         0       0             0   \n",
              "1              0      0         1          0         0       0             0   \n",
              "2              0      0         0          0         0       0             1   \n",
              "3              0      0         0          0         0       0             0   \n",
              "4              0      0         0          0         0       0             1   \n",
              "\n",
              "   Mass  No Finding  Nodule  Pleural_Thickening  Pneumonia  Pneumothorax  \n",
              "0     0           0       0                   0          0             0  \n",
              "1     0           0       0                   0          0             0  \n",
              "2     0           0       0                   0          0             0  \n",
              "3     0           1       0                   0          0             0  \n",
              "4     0           0       0                   0          0             0  "
            ]
          },
          "execution_count": 48,
          "metadata": {},
          "output_type": "execute_result"
        }
      ],
      "source": [
        "train_df = pd.read_csv(\"/content/drive/MyDrive/Dataset/Pediatric_dataset/X_train_ped.csv\")\n",
        "valid_df = pd.read_csv(\"/content/drive/MyDrive/Dataset/Pediatric_dataset/X_valid_ped.csv\")\n",
        "test_df = pd.read_csv(\"/content/drive/MyDrive/Dataset/Pediatric_dataset/X_test_ped.csv\")\n",
        "train_df.head()"
      ]
    },
    {
      "cell_type": "code",
      "execution_count": null,
      "metadata": {
        "id": "AMzwXSdvOds8"
      },
      "outputs": [],
      "source": [
        "labels = ['Cardiomegaly', \n",
        "          'Emphysema', \n",
        "          'Effusion', \n",
        "          'Hernia', \n",
        "          'Infiltration', \n",
        "          'Mass', \n",
        "          'Nodule', \n",
        "          'Atelectasis',\n",
        "          'Pneumothorax',\n",
        "          'Pleural_Thickening', \n",
        "          'Pneumonia', \n",
        "          'Fibrosis', \n",
        "          'Edema', \n",
        "          'Consolidation']"
      ]
    },
    {
      "cell_type": "markdown",
      "metadata": {
        "id": "DCgw0X_jBI1L"
      },
      "source": [
        "#Preventing Data Leakage"
      ]
    },
    {
      "cell_type": "markdown",
      "metadata": {
        "id": "an_IQZzhBNPU"
      },
      "source": [
        "##1.Checking Data Leakage"
      ]
    },
    {
      "cell_type": "code",
      "execution_count": null,
      "metadata": {
        "id": "fOVweHiG_0YD"
      },
      "outputs": [],
      "source": [
        "def check_for_leakage(df1,df2,patient_col):\n",
        "  df1_patients_unique = None\n",
        "  df2_patients_unique = None\n",
        "  patients_in_both_groups = None\n",
        "\n",
        "  leakage = None\n",
        "  return leakage"
      ]
    },
    {
      "cell_type": "code",
      "execution_count": null,
      "metadata": {
        "colab": {
          "base_uri": "https://localhost:8080/"
        },
        "id": "m-gY3WnDCn1S",
        "outputId": "22947f6b-a6c7-4188-e32e-3bf423a05c21"
      },
      "outputs": [
        {
          "name": "stdout",
          "output_type": "stream",
          "text": [
            "test case 1\n",
            "df1\n",
            "   patient_id\n",
            "0           0\n",
            "1           1\n",
            "2           2\n",
            "df2\n",
            "   patient_id\n",
            "0           2\n",
            "1           3\n",
            "2           4\n",
            "leakage output: None\n",
            "-------------------------------------\n",
            "test case 2\n",
            "df1:\n",
            "   patient_id\n",
            "0           0\n",
            "1           1\n",
            "2           2\n",
            "df2:\n",
            "   patient_id\n",
            "0           3\n",
            "1           4\n",
            "2           5\n",
            "leakage output: None\n"
          ]
        }
      ],
      "source": [
        "# test\n",
        "print(\"test case 1\")\n",
        "df1 = pd.DataFrame({'patient_id': [0, 1, 2]})\n",
        "df2 = pd.DataFrame({'patient_id': [2, 3, 4]})\n",
        "print(\"df1\")\n",
        "print(df1)\n",
        "print(\"df2\")\n",
        "print(df2)\n",
        "print(f\"leakage output: {check_for_leakage(df1, df2, 'patient_id')}\")\n",
        "print(\"-------------------------------------\")\n",
        "print(\"test case 2\")\n",
        "df1 = pd.DataFrame({'patient_id': [0, 1, 2]})\n",
        "df2 = pd.DataFrame({'patient_id': [3, 4, 5]})\n",
        "print(\"df1:\")\n",
        "print(df1)\n",
        "print(\"df2:\")\n",
        "print(df2)\n",
        "\n",
        "print(f\"leakage output: {check_for_leakage(df1, df2, 'patient_id')}\")"
      ]
    },
    {
      "cell_type": "code",
      "execution_count": null,
      "metadata": {
        "colab": {
          "base_uri": "https://localhost:8080/"
        },
        "id": "5n7mL9c5CoVp",
        "outputId": "bb16d78f-b3dd-4479-db4c-ffabcdb06d46"
      },
      "outputs": [
        {
          "name": "stdout",
          "output_type": "stream",
          "text": [
            "leakage between train and valid: None\n",
            "leakage between train and test: None\n",
            "leakage between valid and test: None\n"
          ]
        }
      ],
      "source": [
        "print(\"leakage between train and valid: {}\".format(check_for_leakage(train_df, valid_df, 'PatientID')))\n",
        "print(\"leakage between train and test: {}\".format(check_for_leakage(train_df, test_df, 'PatientID')))\n",
        "print(\"leakage between valid and test: {}\".format(check_for_leakage(valid_df, test_df, 'PatientID')))"
      ]
    },
    {
      "cell_type": "markdown",
      "metadata": {
        "id": "IV1mVEkqDAPK"
      },
      "source": [
        "#Preparing Images"
      ]
    },
    {
      "cell_type": "markdown",
      "metadata": {
        "id": "jRdfv9wiD0U0"
      },
      "source": [
        "1.We normalize the mean and standard deviation of the data\n",
        "2.We shuffle the input after each epoch.\n",
        "3.We set the image size to be 320px by\n",
        "320px"
      ]
    },
    {
      "cell_type": "code",
      "execution_count": null,
      "metadata": {
        "id": "MbzL1OYaC1cC"
      },
      "outputs": [],
      "source": [
        "#return generator for training_set, normalizing using batch statistics\n",
        "def get_train_generator(df,image_dir,x_col,y_cols,shuffle=True ,batch_size = 8, seed = 1, target_w = 320,target_h = 320):\n",
        "  print(\"Getting train generator.....\")\n",
        "  #normalize images\n",
        "  image_generator = ImageDataGenerator(\n",
        "      samplewise_center = True,\n",
        "      samplewise_std_normalization = True)\n",
        "  #flow from directory with specified batch size \n",
        "  # and target image size\n",
        "  generator  = image_generator.flow_from_dataframe(\n",
        "      dataframe = df,\n",
        "      directory = image_dir,\n",
        "      x_col = x_col,\n",
        "      y_col = y_cols,\n",
        "      class_mode = \"raw\",\n",
        "      batch_size = batch_size,\n",
        "      shuffle = shuffle,\n",
        "      seed = seed,\n",
        "      target_size = (target_w,target_h))\n",
        "  return generator\n",
        "  "
      ]
    },
    {
      "cell_type": "code",
      "execution_count": null,
      "metadata": {
        "id": "R9BVvO7VF5FL"
      },
      "outputs": [],
      "source": [
        "def get_test_and_valid_generator(valid_df,test_df,train_df,image_dir,x_col,y_cols,sample_size = 100, batch_size =8, seed = 1, target_w =320, target_h =320):\n",
        "  #Return generator for validation set and test set using\n",
        "  #normalization statistics from training set.\n",
        "  print(\"getting train and valid generators....\")\n",
        "  #get generator to sample dataset\n",
        "  raw_train_generator = ImageDataGenerator().flow_from_dataframe(\n",
        "      dataframe = train_df,\n",
        "      directory = IMAGE_DIR,\n",
        "      x_col = \"Images\",\n",
        "      y_col = labels,\n",
        "      class_mode = \"raw\",\n",
        "      batch_size = sample_size,\n",
        "      shuffle = True,\n",
        "      target_size = (target_w,target_h))\n",
        "  \n",
        "  #get data sample\n",
        "  batch = raw_train_generator.next()\n",
        "  data_sample = batch[0]\n",
        "\n",
        "  #use sample to fit mean and std for test set generator\n",
        "  image_generator = ImageDataGenerator(\n",
        "      featurewise_center= True,\n",
        "      featurewise_std_normalization= True)\n",
        "  \n",
        "  #fit generator to sample from training data\n",
        "  image_generator.fit(data_sample)\n",
        "\n",
        "  #get test generator \n",
        "  valid_generator = image_generator.flow_from_dataframe(\n",
        "      dataframe = valid_df,\n",
        "      directory = image_dir,\n",
        "      x_col  = x_col,\n",
        "      y_col  = y_cols,\n",
        "      class_mode = \"raw\",\n",
        "      batch_size = batch_size,\n",
        "      shuffle = False,\n",
        "      seed = seed,\n",
        "      target_size = (target_w,target_h))\n",
        "  \n",
        "  test_generator = image_generator.flow_from_dataframe(\n",
        "      dataframe =test_df,\n",
        "      directory = image_dir,\n",
        "      x_col = x_col,\n",
        "      y_col = y_cols,\n",
        "      class_mode = \"raw\",\n",
        "      batch_size = batch_size,\n",
        "      shuffle = False,\n",
        "      seed = seed,\n",
        "      target_size = (target_w,target_h))\n",
        "  return valid_generator, test_generator"
      ]
    },
    {
      "cell_type": "code",
      "execution_count": null,
      "metadata": {
        "colab": {
          "base_uri": "https://localhost:8080/"
        },
        "id": "zge7EXc7NiVj",
        "outputId": "4e773337-0f6e-4851-d510-e0f66ca39b78"
      },
      "outputs": [
        {
          "name": "stdout",
          "output_type": "stream",
          "text": [
            "Getting train generator.....\n",
            "Found 4880 validated image filenames.\n",
            "getting train and valid generators....\n",
            "Found 4880 validated image filenames.\n",
            "Found 610 validated image filenames.\n",
            "Found 610 validated image filenames.\n"
          ]
        }
      ],
      "source": [
        "IMAGE_DIR = \"/content/drive/MyDrive/Dataset/Pediatric_dataset/ped_images\"\n",
        "train_generator  = get_train_generator(train_df,IMAGE_DIR,\"Images\",labels)\n",
        "valid_generator ,test_generator = get_test_and_valid_generator(valid_df,test_df,train_df,IMAGE_DIR,\"Images\",labels)"
      ]
    },
    {
      "cell_type": "code",
      "execution_count": null,
      "metadata": {
        "colab": {
          "base_uri": "https://localhost:8080/",
          "height": 290
        },
        "id": "pHLmV1VYOUj0",
        "outputId": "352d25d4-f26b-4df5-e2e3-5d3252c627b4"
      },
      "outputs": [
        {
          "name": "stderr",
          "output_type": "stream",
          "text": [
            "Clipping input data to the valid range for imshow with RGB data ([0..1] for floats or [0..255] for integers).\n"
          ]
        },
        {
          "data": {
            "image/png": "[encoded data removed]",
            "text/plain": [
              "<Figure size 432x288 with 1 Axes>"
            ]
          },
          "metadata": {},
          "output_type": "display_data"
        }
      ],
      "source": [
        "x, y = train_generator.__getitem__(0)\n",
        "plt.imshow(x[0]);"
      ]
    },
    {
      "cell_type": "markdown",
      "metadata": {
        "id": "8O5-P7MCPzFP"
      },
      "source": [
        "#Model Development"
      ]
    },
    {
      "cell_type": "markdown",
      "metadata": {
        "id": "ozvkvb7MP_kL"
      },
      "source": [
        "##1.Checking Class Imbalance"
      ]
    },
    {
      "cell_type": "code",
      "execution_count": null,
      "metadata": {
        "colab": {
          "base_uri": "https://localhost:8080/",
          "height": 377
        },
        "id": "xvcB45esPtxa",
        "outputId": "90869ecc-0ddd-42fc-a06c-49cf10879c10"
      },
      "outputs": [
        {
          "data": {
            "image/png": "[encoded data removed]",
            "text/plain": [
              "<Figure size 432x288 with 1 Axes>"
            ]
          },
          "metadata": {},
          "output_type": "display_data"
        }
      ],
      "source": [
        "plt.xticks(rotation = 90)\n",
        "plt.bar(x = labels, height = np.mean(train_generator.labels,axis = 0))\n",
        "plt.title(\"Frequency of Each Class\")\n",
        "plt.show()"
      ]
    },
    {
      "cell_type": "code",
      "source": [
        "df1.head()"
      ],
      "metadata": {
        "colab": {
          "base_uri": "https://localhost:8080/",
          "height": 287
        },
        "id": "TFahNPmhCD__",
        "outputId": "1a0e9f5e-3532-45ff-efa1-c0ea23eb2b83"
      },
      "execution_count": null,
      "outputs": [
        {
          "output_type": "execute_result",
          "data": {
            "text/plain": [
              "             Images  PatientID  Atelectasis  Cardiomegaly  Consolidation  \\\n",
              "0  00000522_000.png        522            1             0              0   \n",
              "1  00000522_001.png        522            0             0              0   \n",
              "2  00000522_002.png        522            0             0              0   \n",
              "3  00000522_003.png        522            0             0              0   \n",
              "4  00000564_000.png        564            0             0              0   \n",
              "\n",
              "   Edema  Effusion  Emphysema  Fibrosis  Hernia  Infiltration  Mass  \\\n",
              "0      0         0          0         0       0             0     0   \n",
              "1      0         0          0         0       0             0     0   \n",
              "2      0         0          0         0       0             0     0   \n",
              "3      0         0          0         0       0             0     0   \n",
              "4      0         0          0         0       0             0     0   \n",
              "\n",
              "   No Finding  Nodule  Pleural_Thickening  Pneumonia  Pneumothorax  \n",
              "0           0       0                   0          0             0  \n",
              "1           1       0                   0          0             0  \n",
              "2           1       0                   0          0             0  \n",
              "3           1       0                   0          0             0  \n",
              "4           1       0                   0          0             0  "
            ],
            "text/html": [
              "\n",
              "  <div id=\"df-29cf9660-af09-4b69-9b3a-2d69e7fe3022\">\n",
              "    <div class=\"colab-df-container\">\n",
              "      <div>\n",
              "<style scoped>\n",
              "    .dataframe tbody tr th:only-of-type {\n",
              "        vertical-align: middle;\n",
              "    }\n",
              "\n",
              "    .dataframe tbody tr th {\n",
              "        vertical-align: top;\n",
              "    }\n",
              "\n",
              "    .dataframe thead th {\n",
              "        text-align: right;\n",
              "    }\n",
              "</style>\n",
              "<table border=\"1\" class=\"dataframe\">\n",
              "  <thead>\n",
              "    <tr style=\"text-align: right;\">\n",
              "      <th></th>\n",
              "      <th>Images</th>\n",
              "      <th>PatientID</th>\n",
              "      <th>Atelectasis</th>\n",
              "      <th>Cardiomegaly</th>\n",
              "      <th>Consolidation</th>\n",
              "      <th>Edema</th>\n",
              "      <th>Effusion</th>\n",
              "      <th>Emphysema</th>\n",
              "      <th>Fibrosis</th>\n",
              "      <th>Hernia</th>\n",
              "      <th>Infiltration</th>\n",
              "      <th>Mass</th>\n",
              "      <th>No Finding</th>\n",
              "      <th>Nodule</th>\n",
              "      <th>Pleural_Thickening</th>\n",
              "      <th>Pneumonia</th>\n",
              "      <th>Pneumothorax</th>\n",
              "    </tr>\n",
              "  </thead>\n",
              "  <tbody>\n",
              "    <tr>\n",
              "      <th>0</th>\n",
              "      <td>00000522_000.png</td>\n",
              "      <td>522</td>\n",
              "      <td>1</td>\n",
              "      <td>0</td>\n",
              "      <td>0</td>\n",
              "      <td>0</td>\n",
              "      <td>0</td>\n",
              "      <td>0</td>\n",
              "      <td>0</td>\n",
              "      <td>0</td>\n",
              "      <td>0</td>\n",
              "      <td>0</td>\n",
              "      <td>0</td>\n",
              "      <td>0</td>\n",
              "      <td>0</td>\n",
              "      <td>0</td>\n",
              "      <td>0</td>\n",
              "    </tr>\n",
              "    <tr>\n",
              "      <th>1</th>\n",
              "      <td>00000522_001.png</td>\n",
              "      <td>522</td>\n",
              "      <td>0</td>\n",
              "      <td>0</td>\n",
              "      <td>0</td>\n",
              "      <td>0</td>\n",
              "      <td>0</td>\n",
              "      <td>0</td>\n",
              "      <td>0</td>\n",
              "      <td>0</td>\n",
              "      <td>0</td>\n",
              "      <td>0</td>\n",
              "      <td>1</td>\n",
              "      <td>0</td>\n",
              "      <td>0</td>\n",
              "      <td>0</td>\n",
              "      <td>0</td>\n",
              "    </tr>\n",
              "    <tr>\n",
              "      <th>2</th>\n",
              "      <td>00000522_002.png</td>\n",
              "      <td>522</td>\n",
              "      <td>0</td>\n",
              "      <td>0</td>\n",
              "      <td>0</td>\n",
              "      <td>0</td>\n",
              "      <td>0</td>\n",
              "      <td>0</td>\n",
              "      <td>0</td>\n",
              "      <td>0</td>\n",
              "      <td>0</td>\n",
              "      <td>0</td>\n",
              "      <td>1</td>\n",
              "      <td>0</td>\n",
              "      <td>0</td>\n",
              "      <td>0</td>\n",
              "      <td>0</td>\n",
              "    </tr>\n",
              "    <tr>\n",
              "      <th>3</th>\n",
              "      <td>00000522_003.png</td>\n",
              "      <td>522</td>\n",
              "      <td>0</td>\n",
              "      <td>0</td>\n",
              "      <td>0</td>\n",
              "      <td>0</td>\n",
              "      <td>0</td>\n",
              "      <td>0</td>\n",
              "      <td>0</td>\n",
              "      <td>0</td>\n",
              "      <td>0</td>\n",
              "      <td>0</td>\n",
              "      <td>1</td>\n",
              "      <td>0</td>\n",
              "      <td>0</td>\n",
              "      <td>0</td>\n",
              "      <td>0</td>\n",
              "    </tr>\n",
              "    <tr>\n",
              "      <th>4</th>\n",
              "      <td>00000564_000.png</td>\n",
              "      <td>564</td>\n",
              "      <td>0</td>\n",
              "      <td>0</td>\n",
              "      <td>0</td>\n",
              "      <td>0</td>\n",
              "      <td>0</td>\n",
              "      <td>0</td>\n",
              "      <td>0</td>\n",
              "      <td>0</td>\n",
              "      <td>0</td>\n",
              "      <td>0</td>\n",
              "      <td>1</td>\n",
              "      <td>0</td>\n",
              "      <td>0</td>\n",
              "      <td>0</td>\n",
              "      <td>0</td>\n",
              "    </tr>\n",
              "  </tbody>\n",
              "</table>\n",
              "</div>\n",
              "      <button class=\"colab-df-convert\" onclick=\"convertToInteractive('df-29cf9660-af09-4b69-9b3a-2d69e7fe3022')\"\n",
              "              title=\"Convert this dataframe to an interactive table.\"\n",
              "              style=\"display:none;\">\n",
              "        \n",
              "  <svg xmlns=\"http://www.w3.org/2000/svg\" height=\"24px\"viewBox=\"0 0 24 24\"\n",
              "       width=\"24px\">\n",
              "    <path d=\"M0 0h24v24H0V0z\" fill=\"none\"/>\n",
              "    <path d=\"M18.56 5.44l.94 2.06.94-2.06 2.06-.94-2.06-.94-.94-2.06-.94 2.06-2.06.94zm-11 1L8.5 8.5l.94-2.06 2.06-.94-2.06-.94L8.5 2.5l-.94 2.06-2.06.94zm10 10l.94 2.06.94-2.06 2.06-.94-2.06-.94-.94-2.06-.94 2.06-2.06.94z\"/><path d=\"M17.41 7.96l-1.37-1.37c-.4-.4-.92-.59-1.43-.59-.52 0-1.04.2-1.43.59L10.3 9.45l-7.72 7.72c-.78.78-.78 2.05 0 2.83L4 21.41c.39.39.9.59 1.41.59.51 0 1.02-.2 1.41-.59l7.78-7.78 2.81-2.81c.8-.78.8-2.07 0-2.86zM5.41 20L4 18.59l7.72-7.72 1.47 1.35L5.41 20z\"/>\n",
              "  </svg>\n",
              "      </button>\n",
              "      \n",
              "  <style>\n",
              "    .colab-df-container {\n",
              "      display:flex;\n",
              "      flex-wrap:wrap;\n",
              "      gap: 12px;\n",
              "    }\n",
              "\n",
              "    .colab-df-convert {\n",
              "      background-color: #E8F0FE;\n",
              "      border: none;\n",
              "      border-radius: 50%;\n",
              "      cursor: pointer;\n",
              "      display: none;\n",
              "      fill: #1967D2;\n",
              "      height: 32px;\n",
              "      padding: 0 0 0 0;\n",
              "      width: 32px;\n",
              "    }\n",
              "\n",
              "    .colab-df-convert:hover {\n",
              "      background-color: #E2EBFA;\n",
              "      box-shadow: 0px 1px 2px rgba(60, 64, 67, 0.3), 0px 1px 3px 1px rgba(60, 64, 67, 0.15);\n",
              "      fill: #174EA6;\n",
              "    }\n",
              "\n",
              "    [theme=dark] .colab-df-convert {\n",
              "      background-color: #3B4455;\n",
              "      fill: #D2E3FC;\n",
              "    }\n",
              "\n",
              "    [theme=dark] .colab-df-convert:hover {\n",
              "      background-color: #434B5C;\n",
              "      box-shadow: 0px 1px 3px 1px rgba(0, 0, 0, 0.15);\n",
              "      filter: drop-shadow(0px 1px 2px rgba(0, 0, 0, 0.3));\n",
              "      fill: #FFFFFF;\n",
              "    }\n",
              "  </style>\n",
              "\n",
              "      <script>\n",
              "        const buttonEl =\n",
              "          document.querySelector('#df-29cf9660-af09-4b69-9b3a-2d69e7fe3022 button.colab-df-convert');\n",
              "        buttonEl.style.display =\n",
              "          google.colab.kernel.accessAllowed ? 'block' : 'none';\n",
              "\n",
              "        async function convertToInteractive(key) {\n",
              "          const element = document.querySelector('#df-29cf9660-af09-4b69-9b3a-2d69e7fe3022');\n",
              "          const dataTable =\n",
              "            await google.colab.kernel.invokeFunction('convertToInteractive',\n",
              "                                                     [key], {});\n",
              "          if (!dataTable) return;\n",
              "\n",
              "          const docLinkHtml = 'Like what you see? Visit the ' +\n",
              "            '<a target=\"_blank\" href=https://colab.research.google.com/notebooks/data_table.ipynb>data table notebook</a>'\n",
              "            + ' to learn more about interactive tables.';\n",
              "          element.innerHTML = '';\n",
              "          dataTable['output_type'] = 'display_data';\n",
              "          await google.colab.output.renderOutput(dataTable, element);\n",
              "          const docLink = document.createElement('div');\n",
              "          docLink.innerHTML = docLinkHtml;\n",
              "          element.appendChild(docLink);\n",
              "        }\n",
              "      </script>\n",
              "    </div>\n",
              "  </div>\n",
              "  "
            ]
          },
          "metadata": {},
          "execution_count": 49
        }
      ]
    },
    {
      "cell_type": "code",
      "execution_count": null,
      "metadata": {
        "id": "2LQ_zUgtTSsd"
      },
      "outputs": [],
      "source": [
        "# UNQ_C2 (UNIQUE CELL IDENTIFIER, DO NOT EDIT)\n",
        "def compute_class_freqs(labels):\n",
        "    \"\"\"\n",
        "    Compute positive and negative frequences for each class.\n",
        "\n",
        "    Args:\n",
        "        labels (np.array): matrix of labels, size (num_examples, num_classes)\n",
        "    Returns:\n",
        "        positive_frequencies (np.array): array of positive frequences for each\n",
        "                                         class, size (num_classes)\n",
        "        negative_frequencies (np.array): array of negative frequences for each\n",
        "                                         class, size (num_classes)\n",
        "    \"\"\"\n",
        "    ### START CODE HERE (REPLACE INSTANCES OF 'None' with your code) ###\n",
        "    \n",
        "    # total number of patients (rows)\n",
        "    N = df1['Images'].count()\n",
        "    \n",
        "    positive_frequencies = None\n",
        "    negative_frequencies = None\n",
        "\n",
        "    ### END CODE HERE ###\n",
        "    return positive_frequencies, negative_frequencies"
      ]
    },
    {
      "cell_type": "code",
      "source": [
        "type(df1['Images'].count())"
      ],
      "metadata": {
        "colab": {
          "base_uri": "https://localhost:8080/"
        },
        "id": "FZKNPhD6BC4L",
        "outputId": "ff58a0e0-b89d-42ad-c334-24ec3b20227d"
      },
      "execution_count": null,
      "outputs": [
        {
          "output_type": "execute_result",
          "data": {
            "text/plain": [
              "numpy.int64"
            ]
          },
          "metadata": {},
          "execution_count": 47
        }
      ]
    },
    {
      "cell_type": "code",
      "execution_count": null,
      "metadata": {
        "colab": {
          "base_uri": "https://localhost:8080/"
        },
        "id": "eu7A8hHrTWHj",
        "outputId": "bcfb9de7-384d-47ed-b532-8b996962b2f6"
      },
      "outputs": [
        {
          "name": "stdout",
          "output_type": "stream",
          "text": [
            "labels:\n",
            "[[1 0 0]\n",
            " [0 1 1]\n",
            " [1 0 1]\n",
            " [1 1 1]\n",
            " [1 0 1]]\n",
            "pos freqs: None\n",
            "neg freqs: None\n"
          ]
        }
      ],
      "source": [
        "# Test\n",
        "labels_matrix = np.array(\n",
        "    [[1, 0, 0],\n",
        "     [0, 1, 1],\n",
        "     [1, 0, 1],\n",
        "     [1, 1, 1],\n",
        "     [1, 0, 1]]\n",
        ")\n",
        "print(\"labels:\")\n",
        "print(labels_matrix)\n",
        "\n",
        "test_pos_freqs, test_neg_freqs = compute_class_freqs(labels_matrix)\n",
        "\n",
        "print(f\"pos freqs: {test_pos_freqs}\")\n",
        "\n",
        "print(f\"neg freqs: {test_neg_freqs}\")"
      ]
    },
    {
      "cell_type": "code",
      "execution_count": null,
      "metadata": {
        "colab": {
          "base_uri": "https://localhost:8080/"
        },
        "id": "iDCeyo8tVDqi",
        "outputId": "e74bed3a-3c61-4f07-ea47-eba19590f232"
      },
      "outputs": [
        {
          "name": "stdout",
          "output_type": "stream",
          "text": [
            "[[0 0 0 ... 0 1 0]\n",
            " [0 0 1 ... 0 0 0]\n",
            " [0 0 0 ... 0 0 0]\n",
            " ...\n",
            " [0 0 0 ... 0 0 0]\n",
            " [0 0 0 ... 0 0 0]\n",
            " [0 0 0 ... 0 0 0]]\n"
          ]
        }
      ],
      "source": [
        "print(train_generator.labels)"
      ]
    },
    {
      "cell_type": "code",
      "execution_count": null,
      "metadata": {
        "colab": {
          "base_uri": "https://localhost:8080/",
          "height": 287
        },
        "id": "Tve9IAtsyNh1",
        "outputId": "279a79f8-adfb-4b35-f715-bdf44ca870ff"
      },
      "outputs": [
        {
          "data": {
            "text/html": [
              "\n",
              "  <div id=\"df-673b0b64-89da-4bd2-a974-a4cb9838bbcb\">\n",
              "    <div class=\"colab-df-container\">\n",
              "      <div>\n",
              "<style scoped>\n",
              "    .dataframe tbody tr th:only-of-type {\n",
              "        vertical-align: middle;\n",
              "    }\n",
              "\n",
              "    .dataframe tbody tr th {\n",
              "        vertical-align: top;\n",
              "    }\n",
              "\n",
              "    .dataframe thead th {\n",
              "        text-align: right;\n",
              "    }\n",
              "</style>\n",
              "<table border=\"1\" class=\"dataframe\">\n",
              "  <thead>\n",
              "    <tr style=\"text-align: right;\">\n",
              "      <th></th>\n",
              "      <th>Images</th>\n",
              "      <th>PatientID</th>\n",
              "      <th>Atelectasis</th>\n",
              "      <th>Cardiomegaly</th>\n",
              "      <th>Consolidation</th>\n",
              "      <th>Edema</th>\n",
              "      <th>Effusion</th>\n",
              "      <th>Emphysema</th>\n",
              "      <th>Fibrosis</th>\n",
              "      <th>Hernia</th>\n",
              "      <th>Infiltration</th>\n",
              "      <th>Mass</th>\n",
              "      <th>No Finding</th>\n",
              "      <th>Nodule</th>\n",
              "      <th>Pleural_Thickening</th>\n",
              "      <th>Pneumonia</th>\n",
              "      <th>Pneumothorax</th>\n",
              "    </tr>\n",
              "  </thead>\n",
              "  <tbody>\n",
              "    <tr>\n",
              "      <th>0</th>\n",
              "      <td>00000522_000.png</td>\n",
              "      <td>522</td>\n",
              "      <td>1</td>\n",
              "      <td>0</td>\n",
              "      <td>0</td>\n",
              "      <td>0</td>\n",
              "      <td>0</td>\n",
              "      <td>0</td>\n",
              "      <td>0</td>\n",
              "      <td>0</td>\n",
              "      <td>0</td>\n",
              "      <td>0</td>\n",
              "      <td>0</td>\n",
              "      <td>0</td>\n",
              "      <td>0</td>\n",
              "      <td>0</td>\n",
              "      <td>0</td>\n",
              "    </tr>\n",
              "    <tr>\n",
              "      <th>1</th>\n",
              "      <td>00000522_001.png</td>\n",
              "      <td>522</td>\n",
              "      <td>0</td>\n",
              "      <td>0</td>\n",
              "      <td>0</td>\n",
              "      <td>0</td>\n",
              "      <td>0</td>\n",
              "      <td>0</td>\n",
              "      <td>0</td>\n",
              "      <td>0</td>\n",
              "      <td>0</td>\n",
              "      <td>0</td>\n",
              "      <td>1</td>\n",
              "      <td>0</td>\n",
              "      <td>0</td>\n",
              "      <td>0</td>\n",
              "      <td>0</td>\n",
              "    </tr>\n",
              "    <tr>\n",
              "      <th>2</th>\n",
              "      <td>00000522_002.png</td>\n",
              "      <td>522</td>\n",
              "      <td>0</td>\n",
              "      <td>0</td>\n",
              "      <td>0</td>\n",
              "      <td>0</td>\n",
              "      <td>0</td>\n",
              "      <td>0</td>\n",
              "      <td>0</td>\n",
              "      <td>0</td>\n",
              "      <td>0</td>\n",
              "      <td>0</td>\n",
              "      <td>1</td>\n",
              "      <td>0</td>\n",
              "      <td>0</td>\n",
              "      <td>0</td>\n",
              "      <td>0</td>\n",
              "    </tr>\n",
              "    <tr>\n",
              "      <th>3</th>\n",
              "      <td>00000522_003.png</td>\n",
              "      <td>522</td>\n",
              "      <td>0</td>\n",
              "      <td>0</td>\n",
              "      <td>0</td>\n",
              "      <td>0</td>\n",
              "      <td>0</td>\n",
              "      <td>0</td>\n",
              "      <td>0</td>\n",
              "      <td>0</td>\n",
              "      <td>0</td>\n",
              "      <td>0</td>\n",
              "      <td>1</td>\n",
              "      <td>0</td>\n",
              "      <td>0</td>\n",
              "      <td>0</td>\n",
              "      <td>0</td>\n",
              "    </tr>\n",
              "    <tr>\n",
              "      <th>4</th>\n",
              "      <td>00000564_000.png</td>\n",
              "      <td>564</td>\n",
              "      <td>0</td>\n",
              "      <td>0</td>\n",
              "      <td>0</td>\n",
              "      <td>0</td>\n",
              "      <td>0</td>\n",
              "      <td>0</td>\n",
              "      <td>0</td>\n",
              "      <td>0</td>\n",
              "      <td>0</td>\n",
              "      <td>0</td>\n",
              "      <td>1</td>\n",
              "      <td>0</td>\n",
              "      <td>0</td>\n",
              "      <td>0</td>\n",
              "      <td>0</td>\n",
              "    </tr>\n",
              "  </tbody>\n",
              "</table>\n",
              "</div>\n",
              "      <button class=\"colab-df-convert\" onclick=\"convertToInteractive('df-673b0b64-89da-4bd2-a974-a4cb9838bbcb')\"\n",
              "              title=\"Convert this dataframe to an interactive table.\"\n",
              "              style=\"display:none;\">\n",
              "        \n",
              "  <svg xmlns=\"http://www.w3.org/2000/svg\" height=\"24px\"viewBox=\"0 0 24 24\"\n",
              "       width=\"24px\">\n",
              "    <path d=\"M0 0h24v24H0V0z\" fill=\"none\"/>\n",
              "    <path d=\"M18.56 5.44l.94 2.06.94-2.06 2.06-.94-2.06-.94-.94-2.06-.94 2.06-2.06.94zm-11 1L8.5 8.5l.94-2.06 2.06-.94-2.06-.94L8.5 2.5l-.94 2.06-2.06.94zm10 10l.94 2.06.94-2.06 2.06-.94-2.06-.94-.94-2.06-.94 2.06-2.06.94z\"/><path d=\"M17.41 7.96l-1.37-1.37c-.4-.4-.92-.59-1.43-.59-.52 0-1.04.2-1.43.59L10.3 9.45l-7.72 7.72c-.78.78-.78 2.05 0 2.83L4 21.41c.39.39.9.59 1.41.59.51 0 1.02-.2 1.41-.59l7.78-7.78 2.81-2.81c.8-.78.8-2.07 0-2.86zM5.41 20L4 18.59l7.72-7.72 1.47 1.35L5.41 20z\"/>\n",
              "  </svg>\n",
              "      </button>\n",
              "      \n",
              "  <style>\n",
              "    .colab-df-container {\n",
              "      display:flex;\n",
              "      flex-wrap:wrap;\n",
              "      gap: 12px;\n",
              "    }\n",
              "\n",
              "    .colab-df-convert {\n",
              "      background-color: #E8F0FE;\n",
              "      border: none;\n",
              "      border-radius: 50%;\n",
              "      cursor: pointer;\n",
              "      display: none;\n",
              "      fill: #1967D2;\n",
              "      height: 32px;\n",
              "      padding: 0 0 0 0;\n",
              "      width: 32px;\n",
              "    }\n",
              "\n",
              "    .colab-df-convert:hover {\n",
              "      background-color: #E2EBFA;\n",
              "      box-shadow: 0px 1px 2px rgba(60, 64, 67, 0.3), 0px 1px 3px 1px rgba(60, 64, 67, 0.15);\n",
              "      fill: #174EA6;\n",
              "    }\n",
              "\n",
              "    [theme=dark] .colab-df-convert {\n",
              "      background-color: #3B4455;\n",
              "      fill: #D2E3FC;\n",
              "    }\n",
              "\n",
              "    [theme=dark] .colab-df-convert:hover {\n",
              "      background-color: #434B5C;\n",
              "      box-shadow: 0px 1px 3px 1px rgba(0, 0, 0, 0.15);\n",
              "      filter: drop-shadow(0px 1px 2px rgba(0, 0, 0, 0.3));\n",
              "      fill: #FFFFFF;\n",
              "    }\n",
              "  </style>\n",
              "\n",
              "      <script>\n",
              "        const buttonEl =\n",
              "          document.querySelector('#df-673b0b64-89da-4bd2-a974-a4cb9838bbcb button.colab-df-convert');\n",
              "        buttonEl.style.display =\n",
              "          google.colab.kernel.accessAllowed ? 'block' : 'none';\n",
              "\n",
              "        async function convertToInteractive(key) {\n",
              "          const element = document.querySelector('#df-673b0b64-89da-4bd2-a974-a4cb9838bbcb');\n",
              "          const dataTable =\n",
              "            await google.colab.kernel.invokeFunction('convertToInteractive',\n",
              "                                                     [key], {});\n",
              "          if (!dataTable) return;\n",
              "\n",
              "          const docLinkHtml = 'Like what you see? Visit the ' +\n",
              "            '<a target=\"_blank\" href=https://colab.research.google.com/notebooks/data_table.ipynb>data table notebook</a>'\n",
              "            + ' to learn more about interactive tables.';\n",
              "          element.innerHTML = '';\n",
              "          dataTable['output_type'] = 'display_data';\n",
              "          await google.colab.output.renderOutput(dataTable, element);\n",
              "          const docLink = document.createElement('div');\n",
              "          docLink.innerHTML = docLinkHtml;\n",
              "          element.appendChild(docLink);\n",
              "        }\n",
              "      </script>\n",
              "    </div>\n",
              "  </div>\n",
              "  "
            ],
            "text/plain": [
              "             Images  PatientID  Atelectasis  Cardiomegaly  Consolidation  \\\n",
              "0  00000522_000.png        522            1             0              0   \n",
              "1  00000522_001.png        522            0             0              0   \n",
              "2  00000522_002.png        522            0             0              0   \n",
              "3  00000522_003.png        522            0             0              0   \n",
              "4  00000564_000.png        564            0             0              0   \n",
              "\n",
              "   Edema  Effusion  Emphysema  Fibrosis  Hernia  Infiltration  Mass  \\\n",
              "0      0         0          0         0       0             0     0   \n",
              "1      0         0          0         0       0             0     0   \n",
              "2      0         0          0         0       0             0     0   \n",
              "3      0         0          0         0       0             0     0   \n",
              "4      0         0          0         0       0             0     0   \n",
              "\n",
              "   No Finding  Nodule  Pleural_Thickening  Pneumonia  Pneumothorax  \n",
              "0           0       0                   0          0             0  \n",
              "1           1       0                   0          0             0  \n",
              "2           1       0                   0          0             0  \n",
              "3           1       0                   0          0             0  \n",
              "4           1       0                   0          0             0  "
            ]
          },
          "execution_count": 103,
          "metadata": {},
          "output_type": "execute_result"
        }
      ],
      "source": [
        "df1.head()"
      ]
    },
    {
      "cell_type": "code",
      "execution_count": null,
      "metadata": {
        "id": "8HxwTbD5v1N-"
      },
      "outputs": [],
      "source": [
        "#for idx, name in enumerate(df1.loc[:].value_counts().index.tolist()):\n",
        "    #print('Name :', name)\n",
        "    #print('Counts :', df1.loc[:].value_counts()[idx])"
      ]
    },
    {
      "cell_type": "code",
      "execution_count": null,
      "metadata": {
        "colab": {
          "base_uri": "https://localhost:8080/",
          "height": 200
        },
        "id": "szVxenqwQYas",
        "outputId": "cd64a4c8-60a7-456b-fb79-aae1bb5d2de7"
      },
      "outputs": [
        {
          "output_type": "error",
          "ename": "NameError",
          "evalue": "ignored",
          "traceback": [
            "\u001b[0;31m---------------------------------------------------------------------------\u001b[0m",
            "\u001b[0;31mNameError\u001b[0m                                 Traceback (most recent call last)",
            "\u001b[0;32m<ipython-input-46-bc023c85c9b2>\u001b[0m in \u001b[0;36m<module>\u001b[0;34m()\u001b[0m\n\u001b[0;32m----> 1\u001b[0;31m \u001b[0mfreq_pos\u001b[0m\u001b[0;34m,\u001b[0m \u001b[0mfreq_neg\u001b[0m \u001b[0;34m=\u001b[0m \u001b[0mcompute_class_freqs\u001b[0m\u001b[0;34m(\u001b[0m\u001b[0mtrain_generator\u001b[0m\u001b[0;34m.\u001b[0m\u001b[0mlabels\u001b[0m\u001b[0;34m)\u001b[0m\u001b[0;34m\u001b[0m\u001b[0;34m\u001b[0m\u001b[0m\n\u001b[0m\u001b[1;32m      2\u001b[0m \u001b[0mfreq_pos\u001b[0m\u001b[0;34m\u001b[0m\u001b[0;34m\u001b[0m\u001b[0m\n\u001b[1;32m      3\u001b[0m \u001b[0mprint\u001b[0m\u001b[0;34m(\u001b[0m\u001b[0mfreq_pos\u001b[0m\u001b[0;34m)\u001b[0m\u001b[0;34m\u001b[0m\u001b[0;34m\u001b[0m\u001b[0m\n",
            "\u001b[0;31mNameError\u001b[0m: name 'compute_class_freqs' is not defined"
          ]
        }
      ],
      "source": [
        "freq_pos, freq_neg = compute_class_freqs(train_generator.labels)\n",
        "freq_pos\n",
        "print(freq_pos)"
      ]
    },
    {
      "cell_type": "code",
      "execution_count": null,
      "metadata": {
        "colab": {
          "base_uri": "https://localhost:8080/",
          "height": 217
        },
        "id": "eIlf4S53TOLH",
        "outputId": "d2cf9128-38dd-4680-a53c-91f1c37a23da"
      },
      "outputs": [
        {
          "ename": "TypeError",
          "evalue": "ignored",
          "output_type": "error",
          "traceback": [
            "\u001b[0;31m---------------------------------------------------------------------------\u001b[0m",
            "\u001b[0;31mTypeError\u001b[0m                                 Traceback (most recent call last)",
            "\u001b[0;32m<ipython-input-82-a6e9bd6c9e8a>\u001b[0m in \u001b[0;36m<module>\u001b[0;34m()\u001b[0m\n\u001b[1;32m      1\u001b[0m \u001b[0mdata\u001b[0m \u001b[0;34m=\u001b[0m \u001b[0mpd\u001b[0m\u001b[0;34m.\u001b[0m\u001b[0mDataFrame\u001b[0m\u001b[0;34m(\u001b[0m\u001b[0;34m{\u001b[0m\u001b[0;34m\"Class\"\u001b[0m\u001b[0;34m:\u001b[0m \u001b[0mlabels\u001b[0m\u001b[0;34m,\u001b[0m \u001b[0;34m\"Label\"\u001b[0m\u001b[0;34m:\u001b[0m \u001b[0;34m\"Positive\"\u001b[0m\u001b[0;34m,\u001b[0m \u001b[0;34m\"Value\"\u001b[0m\u001b[0;34m:\u001b[0m \u001b[0mfreq_pos\u001b[0m\u001b[0;34m}\u001b[0m\u001b[0;34m)\u001b[0m\u001b[0;34m\u001b[0m\u001b[0;34m\u001b[0m\u001b[0m\n\u001b[0;32m----> 2\u001b[0;31m \u001b[0mdata\u001b[0m \u001b[0;34m=\u001b[0m \u001b[0mdata\u001b[0m\u001b[0;34m.\u001b[0m\u001b[0mappend\u001b[0m\u001b[0;34m(\u001b[0m\u001b[0;34m[\u001b[0m\u001b[0;34m{\u001b[0m\u001b[0;34m\"Class\"\u001b[0m\u001b[0;34m:\u001b[0m \u001b[0mlabels\u001b[0m\u001b[0;34m[\u001b[0m\u001b[0ml\u001b[0m\u001b[0;34m]\u001b[0m\u001b[0;34m,\u001b[0m \u001b[0;34m\"Label\"\u001b[0m\u001b[0;34m:\u001b[0m \u001b[0;34m\"Negative\"\u001b[0m\u001b[0;34m,\u001b[0m \u001b[0;34m\"Value\"\u001b[0m\u001b[0;34m:\u001b[0m \u001b[0mv\u001b[0m\u001b[0;34m}\u001b[0m \u001b[0;32mfor\u001b[0m \u001b[0ml\u001b[0m\u001b[0;34m,\u001b[0m\u001b[0mv\u001b[0m \u001b[0;32min\u001b[0m \u001b[0menumerate\u001b[0m\u001b[0;34m(\u001b[0m\u001b[0;36m10\u001b[0m\u001b[0;34m)\u001b[0m\u001b[0;34m]\u001b[0m\u001b[0;34m,\u001b[0m \u001b[0mignore_index\u001b[0m\u001b[0;34m=\u001b[0m\u001b[0;32mTrue\u001b[0m\u001b[0;34m)\u001b[0m\u001b[0;34m\u001b[0m\u001b[0;34m\u001b[0m\u001b[0m\n\u001b[0m\u001b[1;32m      3\u001b[0m \u001b[0mplt\u001b[0m\u001b[0;34m.\u001b[0m\u001b[0mxticks\u001b[0m\u001b[0;34m(\u001b[0m\u001b[0mrotation\u001b[0m\u001b[0;34m=\u001b[0m\u001b[0;36m90\u001b[0m\u001b[0;34m)\u001b[0m\u001b[0;34m\u001b[0m\u001b[0;34m\u001b[0m\u001b[0m\n\u001b[1;32m      4\u001b[0m \u001b[0mf\u001b[0m \u001b[0;34m=\u001b[0m \u001b[0msns\u001b[0m\u001b[0;34m.\u001b[0m\u001b[0mbarplot\u001b[0m\u001b[0;34m(\u001b[0m\u001b[0mx\u001b[0m\u001b[0;34m=\u001b[0m\u001b[0;34m\"Class\"\u001b[0m\u001b[0;34m,\u001b[0m \u001b[0my\u001b[0m\u001b[0;34m=\u001b[0m\u001b[0;34m\"Value\"\u001b[0m\u001b[0;34m,\u001b[0m \u001b[0mhue\u001b[0m\u001b[0;34m=\u001b[0m\u001b[0;34m\"Label\"\u001b[0m \u001b[0;34m,\u001b[0m\u001b[0mdata\u001b[0m\u001b[0;34m=\u001b[0m\u001b[0mdata\u001b[0m\u001b[0;34m)\u001b[0m\u001b[0;34m\u001b[0m\u001b[0;34m\u001b[0m\u001b[0m\n",
            "\u001b[0;31mTypeError\u001b[0m: 'int' object is not iterable"
          ]
        }
      ],
      "source": [
        "data = pd.DataFrame({\"Class\": labels, \"Label\": \"Positive\", \"Value\": freq_pos})\n",
        "data = data.append([{\"Class\": labels[l], \"Label\": \"Negative\", \"Value\": v} for l,v in enumerate(freq_neg)], ignore_index=True)\n",
        "plt.xticks(rotation=90)\n",
        "f = sns.barplot(x=\"Class\", y=\"Value\", hue=\"Label\" ,data=data)"
      ]
    },
    {
      "cell_type": "code",
      "execution_count": null,
      "metadata": {
        "colab": {
          "base_uri": "https://localhost:8080/",
          "height": 217
        },
        "id": "PZQf398UTbNq",
        "outputId": "412edfd0-dda4-4c56-ed48-5e38e530ba4e"
      },
      "outputs": [
        {
          "ename": "TypeError",
          "evalue": "ignored",
          "output_type": "error",
          "traceback": [
            "\u001b[0;31m---------------------------------------------------------------------------\u001b[0m",
            "\u001b[0;31mTypeError\u001b[0m                                 Traceback (most recent call last)",
            "\u001b[0;32m<ipython-input-80-abb490958237>\u001b[0m in \u001b[0;36m<module>\u001b[0;34m()\u001b[0m\n\u001b[1;32m      1\u001b[0m \u001b[0mpos_weights\u001b[0m \u001b[0;34m=\u001b[0m \u001b[0mfreq_neg\u001b[0m\u001b[0;34m\u001b[0m\u001b[0;34m\u001b[0m\u001b[0m\n\u001b[1;32m      2\u001b[0m \u001b[0mneg_weights\u001b[0m \u001b[0;34m=\u001b[0m \u001b[0mfreq_pos\u001b[0m\u001b[0;34m\u001b[0m\u001b[0;34m\u001b[0m\u001b[0m\n\u001b[0;32m----> 3\u001b[0;31m \u001b[0mpos_contribution\u001b[0m \u001b[0;34m=\u001b[0m \u001b[0mfreq_pos\u001b[0m \u001b[0;34m*\u001b[0m \u001b[0mpos_weights\u001b[0m\u001b[0;34m\u001b[0m\u001b[0;34m\u001b[0m\u001b[0m\n\u001b[0m\u001b[1;32m      4\u001b[0m \u001b[0mneg_contribution\u001b[0m \u001b[0;34m=\u001b[0m \u001b[0mfreq_neg\u001b[0m \u001b[0;34m*\u001b[0m \u001b[0mneg_weights\u001b[0m\u001b[0;34m\u001b[0m\u001b[0;34m\u001b[0m\u001b[0m\n",
            "\u001b[0;31mTypeError\u001b[0m: unsupported operand type(s) for *: 'NoneType' and 'NoneType'"
          ]
        }
      ],
      "source": [
        "pos_weights = freq_neg\n",
        "neg_weights = freq_pos\n",
        "pos_contribution = freq_pos * pos_weights \n",
        "neg_contribution = freq_neg * neg_weights"
      ]
    },
    {
      "cell_type": "code",
      "execution_count": null,
      "metadata": {
        "id": "TyjzFSFmUZIs"
      },
      "outputs": [],
      "source": [
        ""
      ]
    }
  ],
  "metadata": {
    "colab": {
      "name": "Pediatric_model.ipynb",
      "provenance": [],
      "mount_file_id": "1WX-T_3ZDpH3dUf1ODKgcyYHKSxNuLLOL",
      "authorship_tag": "ABX9TyPbY/RFUIvO6U8JwY1DyF+4",
      "include_colab_link": true
    },
    "kernelspec": {
      "display_name": "Python 3",
      "name": "python3"
    },
    "language_info": {
      "name": "python"
    }
  },
  "nbformat": 4,
  "nbformat_minor": 0
}